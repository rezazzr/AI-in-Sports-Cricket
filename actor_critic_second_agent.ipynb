{
  "nbformat": 4,
  "nbformat_minor": 0,
  "metadata": {
    "colab": {
      "name": "actor-critic-second-agent.ipynb",
      "version": "0.3.2",
      "views": {},
      "default_view": {},
      "provenance": []
    },
    "kernelspec": {
      "name": "python3",
      "display_name": "Python 3"
    },
    "accelerator": "GPU"
  },
  "cells": [
    {
      "metadata": {
        "id": "MSTjbSrh_NBJ",
        "colab_type": "text"
      },
      "cell_type": "markdown",
      "source": [
        "# Actor-Critic (AC) \n",
        "Below we will implement the actor-critic method with eligibility traces for the second agent. The implementation has $3$ main parts as follows:\n",
        "\n",
        "\n",
        "*   **Helper Function:** Here we will import the libraries we need and implement our helper functions\n",
        "*   **Implementation of (AC):** In this part we will implement the (AC) method used for the learning of the second agent\n",
        "*   **Results**: Using the (AC) method, we will train the agent and produce our plots here\n",
        "\n"
      ]
    },
    {
      "metadata": {
        "id": "9gInkSfeI2Hq",
        "colab_type": "text"
      },
      "cell_type": "markdown",
      "source": [
        "## Helper Function"
      ]
    },
    {
      "metadata": {
        "id": "U3yPZDws_Vvh",
        "colab_type": "text"
      },
      "cell_type": "markdown",
      "source": [
        "### Uploading The Environment\n",
        "Below we will upload the environment from our repository and import the libraries we need as well."
      ]
    },
    {
      "metadata": {
        "id": "4DQgreZoy-og",
        "colab_type": "code",
        "colab": {
          "autoexec": {
            "startup": false,
            "wait_interval": 0
          },
          "base_uri": "https://localhost:8080/",
          "height": 102
        },
        "outputId": "3408bca7-4afd-4f75-85cf-656f4f4329ef",
        "executionInfo": {
          "status": "ok",
          "timestamp": 1524408794990,
          "user_tz": 240,
          "elapsed": 1932,
          "user": {
            "displayName": "Reza Davari",
            "photoUrl": "//lh5.googleusercontent.com/-QVkbnQn2wK4/AAAAAAAAAAI/AAAAAAAAAFA/kgVC69JIYw4/s50-c-k-no/photo.jpg",
            "userId": "106412143772601057521"
          }
        }
      },
      "cell_type": "code",
      "source": [
        "!rm -rf comp-767-Final-Project/; git clone https://github.com/navin-mordani/comp-767-Final-Project.git; cp comp-767-Final-Project/environments.py ."
      ],
      "execution_count": 1,
      "outputs": [
        {
          "output_type": "stream",
          "text": [
            "Cloning into 'comp-767-Final-Project'...\n",
            "remote: Counting objects: 59, done.\u001b[K\n",
            "remote: Compressing objects: 100% (31/31), done.\u001b[K\n",
            "remote: Total 59 (delta 12), reused 39 (delta 10), pack-reused 17\u001b[K\n",
            "Unpacking objects: 100% (59/59), done.\n"
          ],
          "name": "stdout"
        }
      ]
    },
    {
      "metadata": {
        "id": "EZW2-0ur_wWy",
        "colab_type": "code",
        "colab": {
          "autoexec": {
            "startup": false,
            "wait_interval": 0
          }
        }
      },
      "cell_type": "code",
      "source": [
        "import numpy as np\n",
        "from copy import deepcopy\n",
        "from matplotlib import pyplot as plt\n",
        "from environments import EnvSetTarget\n",
        "from environments import EnvChaseTarget\n",
        "import random\n",
        "import sys\n",
        "import os\n",
        "from scipy.stats import bernoulli"
      ],
      "execution_count": 0,
      "outputs": []
    },
    {
      "metadata": {
        "id": "my2Wj1lfFLOA",
        "colab_type": "text"
      },
      "cell_type": "markdown",
      "source": [
        "### Random Step Taker\n",
        "Below is a simple function that allows us to take a random action in the environment."
      ]
    },
    {
      "metadata": {
        "id": "eDLBVglMFNwe",
        "colab_type": "code",
        "colab": {
          "autoexec": {
            "startup": false,
            "wait_interval": 0
          }
        }
      },
      "cell_type": "code",
      "source": [
        "def random_step(max_step):\n",
        "  return random.randint(0,max_step)\n"
      ],
      "execution_count": 0,
      "outputs": []
    },
    {
      "metadata": {
        "id": "I-JURDYDGUFH",
        "colab_type": "text"
      },
      "cell_type": "markdown",
      "source": [
        "### Random Target Producer\n",
        "Below is a simple function that generates a random target for the agent to chase."
      ]
    },
    {
      "metadata": {
        "id": "Q7ZzCF9oGYiy",
        "colab_type": "code",
        "colab": {
          "autoexec": {
            "startup": false,
            "wait_interval": 0
          }
        }
      },
      "cell_type": "code",
      "source": [
        "def random_target(max_target):\n",
        "  return random.randint(0,max_target)"
      ],
      "execution_count": 0,
      "outputs": []
    },
    {
      "metadata": {
        "id": "t7ddMQ9RjZd7",
        "colab_type": "text"
      },
      "cell_type": "markdown",
      "source": [
        "### Softmax Function:\n",
        "Below is a Softmax function, specifically designed for our purposes in the learning of the second agent. It takes in a feature vector $x$ and paramter vector $\\theta$ then it returns the softmax of actions 0, 1, 2, 3 in an array."
      ]
    },
    {
      "metadata": {
        "id": "-HWvHw8mBeC7",
        "colab_type": "code",
        "colab": {
          "autoexec": {
            "startup": false,
            "wait_interval": 0
          }
        }
      },
      "cell_type": "code",
      "source": [
        "def action4_softmax(x,theta):\n",
        "  act0=np.exp(np.dot(np.append(x,np.array([1,0,0,0])),theta))\n",
        "  act1=np.exp(np.dot(np.append(x,np.array([0,1,0,0])),theta))\n",
        "  act2=np.exp(np.dot(np.append(x,np.array([0,0,1,0])),theta))\n",
        "  act3=np.exp(np.dot(np.append(x,np.array([0,0,0,1])),theta))\n",
        "  act_sum=act0+act1+act2+act3\n",
        "  softmax_return=np.array([act0/act_sum,act1/act_sum,act2/act_sum,act3/act_sum,])\n",
        "  return softmax_return"
      ],
      "execution_count": 0,
      "outputs": []
    },
    {
      "metadata": {
        "id": "eaYXCls6y2l5",
        "colab_type": "text"
      },
      "cell_type": "markdown",
      "source": [
        "### Picking an Action\n",
        "The function below takes as input a vector of probabilities of actions, then based on those probabilities it picks an action and returns it."
      ]
    },
    {
      "metadata": {
        "id": "Z119cxWjGfBb",
        "colab_type": "code",
        "colab": {
          "autoexec": {
            "startup": false,
            "wait_interval": 0
          }
        }
      },
      "cell_type": "code",
      "source": [
        "def choos_action(x):\n",
        "  y=np.zeros(x.size)\n",
        "  a=random.random()\n",
        "  for i in range(x.size):\n",
        "    y[i]=np.sum(x[:i+1])\n",
        "    if a<=y[i]:\n",
        "      return i"
      ],
      "execution_count": 0,
      "outputs": []
    },
    {
      "metadata": {
        "id": "89H_fikSBlkT",
        "colab_type": "text"
      },
      "cell_type": "markdown",
      "source": [
        "## Actor-Critic with Eligibility Traces (episodic)\n",
        "Below function is based on the algorithm in Sattun and Barto page $274$. It runs the algorithm for one episode of the problem and then returns the parameters $\\theta$ and $w$ at the end of that episod along with whether the episod was a success or failur (i.e. the reward of $+1$ or $-1$)\n",
        "\n",
        "The actor is defined as:$$\\pi(a|s,\\theta)=softmax(h(s,a,\\theta))$$\n",
        "Where $h$ is the parameterized numerical preferences for each state-action pair. We define $h$ to be:\n",
        "$$\\theta^Tx(s,a)$$\n",
        "This means that we define our preferences to be linear in features. Where the feature vector $x$ is simply given by:\n",
        "$$[1,s,1,0,0,0]$$ $$[1,s,0,1,0,0]$$ $$[1,s,0,0,1,0]$$ $$[1,s,0,0,0,1]$$\n",
        "For action 1, 2, 3, 4 respectively. The vetor $s$ here indicates the state of the agent. Note that under this definition we have:\n",
        "$$\\nabla_\\theta\\mathrm{ln}\\pi(a|s,\\theta)=x(s,a)-\\sum_b\\pi(b|s,\\theta)x(s,b)$$\n",
        "The critic function $\\hat{v}(s,w)$ is given by $w^Tx(s)$ where $x(s)$ is the degree 1 polynomial feature of state $s$, therfore we have: $$x(s)=[1,s]$$. Note that in this definition we have: $$\\nabla_w\\hat{v}(s,a)=x(s)$$"
      ]
    },
    {
      "metadata": {
        "id": "TwT5EedEriNf",
        "colab_type": "code",
        "colab": {
          "autoexec": {
            "startup": false,
            "wait_interval": 0
          }
        }
      },
      "cell_type": "code",
      "source": [
        "def actor_critic_F(gamma,lambda_theta,lambda_w,alpha_theta,alpha_w,theta,w,max_target=36):\n",
        "  target=random_target(max_target)\n",
        "  env = EnvChaseTarget(6,2,target)\n",
        "  observation_old = env.reset(target)\n",
        "  z_theta=np.zeros(theta.size)\n",
        "  z_w=np.zeros(w.size)\n",
        "  I=1\n",
        "  done=False\n",
        "  while not done:\n",
        "    x_old=np.append(1,observation_old)    \n",
        "    action=choos_action(action4_softmax(x_old,theta))\n",
        "    if action==0:\n",
        "      action_f=np.array([1,0,0,0])\n",
        "    if action==1:\n",
        "      action_f=np.array([0,1,0,0])\n",
        "    if action==2:\n",
        "      action_f=np.array([0,0,1,0])\n",
        "    if action==3:\n",
        "      action_f=np.array([0,0,0,1])      \n",
        "    observation_new, reward, done, info = env.step(action)\n",
        "    if observation_new[2]<0:\n",
        "      observation_new[2]=0\n",
        "    x_new=np.append(1,observation_new)\n",
        "    if done:\n",
        "      delta=reward-np.dot(x_old,w)\n",
        "    else:\n",
        "      delta=reward+gamma*(np.dot(x_new,w))-np.dot(x_old,w)\n",
        "    z_w=gamma*lambda_w*z_w+I*x_old\n",
        "    z_theta=gamma*lambda_theta*z_theta+I*(np.append(x_old,action_f)-action4_softmax(x_old,theta)[0]*np.append(x_old,np.array([1,0,0,0]))\n",
        "                                          -action4_softmax(x_old,theta)[1]*np.append(x_old,np.array([0,1,0,0]))\n",
        "                                         -action4_softmax(x_old,theta)[2]*np.append(x_old,np.array([0,0,1,0]))\n",
        "                                         -action4_softmax(x_old,theta)[3]*np.append(x_old,np.array([0,0,0,1])))\n",
        "    w=w+alpha_w*delta*z_w\n",
        "    theta=theta+alpha_theta*delta*z_theta\n",
        "    I=gamma*I\n",
        "    observation_old=observation_new\n",
        "    if done:\n",
        "      break\n",
        "  return theta, w, reward"
      ],
      "execution_count": 0,
      "outputs": []
    },
    {
      "metadata": {
        "id": "FY3pRvC8K93F",
        "colab_type": "text"
      },
      "cell_type": "markdown",
      "source": [
        "## Results\n",
        "In this section we will simulate the environment for our (AC) method to investiage the quality of its learning. This section has 3 parts as follows:\n",
        "\n",
        "\n",
        "1.   **Test on Random Policy**: In this section we investigate the return of the environment of ranodm policy\n",
        "2.   **AC Performance:** Here we will investigate the performance of the (AC) on the environment\n",
        "3.   **Plots**: Produce a few plots here\n",
        "\n"
      ]
    },
    {
      "metadata": {
        "id": "FF5vedEcAFBp",
        "colab_type": "text"
      },
      "cell_type": "markdown",
      "source": [
        "### Test On Random Policy\n",
        "Note that in this environment the maximum score any agent can achieve is $6\\times 6=36$ with the probability of $(0.6)^6=0.046656$ or $4.6656\\%$. Below we will compute the average return of the second player over $1,000,000$ episodes given that he plays randomly and the target he needs to achieve is randomly chosen."
      ]
    },
    {
      "metadata": {
        "id": "bAmvRKbBAPKJ",
        "colab_type": "code",
        "colab": {
          "autoexec": {
            "startup": false,
            "wait_interval": 0
          },
          "base_uri": "https://localhost:8080/",
          "height": 34
        },
        "outputId": "c693c25f-f5d0-4307-c8b0-6155aaf538ab",
        "executionInfo": {
          "status": "ok",
          "timestamp": 1524408866215,
          "user_tz": 240,
          "elapsed": 65765,
          "user": {
            "displayName": "Reza Davari",
            "photoUrl": "//lh5.googleusercontent.com/-QVkbnQn2wK4/AAAAAAAAAAI/AAAAAAAAAFA/kgVC69JIYw4/s50-c-k-no/photo.jpg",
            "userId": "106412143772601057521"
          }
        }
      },
      "cell_type": "code",
      "source": [
        "epochs=1000000\n",
        "max_target=36\n",
        "avg_reward=0\n",
        "for i in range(epochs):\n",
        "  done=False\n",
        "  target=random_target(max_target)\n",
        "#  target=25\n",
        "  env=EnvChaseTarget(6,2,target)\n",
        "  initial_state=np.array([0,0,target])\n",
        "  while not done:  \n",
        "    action = random_step(3)\n",
        "    observation, reward, done, info = env.step(action)\n",
        "  avg_reward=avg_reward+reward\n",
        "avg_reward=avg_reward/epochs\n",
        "print(avg_reward)"
      ],
      "execution_count": 5,
      "outputs": [
        {
          "output_type": "stream",
          "text": [
            "-0.244094\n"
          ],
          "name": "stdout"
        }
      ]
    },
    {
      "metadata": {
        "id": "ypI3wBlW7014",
        "colab_type": "text"
      },
      "cell_type": "markdown",
      "source": [
        "### Actor-Critic Performance\n",
        "Below we will investigate the perfomance of the (AC) method over a total of a little less than $5\\mathrm{M}$ episodes averaged 10 times. Note that since this code was ran in google colab, we had to break the loops into smaller pieaces so that the server does not disconnect us. "
      ]
    },
    {
      "metadata": {
        "id": "ahCWCxSdp8u0",
        "colab_type": "code",
        "colab": {
          "autoexec": {
            "startup": false,
            "wait_interval": 0
          },
          "base_uri": "https://localhost:8080/",
          "height": 187
        },
        "collapsed": true,
        "outputId": "f2cf0e15-7ddd-4463-b14a-9cc01022621f",
        "executionInfo": {
          "status": "ok",
          "timestamp": 1524409006169,
          "user_tz": 240,
          "elapsed": 137377,
          "user": {
            "displayName": "Reza Davari",
            "photoUrl": "//lh5.googleusercontent.com/-QVkbnQn2wK4/AAAAAAAAAAI/AAAAAAAAAFA/kgVC69JIYw4/s50-c-k-no/photo.jpg",
            "userId": "106412143772601057521"
          }
        }
      },
      "cell_type": "code",
      "source": [
        "gamma=0.1\n",
        "lambda_theta=0.5\n",
        "lambda_w=lambda_theta\n",
        "alpha_theta=0.0001\n",
        "alpha_w=0.001\n",
        "number_of_episods=10000\n",
        "number_of_runs_for_average=10\n",
        "average_success_v0=np.zeros(number_of_runs_for_average)\n",
        "\n",
        "for n in range(number_of_runs_for_average):\n",
        "  print(\"processing: \",((n+1)*100)/number_of_runs_for_average,\"% of the work\")\n",
        "  theta=np.zeros(8)\n",
        "  w=np.zeros(4)\n",
        "  r_t=0\n",
        "  for i in range(number_of_episods):\n",
        "    theta,w,temp=actor_critic_F(gamma,lambda_theta,lambda_w,alpha_theta,alpha_w,theta,w)\n",
        "    r_t+=temp\n",
        "  r_t=r_t/number_of_episods\n",
        "  average_success_v0[n]=r_t"
      ],
      "execution_count": 9,
      "outputs": [
        {
          "output_type": "stream",
          "text": [
            "processing:  10.0 % of the work\n",
            "processing:  20.0 % of the work\n",
            "processing:  30.0 % of the work\n",
            "processing:  40.0 % of the work\n",
            "processing:  50.0 % of the work\n",
            "processing:  60.0 % of the work\n",
            "processing:  70.0 % of the work\n",
            "processing:  80.0 % of the work\n",
            "processing:  90.0 % of the work\n",
            "processing:  100.0 % of the work\n"
          ],
          "name": "stdout"
        }
      ]
    },
    {
      "metadata": {
        "id": "w31xLqg8z_Eo",
        "colab_type": "code",
        "colab": {
          "autoexec": {
            "startup": false,
            "wait_interval": 0
          },
          "base_uri": "https://localhost:8080/",
          "height": 51
        },
        "outputId": "fe858909-5f07-4e95-d957-95a11b609308",
        "executionInfo": {
          "status": "ok",
          "timestamp": 1524409006851,
          "user_tz": 240,
          "elapsed": 393,
          "user": {
            "displayName": "Reza Davari",
            "photoUrl": "//lh5.googleusercontent.com/-QVkbnQn2wK4/AAAAAAAAAAI/AAAAAAAAAFA/kgVC69JIYw4/s50-c-k-no/photo.jpg",
            "userId": "106412143772601057521"
          }
        }
      },
      "cell_type": "code",
      "source": [
        "avg_method=np.array([avg_reward])\n",
        "improvement_method=np.array([0])\n",
        "\n",
        "avg_method=np.append(avg_method,np.average(average_success_v0))\n",
        "temp=((np.average(average_success_v0)-avg_reward)/(-avg_reward))*100\n",
        "improvement_method=np.append(improvement_method,temp)\n",
        "\n",
        "print(avg_method)\n",
        "print(improvement_method)"
      ],
      "execution_count": 10,
      "outputs": [
        {
          "output_type": "stream",
          "text": [
            "[-0.244094 -0.2424  ]\n",
            "[0.         0.69399494]\n"
          ],
          "name": "stdout"
        }
      ]
    },
    {
      "metadata": {
        "id": "4h-B-FmV4ooc",
        "colab_type": "code",
        "colab": {
          "autoexec": {
            "startup": false,
            "wait_interval": 0
          },
          "base_uri": "https://localhost:8080/",
          "height": 187
        },
        "collapsed": true,
        "outputId": "3f400d38-2a5c-4278-a0c6-744ac393b522",
        "executionInfo": {
          "status": "ok",
          "timestamp": 1524409143841,
          "user_tz": 240,
          "elapsed": 136591,
          "user": {
            "displayName": "Reza Davari",
            "photoUrl": "//lh5.googleusercontent.com/-QVkbnQn2wK4/AAAAAAAAAAI/AAAAAAAAAFA/kgVC69JIYw4/s50-c-k-no/photo.jpg",
            "userId": "106412143772601057521"
          }
        }
      },
      "cell_type": "code",
      "source": [
        "gamma=0.1\n",
        "lambda_theta=0.5\n",
        "lambda_w=lambda_theta\n",
        "alpha_theta=0.0001\n",
        "alpha_w=0.001\n",
        "number_of_episods=100000\n",
        "number_of_runs_for_average=10\n",
        "average_success_v0=np.zeros(number_of_runs_for_average)\n",
        "theta_saved=theta\n",
        "w_saved=w\n",
        "\n",
        "for n in range(number_of_runs_for_average):\n",
        "  print(\"processing: \",((n+1)*100)/number_of_runs_for_average,\"% of the work\")\n",
        "  theta=theta_saved\n",
        "  w=w_saved\n",
        "  r_t=0\n",
        "  for i in range(number_of_episods):\n",
        "    theta,w,temp=actor_critic_F(gamma,lambda_theta,lambda_w,alpha_theta,alpha_w,theta,w)\n",
        "    r_t+=temp\n",
        "  r_t=r_t/number_of_episods\n",
        "  average_success_v0[n]=r_t"
      ],
      "execution_count": 11,
      "outputs": [
        {
          "output_type": "stream",
          "text": [
            "processing:  10.0 % of the work\n",
            "processing:  20.0 % of the work\n",
            "processing:  30.0 % of the work\n",
            "processing:  40.0 % of the work\n",
            "processing:  50.0 % of the work\n",
            "processing:  60.0 % of the work\n",
            "processing:  70.0 % of the work\n",
            "processing:  80.0 % of the work\n",
            "processing:  90.0 % of the work\n",
            "processing:  100.0 % of the work\n"
          ],
          "name": "stdout"
        }
      ]
    },
    {
      "metadata": {
        "id": "oYcZAOCY4tr8",
        "colab_type": "code",
        "colab": {
          "autoexec": {
            "startup": false,
            "wait_interval": 0
          },
          "base_uri": "https://localhost:8080/",
          "height": 51
        },
        "outputId": "2e535e2d-c5be-476a-83b1-25ab3544aaeb",
        "executionInfo": {
          "status": "ok",
          "timestamp": 1524409144428,
          "user_tz": 240,
          "elapsed": 367,
          "user": {
            "displayName": "Reza Davari",
            "photoUrl": "//lh5.googleusercontent.com/-QVkbnQn2wK4/AAAAAAAAAAI/AAAAAAAAAFA/kgVC69JIYw4/s50-c-k-no/photo.jpg",
            "userId": "106412143772601057521"
          }
        }
      },
      "cell_type": "code",
      "source": [
        "avg_method=np.append(avg_method,np.average(average_success_v0))\n",
        "temp=((np.average(average_success_v0)-avg_reward)/(-avg_reward))*100\n",
        "improvement_method=np.append(improvement_method,temp)\n",
        "\n",
        "print(avg_method)\n",
        "print(improvement_method)"
      ],
      "execution_count": 12,
      "outputs": [
        {
          "output_type": "stream",
          "text": [
            "[-0.244094 -0.2424   -0.23904 ]\n",
            "[0.         0.69399494 2.07051382]\n"
          ],
          "name": "stdout"
        }
      ]
    },
    {
      "metadata": {
        "id": "aWn5lwPm5D5K",
        "colab_type": "code",
        "colab": {
          "autoexec": {
            "startup": false,
            "wait_interval": 0
          },
          "base_uri": "https://localhost:8080/",
          "height": 187
        },
        "collapsed": true,
        "outputId": "1cceba57-d4a0-4055-dfe3-f7d15ee8df19",
        "executionInfo": {
          "status": "ok",
          "timestamp": 1524409279964,
          "user_tz": 240,
          "elapsed": 135080,
          "user": {
            "displayName": "Reza Davari",
            "photoUrl": "//lh5.googleusercontent.com/-QVkbnQn2wK4/AAAAAAAAAAI/AAAAAAAAAFA/kgVC69JIYw4/s50-c-k-no/photo.jpg",
            "userId": "106412143772601057521"
          }
        }
      },
      "cell_type": "code",
      "source": [
        "gamma=0.1\n",
        "lambda_theta=0.5\n",
        "lambda_w=lambda_theta\n",
        "alpha_theta=0.0001\n",
        "alpha_w=0.001\n",
        "number_of_episods=100000\n",
        "number_of_runs_for_average=10\n",
        "average_success_v0=np.zeros(number_of_runs_for_average)\n",
        "theta_saved=theta\n",
        "w_saved=w\n",
        "\n",
        "for n in range(number_of_runs_for_average):\n",
        "  print(\"processing: \",((n+1)*100)/number_of_runs_for_average,\"% of the work\")\n",
        "  theta=theta_saved\n",
        "  w=w_saved\n",
        "  r_t=0\n",
        "  for i in range(number_of_episods):\n",
        "    theta,w,temp=actor_critic_F(gamma,lambda_theta,lambda_w,alpha_theta,alpha_w,theta,w)\n",
        "    r_t+=temp\n",
        "  r_t=r_t/number_of_episods\n",
        "  average_success_v0[n]=r_t"
      ],
      "execution_count": 13,
      "outputs": [
        {
          "output_type": "stream",
          "text": [
            "processing:  10.0 % of the work\n",
            "processing:  20.0 % of the work\n",
            "processing:  30.0 % of the work\n",
            "processing:  40.0 % of the work\n",
            "processing:  50.0 % of the work\n",
            "processing:  60.0 % of the work\n",
            "processing:  70.0 % of the work\n",
            "processing:  80.0 % of the work\n",
            "processing:  90.0 % of the work\n",
            "processing:  100.0 % of the work\n"
          ],
          "name": "stdout"
        }
      ]
    },
    {
      "metadata": {
        "id": "B0U8Erb95GMQ",
        "colab_type": "code",
        "colab": {
          "autoexec": {
            "startup": false,
            "wait_interval": 0
          },
          "base_uri": "https://localhost:8080/",
          "height": 51
        },
        "outputId": "c2c05642-f23d-4a5e-b4b3-9459f9fbb0e3",
        "executionInfo": {
          "status": "ok",
          "timestamp": 1524409280451,
          "user_tz": 240,
          "elapsed": 311,
          "user": {
            "displayName": "Reza Davari",
            "photoUrl": "//lh5.googleusercontent.com/-QVkbnQn2wK4/AAAAAAAAAAI/AAAAAAAAAFA/kgVC69JIYw4/s50-c-k-no/photo.jpg",
            "userId": "106412143772601057521"
          }
        }
      },
      "cell_type": "code",
      "source": [
        "avg_method=np.append(avg_method,np.average(average_success_v0))\n",
        "temp=((np.average(average_success_v0)-avg_reward)/(-avg_reward))*100\n",
        "improvement_method=np.append(improvement_method,temp)\n",
        "\n",
        "print(avg_method)\n",
        "print(improvement_method)"
      ],
      "execution_count": 14,
      "outputs": [
        {
          "output_type": "stream",
          "text": [
            "[-0.244094 -0.2424   -0.23904  -0.22024 ]\n",
            "[0.         0.69399494 2.07051382 9.77246471]\n"
          ],
          "name": "stdout"
        }
      ]
    },
    {
      "metadata": {
        "id": "YtAiiVYz620H",
        "colab_type": "code",
        "colab": {
          "autoexec": {
            "startup": false,
            "wait_interval": 0
          },
          "base_uri": "https://localhost:8080/",
          "height": 187
        },
        "collapsed": true,
        "outputId": "012218a3-9204-426d-e912-53991efe0e3a",
        "executionInfo": {
          "status": "ok",
          "timestamp": 1524409412545,
          "user_tz": 240,
          "elapsed": 131644,
          "user": {
            "displayName": "Reza Davari",
            "photoUrl": "//lh5.googleusercontent.com/-QVkbnQn2wK4/AAAAAAAAAAI/AAAAAAAAAFA/kgVC69JIYw4/s50-c-k-no/photo.jpg",
            "userId": "106412143772601057521"
          }
        }
      },
      "cell_type": "code",
      "source": [
        "gamma=0.1\n",
        "lambda_theta=0.5\n",
        "lambda_w=lambda_theta\n",
        "alpha_theta=0.0001\n",
        "alpha_w=0.001\n",
        "number_of_episods=100000\n",
        "number_of_runs_for_average=10\n",
        "average_success_v0=np.zeros(number_of_runs_for_average)\n",
        "theta_saved=theta\n",
        "w_saved=w\n",
        "\n",
        "for n in range(number_of_runs_for_average):\n",
        "  print(\"processing: \",((n+1)*100)/number_of_runs_for_average,\"% of the work\")\n",
        "  theta=theta_saved\n",
        "  w=w_saved\n",
        "  r_t=0\n",
        "  for i in range(number_of_episods):\n",
        "    theta,w,temp=actor_critic_F(gamma,lambda_theta,lambda_w,alpha_theta,alpha_w,theta,w)\n",
        "    r_t+=temp\n",
        "  r_t=r_t/number_of_episods\n",
        "  average_success_v0[n]=r_t"
      ],
      "execution_count": 15,
      "outputs": [
        {
          "output_type": "stream",
          "text": [
            "processing:  10.0 % of the work\n",
            "processing:  20.0 % of the work\n",
            "processing:  30.0 % of the work\n",
            "processing:  40.0 % of the work\n",
            "processing:  50.0 % of the work\n",
            "processing:  60.0 % of the work\n",
            "processing:  70.0 % of the work\n",
            "processing:  80.0 % of the work\n",
            "processing:  90.0 % of the work\n",
            "processing:  100.0 % of the work\n"
          ],
          "name": "stdout"
        }
      ]
    },
    {
      "metadata": {
        "id": "-wWm09RO64kX",
        "colab_type": "code",
        "colab": {
          "autoexec": {
            "startup": false,
            "wait_interval": 0
          },
          "base_uri": "https://localhost:8080/",
          "height": 51
        },
        "outputId": "f15bf9ce-c2e4-49c6-ad50-0f4428fd5622",
        "executionInfo": {
          "status": "ok",
          "timestamp": 1524409413225,
          "user_tz": 240,
          "elapsed": 459,
          "user": {
            "displayName": "Reza Davari",
            "photoUrl": "//lh5.googleusercontent.com/-QVkbnQn2wK4/AAAAAAAAAAI/AAAAAAAAAFA/kgVC69JIYw4/s50-c-k-no/photo.jpg",
            "userId": "106412143772601057521"
          }
        }
      },
      "cell_type": "code",
      "source": [
        "avg_method=np.append(avg_method,np.average(average_success_v0))\n",
        "temp=((np.average(average_success_v0)-avg_reward)/(-avg_reward))*100\n",
        "improvement_method=np.append(improvement_method,temp)\n",
        "\n",
        "print(avg_method)\n",
        "print(improvement_method)"
      ],
      "execution_count": 16,
      "outputs": [
        {
          "output_type": "stream",
          "text": [
            "[-0.244094 -0.2424   -0.23904  -0.22024  -0.20586 ]\n",
            "[ 0.          0.69399494  2.07051382  9.77246471 15.66363778]\n"
          ],
          "name": "stdout"
        }
      ]
    },
    {
      "metadata": {
        "id": "9_yp7j9o67UV",
        "colab_type": "code",
        "colab": {
          "autoexec": {
            "startup": false,
            "wait_interval": 0
          },
          "base_uri": "https://localhost:8080/",
          "height": 187
        },
        "collapsed": true,
        "outputId": "337f3ea8-a633-4f04-dde4-1240fdf1701c",
        "executionInfo": {
          "status": "ok",
          "timestamp": 1524409545713,
          "user_tz": 240,
          "elapsed": 131987,
          "user": {
            "displayName": "Reza Davari",
            "photoUrl": "//lh5.googleusercontent.com/-QVkbnQn2wK4/AAAAAAAAAAI/AAAAAAAAAFA/kgVC69JIYw4/s50-c-k-no/photo.jpg",
            "userId": "106412143772601057521"
          }
        }
      },
      "cell_type": "code",
      "source": [
        "gamma=0.1\n",
        "lambda_theta=0.5\n",
        "lambda_w=lambda_theta\n",
        "alpha_theta=0.0001\n",
        "alpha_w=0.001\n",
        "number_of_episods=100000\n",
        "number_of_runs_for_average=10\n",
        "average_success_v0=np.zeros(number_of_runs_for_average)\n",
        "theta_saved=theta\n",
        "w_saved=w\n",
        "\n",
        "for n in range(number_of_runs_for_average):\n",
        "  print(\"processing: \",((n+1)*100)/number_of_runs_for_average,\"% of the work\")\n",
        "  theta=theta_saved\n",
        "  w=w_saved\n",
        "  r_t=0\n",
        "  for i in range(number_of_episods):\n",
        "    theta,w,temp=actor_critic_F(gamma,lambda_theta,lambda_w,alpha_theta,alpha_w,theta,w)\n",
        "    r_t+=temp\n",
        "  r_t=r_t/number_of_episods\n",
        "  average_success_v0[n]=r_t"
      ],
      "execution_count": 17,
      "outputs": [
        {
          "output_type": "stream",
          "text": [
            "processing:  10.0 % of the work\n",
            "processing:  20.0 % of the work\n",
            "processing:  30.0 % of the work\n",
            "processing:  40.0 % of the work\n",
            "processing:  50.0 % of the work\n",
            "processing:  60.0 % of the work\n",
            "processing:  70.0 % of the work\n",
            "processing:  80.0 % of the work\n",
            "processing:  90.0 % of the work\n",
            "processing:  100.0 % of the work\n"
          ],
          "name": "stdout"
        }
      ]
    },
    {
      "metadata": {
        "id": "gb8UUV1969Li",
        "colab_type": "code",
        "colab": {
          "autoexec": {
            "startup": false,
            "wait_interval": 0
          },
          "base_uri": "https://localhost:8080/",
          "height": 51
        },
        "outputId": "e020b31f-9aa7-42d2-c278-fc66976aeadc",
        "executionInfo": {
          "status": "ok",
          "timestamp": 1524409546297,
          "user_tz": 240,
          "elapsed": 367,
          "user": {
            "displayName": "Reza Davari",
            "photoUrl": "//lh5.googleusercontent.com/-QVkbnQn2wK4/AAAAAAAAAAI/AAAAAAAAAFA/kgVC69JIYw4/s50-c-k-no/photo.jpg",
            "userId": "106412143772601057521"
          }
        }
      },
      "cell_type": "code",
      "source": [
        "avg_method=np.append(avg_method,np.average(average_success_v0))\n",
        "temp=((np.average(average_success_v0)-avg_reward)/(-avg_reward))*100\n",
        "improvement_method=np.append(improvement_method,temp)\n",
        "\n",
        "print(avg_method)\n",
        "print(improvement_method)"
      ],
      "execution_count": 18,
      "outputs": [
        {
          "output_type": "stream",
          "text": [
            "[-0.244094 -0.2424   -0.23904  -0.22024  -0.20586  -0.18986 ]\n",
            "[ 0.          0.69399494  2.07051382  9.77246471 15.66363778 22.2184896 ]\n"
          ],
          "name": "stdout"
        }
      ]
    },
    {
      "metadata": {
        "id": "ZM7ZWGv87ckz",
        "colab_type": "code",
        "colab": {
          "autoexec": {
            "startup": false,
            "wait_interval": 0
          },
          "base_uri": "https://localhost:8080/",
          "height": 187
        },
        "collapsed": true,
        "outputId": "609aaffd-0897-4fc7-d14b-4a35e76ff8bb",
        "executionInfo": {
          "status": "ok",
          "timestamp": 1524409677964,
          "user_tz": 240,
          "elapsed": 131160,
          "user": {
            "displayName": "Reza Davari",
            "photoUrl": "//lh5.googleusercontent.com/-QVkbnQn2wK4/AAAAAAAAAAI/AAAAAAAAAFA/kgVC69JIYw4/s50-c-k-no/photo.jpg",
            "userId": "106412143772601057521"
          }
        }
      },
      "cell_type": "code",
      "source": [
        "gamma=0.1\n",
        "lambda_theta=0.5\n",
        "lambda_w=lambda_theta\n",
        "alpha_theta=0.0001\n",
        "alpha_w=0.001\n",
        "number_of_episods=100000\n",
        "number_of_runs_for_average=10\n",
        "average_success_v0=np.zeros(number_of_runs_for_average)\n",
        "theta_saved=theta\n",
        "w_saved=w\n",
        "\n",
        "for n in range(number_of_runs_for_average):\n",
        "  print(\"processing: \",((n+1)*100)/number_of_runs_for_average,\"% of the work\")\n",
        "  theta=theta_saved\n",
        "  w=w_saved\n",
        "  r_t=0\n",
        "  for i in range(number_of_episods):\n",
        "    theta,w,temp=actor_critic_F(gamma,lambda_theta,lambda_w,alpha_theta,alpha_w,theta,w)\n",
        "    r_t+=temp\n",
        "  r_t=r_t/number_of_episods\n",
        "  average_success_v0[n]=r_t"
      ],
      "execution_count": 19,
      "outputs": [
        {
          "output_type": "stream",
          "text": [
            "processing:  10.0 % of the work\n",
            "processing:  20.0 % of the work\n",
            "processing:  30.0 % of the work\n",
            "processing:  40.0 % of the work\n",
            "processing:  50.0 % of the work\n",
            "processing:  60.0 % of the work\n",
            "processing:  70.0 % of the work\n",
            "processing:  80.0 % of the work\n",
            "processing:  90.0 % of the work\n",
            "processing:  100.0 % of the work\n"
          ],
          "name": "stdout"
        }
      ]
    },
    {
      "metadata": {
        "id": "GiuGae0R8Dwr",
        "colab_type": "code",
        "colab": {
          "autoexec": {
            "startup": false,
            "wait_interval": 0
          },
          "base_uri": "https://localhost:8080/",
          "height": 68
        },
        "outputId": "57b7e556-820d-41a9-8809-075bdfd4e930",
        "executionInfo": {
          "status": "ok",
          "timestamp": 1524409678543,
          "user_tz": 240,
          "elapsed": 416,
          "user": {
            "displayName": "Reza Davari",
            "photoUrl": "//lh5.googleusercontent.com/-QVkbnQn2wK4/AAAAAAAAAAI/AAAAAAAAAFA/kgVC69JIYw4/s50-c-k-no/photo.jpg",
            "userId": "106412143772601057521"
          }
        }
      },
      "cell_type": "code",
      "source": [
        "avg_method=np.append(avg_method,np.average(average_success_v0))\n",
        "temp=((np.average(average_success_v0)-avg_reward)/(-avg_reward))*100\n",
        "improvement_method=np.append(improvement_method,temp)\n",
        "\n",
        "print(avg_method)\n",
        "print(improvement_method)"
      ],
      "execution_count": 20,
      "outputs": [
        {
          "output_type": "stream",
          "text": [
            "[-0.244094 -0.2424   -0.23904  -0.22024  -0.20586  -0.18986  -0.18036 ]\n",
            "[ 0.          0.69399494  2.07051382  9.77246471 15.66363778 22.2184896\n",
            " 26.11043287]\n"
          ],
          "name": "stdout"
        }
      ]
    },
    {
      "metadata": {
        "id": "ZSe6S1FN8G-0",
        "colab_type": "code",
        "colab": {
          "autoexec": {
            "startup": false,
            "wait_interval": 0
          },
          "base_uri": "https://localhost:8080/",
          "height": 187
        },
        "collapsed": true,
        "outputId": "78cffd9e-9974-4e97-8bbd-bc96f9b366d7",
        "executionInfo": {
          "status": "ok",
          "timestamp": 1524409808900,
          "user_tz": 240,
          "elapsed": 129952,
          "user": {
            "displayName": "Reza Davari",
            "photoUrl": "//lh5.googleusercontent.com/-QVkbnQn2wK4/AAAAAAAAAAI/AAAAAAAAAFA/kgVC69JIYw4/s50-c-k-no/photo.jpg",
            "userId": "106412143772601057521"
          }
        }
      },
      "cell_type": "code",
      "source": [
        "gamma=0.1\n",
        "lambda_theta=0.5\n",
        "lambda_w=lambda_theta\n",
        "alpha_theta=0.0001\n",
        "alpha_w=0.001\n",
        "number_of_episods=100000\n",
        "number_of_runs_for_average=10\n",
        "average_success_v0=np.zeros(number_of_runs_for_average)\n",
        "theta_saved=theta\n",
        "w_saved=w\n",
        "\n",
        "for n in range(number_of_runs_for_average):\n",
        "  print(\"processing: \",((n+1)*100)/number_of_runs_for_average,\"% of the work\")\n",
        "  theta=theta_saved\n",
        "  w=w_saved\n",
        "  r_t=0\n",
        "  for i in range(number_of_episods):\n",
        "    theta,w,temp=actor_critic_F(gamma,lambda_theta,lambda_w,alpha_theta,alpha_w,theta,w)\n",
        "    r_t+=temp\n",
        "  r_t=r_t/number_of_episods\n",
        "  average_success_v0[n]=r_t"
      ],
      "execution_count": 21,
      "outputs": [
        {
          "output_type": "stream",
          "text": [
            "processing:  10.0 % of the work\n",
            "processing:  20.0 % of the work\n",
            "processing:  30.0 % of the work\n",
            "processing:  40.0 % of the work\n",
            "processing:  50.0 % of the work\n",
            "processing:  60.0 % of the work\n",
            "processing:  70.0 % of the work\n",
            "processing:  80.0 % of the work\n",
            "processing:  90.0 % of the work\n",
            "processing:  100.0 % of the work\n"
          ],
          "name": "stdout"
        }
      ]
    },
    {
      "metadata": {
        "id": "2H5q0biv8JNI",
        "colab_type": "code",
        "colab": {
          "autoexec": {
            "startup": false,
            "wait_interval": 0
          },
          "base_uri": "https://localhost:8080/",
          "height": 85
        },
        "outputId": "f8e7117f-3dbf-4709-c0b7-0e98562091fe",
        "executionInfo": {
          "status": "ok",
          "timestamp": 1524409809505,
          "user_tz": 240,
          "elapsed": 381,
          "user": {
            "displayName": "Reza Davari",
            "photoUrl": "//lh5.googleusercontent.com/-QVkbnQn2wK4/AAAAAAAAAAI/AAAAAAAAAFA/kgVC69JIYw4/s50-c-k-no/photo.jpg",
            "userId": "106412143772601057521"
          }
        }
      },
      "cell_type": "code",
      "source": [
        "avg_method=np.append(avg_method,np.average(average_success_v0))\n",
        "temp=((np.average(average_success_v0)-avg_reward)/(-avg_reward))*100\n",
        "improvement_method=np.append(improvement_method,temp)\n",
        "\n",
        "print(avg_method)\n",
        "print(improvement_method)"
      ],
      "execution_count": 22,
      "outputs": [
        {
          "output_type": "stream",
          "text": [
            "[-0.244094 -0.2424   -0.23904  -0.22024  -0.20586  -0.18986  -0.18036\n",
            " -0.169   ]\n",
            "[ 0.          0.69399494  2.07051382  9.77246471 15.66363778 22.2184896\n",
            " 26.11043287 30.76437766]\n"
          ],
          "name": "stdout"
        }
      ]
    },
    {
      "metadata": {
        "id": "LneUrEsb8f7t",
        "colab_type": "code",
        "colab": {
          "autoexec": {
            "startup": false,
            "wait_interval": 0
          },
          "base_uri": "https://localhost:8080/",
          "height": 187
        },
        "collapsed": true,
        "outputId": "4a40b93a-1174-4202-ff38-4583a4430703",
        "executionInfo": {
          "status": "ok",
          "timestamp": 1524409937508,
          "user_tz": 240,
          "elapsed": 127539,
          "user": {
            "displayName": "Reza Davari",
            "photoUrl": "//lh5.googleusercontent.com/-QVkbnQn2wK4/AAAAAAAAAAI/AAAAAAAAAFA/kgVC69JIYw4/s50-c-k-no/photo.jpg",
            "userId": "106412143772601057521"
          }
        }
      },
      "cell_type": "code",
      "source": [
        "gamma=0.1\n",
        "lambda_theta=0.5\n",
        "lambda_w=lambda_theta\n",
        "alpha_theta=0.0001\n",
        "alpha_w=0.001\n",
        "number_of_episods=100000\n",
        "number_of_runs_for_average=10\n",
        "average_success_v0=np.zeros(number_of_runs_for_average)\n",
        "theta_saved=theta\n",
        "w_saved=w\n",
        "\n",
        "for n in range(number_of_runs_for_average):\n",
        "  print(\"processing: \",((n+1)*100)/number_of_runs_for_average,\"% of the work\")\n",
        "  theta=theta_saved\n",
        "  w=w_saved\n",
        "  r_t=0\n",
        "  for i in range(number_of_episods):\n",
        "    theta,w,temp=actor_critic_F(gamma,lambda_theta,lambda_w,alpha_theta,alpha_w,theta,w)\n",
        "    r_t+=temp\n",
        "  r_t=r_t/number_of_episods\n",
        "  average_success_v0[n]=r_t"
      ],
      "execution_count": 23,
      "outputs": [
        {
          "output_type": "stream",
          "text": [
            "processing:  10.0 % of the work\n",
            "processing:  20.0 % of the work\n",
            "processing:  30.0 % of the work\n",
            "processing:  40.0 % of the work\n",
            "processing:  50.0 % of the work\n",
            "processing:  60.0 % of the work\n",
            "processing:  70.0 % of the work\n",
            "processing:  80.0 % of the work\n",
            "processing:  90.0 % of the work\n",
            "processing:  100.0 % of the work\n"
          ],
          "name": "stdout"
        }
      ]
    },
    {
      "metadata": {
        "id": "eqZJEzKO8hao",
        "colab_type": "code",
        "colab": {
          "autoexec": {
            "startup": false,
            "wait_interval": 0
          },
          "base_uri": "https://localhost:8080/",
          "height": 85
        },
        "outputId": "f122b4c4-01d1-4c8d-f8fd-10e77dcb6835",
        "executionInfo": {
          "status": "ok",
          "timestamp": 1524409938018,
          "user_tz": 240,
          "elapsed": 340,
          "user": {
            "displayName": "Reza Davari",
            "photoUrl": "//lh5.googleusercontent.com/-QVkbnQn2wK4/AAAAAAAAAAI/AAAAAAAAAFA/kgVC69JIYw4/s50-c-k-no/photo.jpg",
            "userId": "106412143772601057521"
          }
        }
      },
      "cell_type": "code",
      "source": [
        "avg_method=np.append(avg_method,np.average(average_success_v0))\n",
        "temp=((np.average(average_success_v0)-avg_reward)/(-avg_reward))*100\n",
        "improvement_method=np.append(improvement_method,temp)\n",
        "\n",
        "print(avg_method)\n",
        "print(improvement_method)"
      ],
      "execution_count": 24,
      "outputs": [
        {
          "output_type": "stream",
          "text": [
            "[-0.244094 -0.2424   -0.23904  -0.22024  -0.20586  -0.18986  -0.18036\n",
            " -0.169    -0.15884 ]\n",
            "[ 0.          0.69399494  2.07051382  9.77246471 15.66363778 22.2184896\n",
            " 26.11043287 30.76437766 34.92670856]\n"
          ],
          "name": "stdout"
        }
      ]
    },
    {
      "metadata": {
        "id": "KiRd9RpS8-C1",
        "colab_type": "code",
        "colab": {
          "autoexec": {
            "startup": false,
            "wait_interval": 0
          },
          "base_uri": "https://localhost:8080/",
          "height": 187
        },
        "collapsed": true,
        "outputId": "8331a105-49c1-480c-9c26-36e9ef62065f",
        "executionInfo": {
          "status": "ok",
          "timestamp": 1524410065331,
          "user_tz": 240,
          "elapsed": 126839,
          "user": {
            "displayName": "Reza Davari",
            "photoUrl": "//lh5.googleusercontent.com/-QVkbnQn2wK4/AAAAAAAAAAI/AAAAAAAAAFA/kgVC69JIYw4/s50-c-k-no/photo.jpg",
            "userId": "106412143772601057521"
          }
        }
      },
      "cell_type": "code",
      "source": [
        "gamma=0.1\n",
        "lambda_theta=0.5\n",
        "lambda_w=lambda_theta\n",
        "alpha_theta=0.0001\n",
        "alpha_w=0.001\n",
        "number_of_episods=100000\n",
        "number_of_runs_for_average=10\n",
        "average_success_v0=np.zeros(number_of_runs_for_average)\n",
        "theta_saved=theta\n",
        "w_saved=w\n",
        "\n",
        "for n in range(number_of_runs_for_average):\n",
        "  print(\"processing: \",((n+1)*100)/number_of_runs_for_average,\"% of the work\")\n",
        "  theta=theta_saved\n",
        "  w=w_saved\n",
        "  r_t=0\n",
        "  for i in range(number_of_episods):\n",
        "    theta,w,temp=actor_critic_F(gamma,lambda_theta,lambda_w,alpha_theta,alpha_w,theta,w)\n",
        "    r_t+=temp\n",
        "  r_t=r_t/number_of_episods\n",
        "  average_success_v0[n]=r_t"
      ],
      "execution_count": 25,
      "outputs": [
        {
          "output_type": "stream",
          "text": [
            "processing:  10.0 % of the work\n",
            "processing:  20.0 % of the work\n",
            "processing:  30.0 % of the work\n",
            "processing:  40.0 % of the work\n",
            "processing:  50.0 % of the work\n",
            "processing:  60.0 % of the work\n",
            "processing:  70.0 % of the work\n",
            "processing:  80.0 % of the work\n",
            "processing:  90.0 % of the work\n",
            "processing:  100.0 % of the work\n"
          ],
          "name": "stdout"
        }
      ]
    },
    {
      "metadata": {
        "id": "0_Gt1Viy9AP_",
        "colab_type": "code",
        "colab": {
          "autoexec": {
            "startup": false,
            "wait_interval": 0
          },
          "base_uri": "https://localhost:8080/",
          "height": 85
        },
        "outputId": "97f81304-96bf-4b58-f566-35978eaa7432",
        "executionInfo": {
          "status": "ok",
          "timestamp": 1524410065835,
          "user_tz": 240,
          "elapsed": 340,
          "user": {
            "displayName": "Reza Davari",
            "photoUrl": "//lh5.googleusercontent.com/-QVkbnQn2wK4/AAAAAAAAAAI/AAAAAAAAAFA/kgVC69JIYw4/s50-c-k-no/photo.jpg",
            "userId": "106412143772601057521"
          }
        }
      },
      "cell_type": "code",
      "source": [
        "avg_method=np.append(avg_method,np.average(average_success_v0))\n",
        "temp=((np.average(average_success_v0)-avg_reward)/(-avg_reward))*100\n",
        "improvement_method=np.append(improvement_method,temp)\n",
        "\n",
        "print(avg_method)\n",
        "print(improvement_method)"
      ],
      "execution_count": 26,
      "outputs": [
        {
          "output_type": "stream",
          "text": [
            "[-0.244094 -0.2424   -0.23904  -0.22024  -0.20586  -0.18986  -0.18036\n",
            " -0.169    -0.15884  -0.14996 ]\n",
            "[ 0.          0.69399494  2.07051382  9.77246471 15.66363778 22.2184896\n",
            " 26.11043287 30.76437766 34.92670856 38.56465132]\n"
          ],
          "name": "stdout"
        }
      ]
    },
    {
      "metadata": {
        "id": "O-aWlfy79hlo",
        "colab_type": "code",
        "colab": {
          "autoexec": {
            "startup": false,
            "wait_interval": 0
          },
          "base_uri": "https://localhost:8080/",
          "height": 187
        },
        "collapsed": true,
        "outputId": "3d53b0e2-edfd-4a82-8519-749c4aaf90f5",
        "executionInfo": {
          "status": "ok",
          "timestamp": 1524410191360,
          "user_tz": 240,
          "elapsed": 125048,
          "user": {
            "displayName": "Reza Davari",
            "photoUrl": "//lh5.googleusercontent.com/-QVkbnQn2wK4/AAAAAAAAAAI/AAAAAAAAAFA/kgVC69JIYw4/s50-c-k-no/photo.jpg",
            "userId": "106412143772601057521"
          }
        }
      },
      "cell_type": "code",
      "source": [
        "gamma=0.1\n",
        "lambda_theta=0.5\n",
        "lambda_w=lambda_theta\n",
        "alpha_theta=0.0001\n",
        "alpha_w=0.001\n",
        "number_of_episods=100000\n",
        "number_of_runs_for_average=10\n",
        "average_success_v0=np.zeros(number_of_runs_for_average)\n",
        "theta_saved=theta\n",
        "w_saved=w\n",
        "\n",
        "for n in range(number_of_runs_for_average):\n",
        "  print(\"processing: \",((n+1)*100)/number_of_runs_for_average,\"% of the work\")\n",
        "  theta=theta_saved\n",
        "  w=w_saved\n",
        "  r_t=0\n",
        "  for i in range(number_of_episods):\n",
        "    theta,w,temp=actor_critic_F(gamma,lambda_theta,lambda_w,alpha_theta,alpha_w,theta,w)\n",
        "    r_t+=temp\n",
        "  r_t=r_t/number_of_episods\n",
        "  average_success_v0[n]=r_t"
      ],
      "execution_count": 27,
      "outputs": [
        {
          "output_type": "stream",
          "text": [
            "processing:  10.0 % of the work\n",
            "processing:  20.0 % of the work\n",
            "processing:  30.0 % of the work\n",
            "processing:  40.0 % of the work\n",
            "processing:  50.0 % of the work\n",
            "processing:  60.0 % of the work\n",
            "processing:  70.0 % of the work\n",
            "processing:  80.0 % of the work\n",
            "processing:  90.0 % of the work\n",
            "processing:  100.0 % of the work\n"
          ],
          "name": "stdout"
        }
      ]
    },
    {
      "metadata": {
        "id": "zTWfcDMh9jw-",
        "colab_type": "code",
        "colab": {
          "autoexec": {
            "startup": false,
            "wait_interval": 0
          },
          "base_uri": "https://localhost:8080/",
          "height": 85
        },
        "outputId": "c388c9ac-b6b9-4d99-e1db-96e0728764c8",
        "executionInfo": {
          "status": "ok",
          "timestamp": 1524410191981,
          "user_tz": 240,
          "elapsed": 408,
          "user": {
            "displayName": "Reza Davari",
            "photoUrl": "//lh5.googleusercontent.com/-QVkbnQn2wK4/AAAAAAAAAAI/AAAAAAAAAFA/kgVC69JIYw4/s50-c-k-no/photo.jpg",
            "userId": "106412143772601057521"
          }
        }
      },
      "cell_type": "code",
      "source": [
        "avg_method=np.append(avg_method,np.average(average_success_v0))\n",
        "temp=((np.average(average_success_v0)-avg_reward)/(-avg_reward))*100\n",
        "improvement_method=np.append(improvement_method,temp)\n",
        "\n",
        "print(avg_method)\n",
        "print(improvement_method)"
      ],
      "execution_count": 28,
      "outputs": [
        {
          "output_type": "stream",
          "text": [
            "[-0.244094 -0.2424   -0.23904  -0.22024  -0.20586  -0.18986  -0.18036\n",
            " -0.169    -0.15884  -0.14996  -0.14094 ]\n",
            "[ 0.          0.69399494  2.07051382  9.77246471 15.66363778 22.2184896\n",
            " 26.11043287 30.76437766 34.92670856 38.56465132 42.25994904]\n"
          ],
          "name": "stdout"
        }
      ]
    },
    {
      "metadata": {
        "id": "Q0f5dDgj95Sl",
        "colab_type": "code",
        "colab": {
          "autoexec": {
            "startup": false,
            "wait_interval": 0
          },
          "base_uri": "https://localhost:8080/",
          "height": 187
        },
        "collapsed": true,
        "outputId": "abe901e3-95b2-4edc-c767-069d7b033ec9",
        "executionInfo": {
          "status": "ok",
          "timestamp": 1524410317445,
          "user_tz": 240,
          "elapsed": 125010,
          "user": {
            "displayName": "Reza Davari",
            "photoUrl": "//lh5.googleusercontent.com/-QVkbnQn2wK4/AAAAAAAAAAI/AAAAAAAAAFA/kgVC69JIYw4/s50-c-k-no/photo.jpg",
            "userId": "106412143772601057521"
          }
        }
      },
      "cell_type": "code",
      "source": [
        "gamma=0.1\n",
        "lambda_theta=0.5\n",
        "lambda_w=lambda_theta\n",
        "alpha_theta=0.0001\n",
        "alpha_w=0.001\n",
        "number_of_episods=100000\n",
        "number_of_runs_for_average=10\n",
        "average_success_v0=np.zeros(number_of_runs_for_average)\n",
        "theta_saved=theta\n",
        "w_saved=w\n",
        "\n",
        "for n in range(number_of_runs_for_average):\n",
        "  print(\"processing: \",((n+1)*100)/number_of_runs_for_average,\"% of the work\")\n",
        "  theta=theta_saved\n",
        "  w=w_saved\n",
        "  r_t=0\n",
        "  for i in range(number_of_episods):\n",
        "    theta,w,temp=actor_critic_F(gamma,lambda_theta,lambda_w,alpha_theta,alpha_w,theta,w)\n",
        "    r_t+=temp\n",
        "  r_t=r_t/number_of_episods\n",
        "  average_success_v0[n]=r_t"
      ],
      "execution_count": 29,
      "outputs": [
        {
          "output_type": "stream",
          "text": [
            "processing:  10.0 % of the work\n",
            "processing:  20.0 % of the work\n",
            "processing:  30.0 % of the work\n",
            "processing:  40.0 % of the work\n",
            "processing:  50.0 % of the work\n",
            "processing:  60.0 % of the work\n",
            "processing:  70.0 % of the work\n",
            "processing:  80.0 % of the work\n",
            "processing:  90.0 % of the work\n",
            "processing:  100.0 % of the work\n"
          ],
          "name": "stdout"
        }
      ]
    },
    {
      "metadata": {
        "id": "7aHzsESw96-n",
        "colab_type": "code",
        "colab": {
          "autoexec": {
            "startup": false,
            "wait_interval": 0
          },
          "base_uri": "https://localhost:8080/",
          "height": 85
        },
        "outputId": "941a084e-bbce-4b2c-f5d5-c8af1817df7e",
        "executionInfo": {
          "status": "ok",
          "timestamp": 1524410318002,
          "user_tz": 240,
          "elapsed": 380,
          "user": {
            "displayName": "Reza Davari",
            "photoUrl": "//lh5.googleusercontent.com/-QVkbnQn2wK4/AAAAAAAAAAI/AAAAAAAAAFA/kgVC69JIYw4/s50-c-k-no/photo.jpg",
            "userId": "106412143772601057521"
          }
        }
      },
      "cell_type": "code",
      "source": [
        "avg_method=np.append(avg_method,np.average(average_success_v0))\n",
        "temp=((np.average(average_success_v0)-avg_reward)/(-avg_reward))*100\n",
        "improvement_method=np.append(improvement_method,temp)\n",
        "\n",
        "print(avg_method)\n",
        "print(improvement_method)"
      ],
      "execution_count": 30,
      "outputs": [
        {
          "output_type": "stream",
          "text": [
            "[-0.244094 -0.2424   -0.23904  -0.22024  -0.20586  -0.18986  -0.18036\n",
            " -0.169    -0.15884  -0.14996  -0.14094  -0.13526 ]\n",
            "[ 0.          0.69399494  2.07051382  9.77246471 15.66363778 22.2184896\n",
            " 26.11043287 30.76437766 34.92670856 38.56465132 42.25994904 44.58692143]\n"
          ],
          "name": "stdout"
        }
      ]
    },
    {
      "metadata": {
        "id": "4b7wNU7D-iU3",
        "colab_type": "code",
        "colab": {
          "autoexec": {
            "startup": false,
            "wait_interval": 0
          },
          "base_uri": "https://localhost:8080/",
          "height": 187
        },
        "collapsed": true,
        "outputId": "d0b2b2e5-726c-4b52-b010-9af73c8617a1",
        "executionInfo": {
          "status": "ok",
          "timestamp": 1524410442329,
          "user_tz": 240,
          "elapsed": 123898,
          "user": {
            "displayName": "Reza Davari",
            "photoUrl": "//lh5.googleusercontent.com/-QVkbnQn2wK4/AAAAAAAAAAI/AAAAAAAAAFA/kgVC69JIYw4/s50-c-k-no/photo.jpg",
            "userId": "106412143772601057521"
          }
        }
      },
      "cell_type": "code",
      "source": [
        "gamma=0.1\n",
        "lambda_theta=0.5\n",
        "lambda_w=lambda_theta\n",
        "alpha_theta=0.0001\n",
        "alpha_w=0.001\n",
        "number_of_episods=100000\n",
        "number_of_runs_for_average=10\n",
        "average_success_v0=np.zeros(number_of_runs_for_average)\n",
        "theta_saved=theta\n",
        "w_saved=w\n",
        "\n",
        "for n in range(number_of_runs_for_average):\n",
        "  print(\"processing: \",((n+1)*100)/number_of_runs_for_average,\"% of the work\")\n",
        "  theta=theta_saved\n",
        "  w=w_saved\n",
        "  r_t=0\n",
        "  for i in range(number_of_episods):\n",
        "    theta,w,temp=actor_critic_F(gamma,lambda_theta,lambda_w,alpha_theta,alpha_w,theta,w)\n",
        "    r_t+=temp\n",
        "  r_t=r_t/number_of_episods\n",
        "  average_success_v0[n]=r_t"
      ],
      "execution_count": 31,
      "outputs": [
        {
          "output_type": "stream",
          "text": [
            "processing:  10.0 % of the work\n",
            "processing:  20.0 % of the work\n",
            "processing:  30.0 % of the work\n",
            "processing:  40.0 % of the work\n",
            "processing:  50.0 % of the work\n",
            "processing:  60.0 % of the work\n",
            "processing:  70.0 % of the work\n",
            "processing:  80.0 % of the work\n",
            "processing:  90.0 % of the work\n",
            "processing:  100.0 % of the work\n"
          ],
          "name": "stdout"
        }
      ]
    },
    {
      "metadata": {
        "id": "0jOCxmf8-j9m",
        "colab_type": "code",
        "colab": {
          "autoexec": {
            "startup": false,
            "wait_interval": 0
          },
          "base_uri": "https://localhost:8080/",
          "height": 102
        },
        "outputId": "a71f20c7-2834-4f23-b1f6-e0ef31aa05f2",
        "executionInfo": {
          "status": "ok",
          "timestamp": 1524410442913,
          "user_tz": 240,
          "elapsed": 346,
          "user": {
            "displayName": "Reza Davari",
            "photoUrl": "//lh5.googleusercontent.com/-QVkbnQn2wK4/AAAAAAAAAAI/AAAAAAAAAFA/kgVC69JIYw4/s50-c-k-no/photo.jpg",
            "userId": "106412143772601057521"
          }
        }
      },
      "cell_type": "code",
      "source": [
        "avg_method=np.append(avg_method,np.average(average_success_v0))\n",
        "temp=((np.average(average_success_v0)-avg_reward)/(-avg_reward))*100\n",
        "improvement_method=np.append(improvement_method,temp)\n",
        "\n",
        "print(avg_method)\n",
        "print(improvement_method)"
      ],
      "execution_count": 32,
      "outputs": [
        {
          "output_type": "stream",
          "text": [
            "[-0.244094 -0.2424   -0.23904  -0.22024  -0.20586  -0.18986  -0.18036\n",
            " -0.169    -0.15884  -0.14996  -0.14094  -0.13526  -0.12486 ]\n",
            "[ 0.          0.69399494  2.07051382  9.77246471 15.66363778 22.2184896\n",
            " 26.11043287 30.76437766 34.92670856 38.56465132 42.25994904 44.58692143\n",
            " 48.84757511]\n"
          ],
          "name": "stdout"
        }
      ]
    },
    {
      "metadata": {
        "id": "WWfHbjda-6gL",
        "colab_type": "code",
        "colab": {
          "autoexec": {
            "startup": false,
            "wait_interval": 0
          },
          "base_uri": "https://localhost:8080/",
          "height": 187
        },
        "collapsed": true,
        "outputId": "ed813eae-da28-4af2-ad8c-8cdcdca43552",
        "executionInfo": {
          "status": "ok",
          "timestamp": 1524410568309,
          "user_tz": 240,
          "elapsed": 124765,
          "user": {
            "displayName": "Reza Davari",
            "photoUrl": "//lh5.googleusercontent.com/-QVkbnQn2wK4/AAAAAAAAAAI/AAAAAAAAAFA/kgVC69JIYw4/s50-c-k-no/photo.jpg",
            "userId": "106412143772601057521"
          }
        }
      },
      "cell_type": "code",
      "source": [
        "gamma=0.1\n",
        "lambda_theta=0.5\n",
        "lambda_w=lambda_theta\n",
        "alpha_theta=0.0001\n",
        "alpha_w=0.001\n",
        "number_of_episods=100000\n",
        "number_of_runs_for_average=10\n",
        "average_success_v0=np.zeros(number_of_runs_for_average)\n",
        "theta_saved=theta\n",
        "w_saved=w\n",
        "\n",
        "for n in range(number_of_runs_for_average):\n",
        "  print(\"processing: \",((n+1)*100)/number_of_runs_for_average,\"% of the work\")\n",
        "  theta=theta_saved\n",
        "  w=w_saved\n",
        "  r_t=0\n",
        "  for i in range(number_of_episods):\n",
        "    theta,w,temp=actor_critic_F(gamma,lambda_theta,lambda_w,alpha_theta,alpha_w,theta,w)\n",
        "    r_t+=temp\n",
        "  r_t=r_t/number_of_episods\n",
        "  average_success_v0[n]=r_t"
      ],
      "execution_count": 33,
      "outputs": [
        {
          "output_type": "stream",
          "text": [
            "processing:  10.0 % of the work\n",
            "processing:  20.0 % of the work\n",
            "processing:  30.0 % of the work\n",
            "processing:  40.0 % of the work\n",
            "processing:  50.0 % of the work\n",
            "processing:  60.0 % of the work\n",
            "processing:  70.0 % of the work\n",
            "processing:  80.0 % of the work\n",
            "processing:  90.0 % of the work\n",
            "processing:  100.0 % of the work\n"
          ],
          "name": "stdout"
        }
      ]
    },
    {
      "metadata": {
        "id": "eQ3IPilg_AqT",
        "colab_type": "code",
        "colab": {
          "autoexec": {
            "startup": false,
            "wait_interval": 0
          },
          "base_uri": "https://localhost:8080/",
          "height": 102
        },
        "outputId": "d8e30ae1-00eb-4eab-bb25-06909ea194e3",
        "executionInfo": {
          "status": "ok",
          "timestamp": 1524410568868,
          "user_tz": 240,
          "elapsed": 387,
          "user": {
            "displayName": "Reza Davari",
            "photoUrl": "//lh5.googleusercontent.com/-QVkbnQn2wK4/AAAAAAAAAAI/AAAAAAAAAFA/kgVC69JIYw4/s50-c-k-no/photo.jpg",
            "userId": "106412143772601057521"
          }
        }
      },
      "cell_type": "code",
      "source": [
        "avg_method=np.append(avg_method,np.average(average_success_v0))\n",
        "temp=((np.average(average_success_v0)-avg_reward)/(-avg_reward))*100\n",
        "improvement_method=np.append(improvement_method,temp)\n",
        "\n",
        "print(avg_method)\n",
        "print(improvement_method)"
      ],
      "execution_count": 34,
      "outputs": [
        {
          "output_type": "stream",
          "text": [
            "[-0.244094 -0.2424   -0.23904  -0.22024  -0.20586  -0.18986  -0.18036\n",
            " -0.169    -0.15884  -0.14996  -0.14094  -0.13526  -0.12486  -0.12716 ]\n",
            "[ 0.          0.69399494  2.07051382  9.77246471 15.66363778 22.2184896\n",
            " 26.11043287 30.76437766 34.92670856 38.56465132 42.25994904 44.58692143\n",
            " 48.84757511 47.90531517]\n"
          ],
          "name": "stdout"
        }
      ]
    },
    {
      "metadata": {
        "id": "faxWunQw_XK9",
        "colab_type": "code",
        "colab": {
          "autoexec": {
            "startup": false,
            "wait_interval": 0
          },
          "base_uri": "https://localhost:8080/",
          "height": 187
        },
        "collapsed": true,
        "outputId": "469d8bb0-fa8d-4ed6-bef6-5f12ec8206b5",
        "executionInfo": {
          "status": "ok",
          "timestamp": 1524410692017,
          "user_tz": 240,
          "elapsed": 122692,
          "user": {
            "displayName": "Reza Davari",
            "photoUrl": "//lh5.googleusercontent.com/-QVkbnQn2wK4/AAAAAAAAAAI/AAAAAAAAAFA/kgVC69JIYw4/s50-c-k-no/photo.jpg",
            "userId": "106412143772601057521"
          }
        }
      },
      "cell_type": "code",
      "source": [
        "gamma=0.1\n",
        "lambda_theta=0.5\n",
        "lambda_w=lambda_theta\n",
        "alpha_theta=0.0001\n",
        "alpha_w=0.001\n",
        "number_of_episods=100000\n",
        "number_of_runs_for_average=10\n",
        "average_success_v0=np.zeros(number_of_runs_for_average)\n",
        "theta_saved=theta\n",
        "w_saved=w\n",
        "\n",
        "for n in range(number_of_runs_for_average):\n",
        "  print(\"processing: \",((n+1)*100)/number_of_runs_for_average,\"% of the work\")\n",
        "  theta=theta_saved\n",
        "  w=w_saved\n",
        "  r_t=0\n",
        "  for i in range(number_of_episods):\n",
        "    theta,w,temp=actor_critic_F(gamma,lambda_theta,lambda_w,alpha_theta,alpha_w,theta,w)\n",
        "    r_t+=temp\n",
        "  r_t=r_t/number_of_episods\n",
        "  average_success_v0[n]=r_t"
      ],
      "execution_count": 35,
      "outputs": [
        {
          "output_type": "stream",
          "text": [
            "processing:  10.0 % of the work\n",
            "processing:  20.0 % of the work\n",
            "processing:  30.0 % of the work\n",
            "processing:  40.0 % of the work\n",
            "processing:  50.0 % of the work\n",
            "processing:  60.0 % of the work\n",
            "processing:  70.0 % of the work\n",
            "processing:  80.0 % of the work\n",
            "processing:  90.0 % of the work\n",
            "processing:  100.0 % of the work\n"
          ],
          "name": "stdout"
        }
      ]
    },
    {
      "metadata": {
        "id": "HheNhcVi_ZZL",
        "colab_type": "code",
        "colab": {
          "autoexec": {
            "startup": false,
            "wait_interval": 0
          },
          "base_uri": "https://localhost:8080/",
          "height": 119
        },
        "outputId": "91b8fbf1-6585-49c0-fc28-5f4c07fffd8b",
        "executionInfo": {
          "status": "ok",
          "timestamp": 1524410692568,
          "user_tz": 240,
          "elapsed": 331,
          "user": {
            "displayName": "Reza Davari",
            "photoUrl": "//lh5.googleusercontent.com/-QVkbnQn2wK4/AAAAAAAAAAI/AAAAAAAAAFA/kgVC69JIYw4/s50-c-k-no/photo.jpg",
            "userId": "106412143772601057521"
          }
        }
      },
      "cell_type": "code",
      "source": [
        "avg_method=np.append(avg_method,np.average(average_success_v0))\n",
        "temp=((np.average(average_success_v0)-avg_reward)/(-avg_reward))*100\n",
        "improvement_method=np.append(improvement_method,temp)\n",
        "\n",
        "print(avg_method)\n",
        "print(improvement_method)"
      ],
      "execution_count": 36,
      "outputs": [
        {
          "output_type": "stream",
          "text": [
            "[-0.244094 -0.2424   -0.23904  -0.22024  -0.20586  -0.18986  -0.18036\n",
            " -0.169    -0.15884  -0.14996  -0.14094  -0.13526  -0.12486  -0.12716\n",
            " -0.11836 ]\n",
            "[ 0.          0.69399494  2.07051382  9.77246471 15.66363778 22.2184896\n",
            " 26.11043287 30.76437766 34.92670856 38.56465132 42.25994904 44.58692143\n",
            " 48.84757511 47.90531517 51.51048367]\n"
          ],
          "name": "stdout"
        }
      ]
    },
    {
      "metadata": {
        "id": "9zbfeWkQ_0by",
        "colab_type": "code",
        "colab": {
          "autoexec": {
            "startup": false,
            "wait_interval": 0
          },
          "base_uri": "https://localhost:8080/",
          "height": 187
        },
        "collapsed": true,
        "outputId": "f2ee2a68-0432-4cdc-c444-3b9203504bb0",
        "executionInfo": {
          "status": "ok",
          "timestamp": 1524410815518,
          "user_tz": 240,
          "elapsed": 122328,
          "user": {
            "displayName": "Reza Davari",
            "photoUrl": "//lh5.googleusercontent.com/-QVkbnQn2wK4/AAAAAAAAAAI/AAAAAAAAAFA/kgVC69JIYw4/s50-c-k-no/photo.jpg",
            "userId": "106412143772601057521"
          }
        }
      },
      "cell_type": "code",
      "source": [
        "gamma=0.1\n",
        "lambda_theta=0.5\n",
        "lambda_w=lambda_theta\n",
        "alpha_theta=0.0001\n",
        "alpha_w=0.001\n",
        "number_of_episods=100000\n",
        "number_of_runs_for_average=10\n",
        "average_success_v0=np.zeros(number_of_runs_for_average)\n",
        "theta_saved=theta\n",
        "w_saved=w\n",
        "\n",
        "for n in range(number_of_runs_for_average):\n",
        "  print(\"processing: \",((n+1)*100)/number_of_runs_for_average,\"% of the work\")\n",
        "  theta=theta_saved\n",
        "  w=w_saved\n",
        "  r_t=0\n",
        "  for i in range(number_of_episods):\n",
        "    theta,w,temp=actor_critic_F(gamma,lambda_theta,lambda_w,alpha_theta,alpha_w,theta,w)\n",
        "    r_t+=temp\n",
        "  r_t=r_t/number_of_episods\n",
        "  average_success_v0[n]=r_t"
      ],
      "execution_count": 37,
      "outputs": [
        {
          "output_type": "stream",
          "text": [
            "processing:  10.0 % of the work\n",
            "processing:  20.0 % of the work\n",
            "processing:  30.0 % of the work\n",
            "processing:  40.0 % of the work\n",
            "processing:  50.0 % of the work\n",
            "processing:  60.0 % of the work\n",
            "processing:  70.0 % of the work\n",
            "processing:  80.0 % of the work\n",
            "processing:  90.0 % of the work\n",
            "processing:  100.0 % of the work\n"
          ],
          "name": "stdout"
        }
      ]
    },
    {
      "metadata": {
        "id": "YMHUsVd1_2Va",
        "colab_type": "code",
        "colab": {
          "autoexec": {
            "startup": false,
            "wait_interval": 0
          },
          "base_uri": "https://localhost:8080/",
          "height": 119
        },
        "outputId": "05f80d97-1c16-4e01-b464-aa853435d880",
        "executionInfo": {
          "status": "ok",
          "timestamp": 1524410816045,
          "user_tz": 240,
          "elapsed": 355,
          "user": {
            "displayName": "Reza Davari",
            "photoUrl": "//lh5.googleusercontent.com/-QVkbnQn2wK4/AAAAAAAAAAI/AAAAAAAAAFA/kgVC69JIYw4/s50-c-k-no/photo.jpg",
            "userId": "106412143772601057521"
          }
        }
      },
      "cell_type": "code",
      "source": [
        "avg_method=np.append(avg_method,np.average(average_success_v0))\n",
        "temp=((np.average(average_success_v0)-avg_reward)/(-avg_reward))*100\n",
        "improvement_method=np.append(improvement_method,temp)\n",
        "\n",
        "print(avg_method)\n",
        "print(improvement_method)"
      ],
      "execution_count": 38,
      "outputs": [
        {
          "output_type": "stream",
          "text": [
            "[-0.244094 -0.2424   -0.23904  -0.22024  -0.20586  -0.18986  -0.18036\n",
            " -0.169    -0.15884  -0.14996  -0.14094  -0.13526  -0.12486  -0.12716\n",
            " -0.11836  -0.11438 ]\n",
            "[ 0.          0.69399494  2.07051382  9.77246471 15.66363778 22.2184896\n",
            " 26.11043287 30.76437766 34.92670856 38.56465132 42.25994904 44.58692143\n",
            " 48.84757511 47.90531517 51.51048367 53.14100306]\n"
          ],
          "name": "stdout"
        }
      ]
    },
    {
      "metadata": {
        "id": "c8gtQy4wAWrN",
        "colab_type": "code",
        "colab": {
          "autoexec": {
            "startup": false,
            "wait_interval": 0
          },
          "base_uri": "https://localhost:8080/",
          "height": 187
        },
        "collapsed": true,
        "outputId": "3794984d-74b5-46d8-bae8-1e5b068c48e3",
        "executionInfo": {
          "status": "ok",
          "timestamp": 1524410938168,
          "user_tz": 240,
          "elapsed": 121654,
          "user": {
            "displayName": "Reza Davari",
            "photoUrl": "//lh5.googleusercontent.com/-QVkbnQn2wK4/AAAAAAAAAAI/AAAAAAAAAFA/kgVC69JIYw4/s50-c-k-no/photo.jpg",
            "userId": "106412143772601057521"
          }
        }
      },
      "cell_type": "code",
      "source": [
        "gamma=0.1\n",
        "lambda_theta=0.5\n",
        "lambda_w=lambda_theta\n",
        "alpha_theta=0.0001\n",
        "alpha_w=0.001\n",
        "number_of_episods=100000\n",
        "number_of_runs_for_average=10\n",
        "average_success_v0=np.zeros(number_of_runs_for_average)\n",
        "theta_saved=theta\n",
        "w_saved=w\n",
        "\n",
        "for n in range(number_of_runs_for_average):\n",
        "  print(\"processing: \",((n+1)*100)/number_of_runs_for_average,\"% of the work\")\n",
        "  theta=theta_saved\n",
        "  w=w_saved\n",
        "  r_t=0\n",
        "  for i in range(number_of_episods):\n",
        "    theta,w,temp=actor_critic_F(gamma,lambda_theta,lambda_w,alpha_theta,alpha_w,theta,w)\n",
        "    r_t+=temp\n",
        "  r_t=r_t/number_of_episods\n",
        "  average_success_v0[n]=r_t"
      ],
      "execution_count": 39,
      "outputs": [
        {
          "output_type": "stream",
          "text": [
            "processing:  10.0 % of the work\n",
            "processing:  20.0 % of the work\n",
            "processing:  30.0 % of the work\n",
            "processing:  40.0 % of the work\n",
            "processing:  50.0 % of the work\n",
            "processing:  60.0 % of the work\n",
            "processing:  70.0 % of the work\n",
            "processing:  80.0 % of the work\n",
            "processing:  90.0 % of the work\n",
            "processing:  100.0 % of the work\n"
          ],
          "name": "stdout"
        }
      ]
    },
    {
      "metadata": {
        "id": "v5sEx1blAYn0",
        "colab_type": "code",
        "colab": {
          "autoexec": {
            "startup": false,
            "wait_interval": 0
          },
          "base_uri": "https://localhost:8080/",
          "height": 119
        },
        "outputId": "8e53ce45-5805-4962-de63-3b511091bee8",
        "executionInfo": {
          "status": "ok",
          "timestamp": 1524410938798,
          "user_tz": 240,
          "elapsed": 470,
          "user": {
            "displayName": "Reza Davari",
            "photoUrl": "//lh5.googleusercontent.com/-QVkbnQn2wK4/AAAAAAAAAAI/AAAAAAAAAFA/kgVC69JIYw4/s50-c-k-no/photo.jpg",
            "userId": "106412143772601057521"
          }
        }
      },
      "cell_type": "code",
      "source": [
        "avg_method=np.append(avg_method,np.average(average_success_v0))\n",
        "temp=((np.average(average_success_v0)-avg_reward)/(-avg_reward))*100\n",
        "improvement_method=np.append(improvement_method,temp)\n",
        "\n",
        "print(avg_method)\n",
        "print(improvement_method)"
      ],
      "execution_count": 40,
      "outputs": [
        {
          "output_type": "stream",
          "text": [
            "[-0.244094 -0.2424   -0.23904  -0.22024  -0.20586  -0.18986  -0.18036\n",
            " -0.169    -0.15884  -0.14996  -0.14094  -0.13526  -0.12486  -0.12716\n",
            " -0.11836  -0.11438  -0.10854 ]\n",
            "[ 0.          0.69399494  2.07051382  9.77246471 15.66363778 22.2184896\n",
            " 26.11043287 30.76437766 34.92670856 38.56465132 42.25994904 44.58692143\n",
            " 48.84757511 47.90531517 51.51048367 53.14100306 55.53352397]\n"
          ],
          "name": "stdout"
        }
      ]
    },
    {
      "metadata": {
        "id": "PX_k8PscAvv6",
        "colab_type": "code",
        "colab": {
          "autoexec": {
            "startup": false,
            "wait_interval": 0
          },
          "base_uri": "https://localhost:8080/",
          "height": 187
        },
        "collapsed": true,
        "outputId": "ee948f7f-8f2a-4c57-c8fd-725129ffae46",
        "executionInfo": {
          "status": "ok",
          "timestamp": 1524411060286,
          "user_tz": 240,
          "elapsed": 120894,
          "user": {
            "displayName": "Reza Davari",
            "photoUrl": "//lh5.googleusercontent.com/-QVkbnQn2wK4/AAAAAAAAAAI/AAAAAAAAAFA/kgVC69JIYw4/s50-c-k-no/photo.jpg",
            "userId": "106412143772601057521"
          }
        }
      },
      "cell_type": "code",
      "source": [
        "gamma=0.1\n",
        "lambda_theta=0.5\n",
        "lambda_w=lambda_theta\n",
        "alpha_theta=0.0001\n",
        "alpha_w=0.001\n",
        "number_of_episods=100000\n",
        "number_of_runs_for_average=10\n",
        "average_success_v0=np.zeros(number_of_runs_for_average)\n",
        "theta_saved=theta\n",
        "w_saved=w\n",
        "\n",
        "for n in range(number_of_runs_for_average):\n",
        "  print(\"processing: \",((n+1)*100)/number_of_runs_for_average,\"% of the work\")\n",
        "  theta=theta_saved\n",
        "  w=w_saved\n",
        "  r_t=0\n",
        "  for i in range(number_of_episods):\n",
        "    theta,w,temp=actor_critic_F(gamma,lambda_theta,lambda_w,alpha_theta,alpha_w,theta,w)\n",
        "    r_t+=temp\n",
        "  r_t=r_t/number_of_episods\n",
        "  average_success_v0[n]=r_t"
      ],
      "execution_count": 41,
      "outputs": [
        {
          "output_type": "stream",
          "text": [
            "processing:  10.0 % of the work\n",
            "processing:  20.0 % of the work\n",
            "processing:  30.0 % of the work\n",
            "processing:  40.0 % of the work\n",
            "processing:  50.0 % of the work\n",
            "processing:  60.0 % of the work\n",
            "processing:  70.0 % of the work\n",
            "processing:  80.0 % of the work\n",
            "processing:  90.0 % of the work\n",
            "processing:  100.0 % of the work\n"
          ],
          "name": "stdout"
        }
      ]
    },
    {
      "metadata": {
        "id": "yA12-WgeAyFy",
        "colab_type": "code",
        "colab": {
          "autoexec": {
            "startup": false,
            "wait_interval": 0
          },
          "base_uri": "https://localhost:8080/",
          "height": 119
        },
        "outputId": "e3e77a6e-9e62-41c7-e4f4-fbed18b04758",
        "executionInfo": {
          "status": "ok",
          "timestamp": 1524411060981,
          "user_tz": 240,
          "elapsed": 439,
          "user": {
            "displayName": "Reza Davari",
            "photoUrl": "//lh5.googleusercontent.com/-QVkbnQn2wK4/AAAAAAAAAAI/AAAAAAAAAFA/kgVC69JIYw4/s50-c-k-no/photo.jpg",
            "userId": "106412143772601057521"
          }
        }
      },
      "cell_type": "code",
      "source": [
        "avg_method=np.append(avg_method,np.average(average_success_v0))\n",
        "temp=((np.average(average_success_v0)-avg_reward)/(-avg_reward))*100\n",
        "improvement_method=np.append(improvement_method,temp)\n",
        "\n",
        "print(avg_method)\n",
        "print(improvement_method)"
      ],
      "execution_count": 42,
      "outputs": [
        {
          "output_type": "stream",
          "text": [
            "[-0.244094 -0.2424   -0.23904  -0.22024  -0.20586  -0.18986  -0.18036\n",
            " -0.169    -0.15884  -0.14996  -0.14094  -0.13526  -0.12486  -0.12716\n",
            " -0.11836  -0.11438  -0.10854  -0.11348 ]\n",
            "[ 0.          0.69399494  2.07051382  9.77246471 15.66363778 22.2184896\n",
            " 26.11043287 30.76437766 34.92670856 38.56465132 42.25994904 44.58692143\n",
            " 48.84757511 47.90531517 51.51048367 53.14100306 55.53352397 53.50971347]\n"
          ],
          "name": "stdout"
        }
      ]
    },
    {
      "metadata": {
        "id": "iE5fE41zBNqk",
        "colab_type": "code",
        "colab": {
          "autoexec": {
            "startup": false,
            "wait_interval": 0
          },
          "base_uri": "https://localhost:8080/",
          "height": 187
        },
        "collapsed": true,
        "outputId": "868a159e-8e15-4815-8229-537488bbcce8",
        "executionInfo": {
          "status": "ok",
          "timestamp": 1524411182498,
          "user_tz": 240,
          "elapsed": 121065,
          "user": {
            "displayName": "Reza Davari",
            "photoUrl": "//lh5.googleusercontent.com/-QVkbnQn2wK4/AAAAAAAAAAI/AAAAAAAAAFA/kgVC69JIYw4/s50-c-k-no/photo.jpg",
            "userId": "106412143772601057521"
          }
        }
      },
      "cell_type": "code",
      "source": [
        "gamma=0.1\n",
        "lambda_theta=0.5\n",
        "lambda_w=lambda_theta\n",
        "alpha_theta=0.0001\n",
        "alpha_w=0.001\n",
        "number_of_episods=100000\n",
        "number_of_runs_for_average=10\n",
        "average_success_v0=np.zeros(number_of_runs_for_average)\n",
        "theta_saved=theta\n",
        "w_saved=w\n",
        "\n",
        "for n in range(number_of_runs_for_average):\n",
        "  print(\"processing: \",((n+1)*100)/number_of_runs_for_average,\"% of the work\")\n",
        "  theta=theta_saved\n",
        "  w=w_saved\n",
        "  r_t=0\n",
        "  for i in range(number_of_episods):\n",
        "    theta,w,temp=actor_critic_F(gamma,lambda_theta,lambda_w,alpha_theta,alpha_w,theta,w)\n",
        "    r_t+=temp\n",
        "  r_t=r_t/number_of_episods\n",
        "  average_success_v0[n]=r_t"
      ],
      "execution_count": 43,
      "outputs": [
        {
          "output_type": "stream",
          "text": [
            "processing:  10.0 % of the work\n",
            "processing:  20.0 % of the work\n",
            "processing:  30.0 % of the work\n",
            "processing:  40.0 % of the work\n",
            "processing:  50.0 % of the work\n",
            "processing:  60.0 % of the work\n",
            "processing:  70.0 % of the work\n",
            "processing:  80.0 % of the work\n",
            "processing:  90.0 % of the work\n",
            "processing:  100.0 % of the work\n"
          ],
          "name": "stdout"
        }
      ]
    },
    {
      "metadata": {
        "id": "wXYkDUqEBRdQ",
        "colab_type": "code",
        "colab": {
          "autoexec": {
            "startup": false,
            "wait_interval": 0
          },
          "base_uri": "https://localhost:8080/",
          "height": 136
        },
        "outputId": "28af9dd0-dacb-4b5a-ac6b-07ec3998ee11",
        "executionInfo": {
          "status": "ok",
          "timestamp": 1524411183127,
          "user_tz": 240,
          "elapsed": 457,
          "user": {
            "displayName": "Reza Davari",
            "photoUrl": "//lh5.googleusercontent.com/-QVkbnQn2wK4/AAAAAAAAAAI/AAAAAAAAAFA/kgVC69JIYw4/s50-c-k-no/photo.jpg",
            "userId": "106412143772601057521"
          }
        }
      },
      "cell_type": "code",
      "source": [
        "avg_method=np.append(avg_method,np.average(average_success_v0))\n",
        "temp=((np.average(average_success_v0)-avg_reward)/(-avg_reward))*100\n",
        "improvement_method=np.append(improvement_method,temp)\n",
        "\n",
        "print(avg_method)\n",
        "print(improvement_method)"
      ],
      "execution_count": 44,
      "outputs": [
        {
          "output_type": "stream",
          "text": [
            "[-0.244094 -0.2424   -0.23904  -0.22024  -0.20586  -0.18986  -0.18036\n",
            " -0.169    -0.15884  -0.14996  -0.14094  -0.13526  -0.12486  -0.12716\n",
            " -0.11836  -0.11438  -0.10854  -0.11348  -0.09984 ]\n",
            "[ 0.          0.69399494  2.07051382  9.77246471 15.66363778 22.2184896\n",
            " 26.11043287 30.76437766 34.92670856 38.56465132 42.25994904 44.58692143\n",
            " 48.84757511 47.90531517 51.51048367 53.14100306 55.53352397 53.50971347\n",
            " 59.09772465]\n"
          ],
          "name": "stdout"
        }
      ]
    },
    {
      "metadata": {
        "id": "WeOrijjxB5Og",
        "colab_type": "code",
        "colab": {
          "autoexec": {
            "startup": false,
            "wait_interval": 0
          },
          "base_uri": "https://localhost:8080/",
          "height": 187
        },
        "collapsed": true,
        "outputId": "a4c0224e-5d55-4d6e-c8a9-5c0585f858eb",
        "executionInfo": {
          "status": "ok",
          "timestamp": 1524411304580,
          "user_tz": 240,
          "elapsed": 121031,
          "user": {
            "displayName": "Reza Davari",
            "photoUrl": "//lh5.googleusercontent.com/-QVkbnQn2wK4/AAAAAAAAAAI/AAAAAAAAAFA/kgVC69JIYw4/s50-c-k-no/photo.jpg",
            "userId": "106412143772601057521"
          }
        }
      },
      "cell_type": "code",
      "source": [
        "gamma=0.1\n",
        "lambda_theta=0.5\n",
        "lambda_w=lambda_theta\n",
        "alpha_theta=0.0001\n",
        "alpha_w=0.001\n",
        "number_of_episods=100000\n",
        "number_of_runs_for_average=10\n",
        "average_success_v0=np.zeros(number_of_runs_for_average)\n",
        "theta_saved=theta\n",
        "w_saved=w\n",
        "\n",
        "for n in range(number_of_runs_for_average):\n",
        "  print(\"processing: \",((n+1)*100)/number_of_runs_for_average,\"% of the work\")\n",
        "  theta=theta_saved\n",
        "  w=w_saved\n",
        "  r_t=0\n",
        "  for i in range(number_of_episods):\n",
        "    theta,w,temp=actor_critic_F(gamma,lambda_theta,lambda_w,alpha_theta,alpha_w,theta,w)\n",
        "    r_t+=temp\n",
        "  r_t=r_t/number_of_episods\n",
        "  average_success_v0[n]=r_t"
      ],
      "execution_count": 45,
      "outputs": [
        {
          "output_type": "stream",
          "text": [
            "processing:  10.0 % of the work\n",
            "processing:  20.0 % of the work\n",
            "processing:  30.0 % of the work\n",
            "processing:  40.0 % of the work\n",
            "processing:  50.0 % of the work\n",
            "processing:  60.0 % of the work\n",
            "processing:  70.0 % of the work\n",
            "processing:  80.0 % of the work\n",
            "processing:  90.0 % of the work\n",
            "processing:  100.0 % of the work\n"
          ],
          "name": "stdout"
        }
      ]
    },
    {
      "metadata": {
        "id": "1fsREIKIB7NC",
        "colab_type": "code",
        "colab": {
          "autoexec": {
            "startup": false,
            "wait_interval": 0
          },
          "base_uri": "https://localhost:8080/",
          "height": 136
        },
        "outputId": "6a5d8361-bd87-43f9-9c0b-a3609b3689a8",
        "executionInfo": {
          "status": "ok",
          "timestamp": 1524411305140,
          "user_tz": 240,
          "elapsed": 397,
          "user": {
            "displayName": "Reza Davari",
            "photoUrl": "//lh5.googleusercontent.com/-QVkbnQn2wK4/AAAAAAAAAAI/AAAAAAAAAFA/kgVC69JIYw4/s50-c-k-no/photo.jpg",
            "userId": "106412143772601057521"
          }
        }
      },
      "cell_type": "code",
      "source": [
        "avg_method=np.append(avg_method,np.average(average_success_v0))\n",
        "temp=((np.average(average_success_v0)-avg_reward)/(-avg_reward))*100\n",
        "improvement_method=np.append(improvement_method,temp)\n",
        "\n",
        "print(avg_method)\n",
        "print(improvement_method)"
      ],
      "execution_count": 46,
      "outputs": [
        {
          "output_type": "stream",
          "text": [
            "[-0.244094 -0.2424   -0.23904  -0.22024  -0.20586  -0.18986  -0.18036\n",
            " -0.169    -0.15884  -0.14996  -0.14094  -0.13526  -0.12486  -0.12716\n",
            " -0.11836  -0.11438  -0.10854  -0.11348  -0.09984  -0.10764 ]\n",
            "[ 0.          0.69399494  2.07051382  9.77246471 15.66363778 22.2184896\n",
            " 26.11043287 30.76437766 34.92670856 38.56465132 42.25994904 44.58692143\n",
            " 48.84757511 47.90531517 51.51048367 53.14100306 55.53352397 53.50971347\n",
            " 59.09772465 55.90223439]\n"
          ],
          "name": "stdout"
        }
      ]
    },
    {
      "metadata": {
        "id": "p7m9a0njCMw8",
        "colab_type": "code",
        "colab": {
          "autoexec": {
            "startup": false,
            "wait_interval": 0
          },
          "base_uri": "https://localhost:8080/",
          "height": 187
        },
        "collapsed": true,
        "outputId": "7d3a0a7e-1394-41ec-80e1-7a300384e498",
        "executionInfo": {
          "status": "ok",
          "timestamp": 1524411426572,
          "user_tz": 240,
          "elapsed": 120971,
          "user": {
            "displayName": "Reza Davari",
            "photoUrl": "//lh5.googleusercontent.com/-QVkbnQn2wK4/AAAAAAAAAAI/AAAAAAAAAFA/kgVC69JIYw4/s50-c-k-no/photo.jpg",
            "userId": "106412143772601057521"
          }
        }
      },
      "cell_type": "code",
      "source": [
        "gamma=0.1\n",
        "lambda_theta=0.5\n",
        "lambda_w=lambda_theta\n",
        "alpha_theta=0.0001\n",
        "alpha_w=0.001\n",
        "number_of_episods=100000\n",
        "number_of_runs_for_average=10\n",
        "average_success_v0=np.zeros(number_of_runs_for_average)\n",
        "theta_saved=theta\n",
        "w_saved=w\n",
        "\n",
        "for n in range(number_of_runs_for_average):\n",
        "  print(\"processing: \",((n+1)*100)/number_of_runs_for_average,\"% of the work\")\n",
        "  theta=theta_saved\n",
        "  w=w_saved\n",
        "  r_t=0\n",
        "  for i in range(number_of_episods):\n",
        "    theta,w,temp=actor_critic_F(gamma,lambda_theta,lambda_w,alpha_theta,alpha_w,theta,w)\n",
        "    r_t+=temp\n",
        "  r_t=r_t/number_of_episods\n",
        "  average_success_v0[n]=r_t"
      ],
      "execution_count": 47,
      "outputs": [
        {
          "output_type": "stream",
          "text": [
            "processing:  10.0 % of the work\n",
            "processing:  20.0 % of the work\n",
            "processing:  30.0 % of the work\n",
            "processing:  40.0 % of the work\n",
            "processing:  50.0 % of the work\n",
            "processing:  60.0 % of the work\n",
            "processing:  70.0 % of the work\n",
            "processing:  80.0 % of the work\n",
            "processing:  90.0 % of the work\n",
            "processing:  100.0 % of the work\n"
          ],
          "name": "stdout"
        }
      ]
    },
    {
      "metadata": {
        "id": "7LmzmWbUCPCy",
        "colab_type": "code",
        "colab": {
          "autoexec": {
            "startup": false,
            "wait_interval": 0
          },
          "base_uri": "https://localhost:8080/",
          "height": 136
        },
        "outputId": "77df2436-25a1-4152-968a-4e6ace3d7f61",
        "executionInfo": {
          "status": "ok",
          "timestamp": 1524411427166,
          "user_tz": 240,
          "elapsed": 378,
          "user": {
            "displayName": "Reza Davari",
            "photoUrl": "//lh5.googleusercontent.com/-QVkbnQn2wK4/AAAAAAAAAAI/AAAAAAAAAFA/kgVC69JIYw4/s50-c-k-no/photo.jpg",
            "userId": "106412143772601057521"
          }
        }
      },
      "cell_type": "code",
      "source": [
        "avg_method=np.append(avg_method,np.average(average_success_v0))\n",
        "temp=((np.average(average_success_v0)-avg_reward)/(-avg_reward))*100\n",
        "improvement_method=np.append(improvement_method,temp)\n",
        "\n",
        "print(avg_method)\n",
        "print(improvement_method)"
      ],
      "execution_count": 48,
      "outputs": [
        {
          "output_type": "stream",
          "text": [
            "[-0.244094 -0.2424   -0.23904  -0.22024  -0.20586  -0.18986  -0.18036\n",
            " -0.169    -0.15884  -0.14996  -0.14094  -0.13526  -0.12486  -0.12716\n",
            " -0.11836  -0.11438  -0.10854  -0.11348  -0.09984  -0.10764  -0.10262 ]\n",
            "[ 0.          0.69399494  2.07051382  9.77246471 15.66363778 22.2184896\n",
            " 26.11043287 30.76437766 34.92670856 38.56465132 42.25994904 44.58692143\n",
            " 48.84757511 47.90531517 51.51048367 53.14100306 55.53352397 53.50971347\n",
            " 59.09772465 55.90223439 57.95881914]\n"
          ],
          "name": "stdout"
        }
      ]
    },
    {
      "metadata": {
        "id": "zXhF2BJUCjSx",
        "colab_type": "code",
        "colab": {
          "autoexec": {
            "startup": false,
            "wait_interval": 0
          },
          "base_uri": "https://localhost:8080/",
          "height": 187
        },
        "collapsed": true,
        "outputId": "d50b8d47-27d0-40c4-c9fc-d5c8db15165c",
        "executionInfo": {
          "status": "ok",
          "timestamp": 1524411548021,
          "user_tz": 240,
          "elapsed": 120411,
          "user": {
            "displayName": "Reza Davari",
            "photoUrl": "//lh5.googleusercontent.com/-QVkbnQn2wK4/AAAAAAAAAAI/AAAAAAAAAFA/kgVC69JIYw4/s50-c-k-no/photo.jpg",
            "userId": "106412143772601057521"
          }
        }
      },
      "cell_type": "code",
      "source": [
        "gamma=0.1\n",
        "lambda_theta=0.5\n",
        "lambda_w=lambda_theta\n",
        "alpha_theta=0.0001\n",
        "alpha_w=0.001\n",
        "number_of_episods=100000\n",
        "number_of_runs_for_average=10\n",
        "average_success_v0=np.zeros(number_of_runs_for_average)\n",
        "theta_saved=theta\n",
        "w_saved=w\n",
        "\n",
        "for n in range(number_of_runs_for_average):\n",
        "  print(\"processing: \",((n+1)*100)/number_of_runs_for_average,\"% of the work\")\n",
        "  theta=theta_saved\n",
        "  w=w_saved\n",
        "  r_t=0\n",
        "  for i in range(number_of_episods):\n",
        "    theta,w,temp=actor_critic_F(gamma,lambda_theta,lambda_w,alpha_theta,alpha_w,theta,w)\n",
        "    r_t+=temp\n",
        "  r_t=r_t/number_of_episods\n",
        "  average_success_v0[n]=r_t"
      ],
      "execution_count": 49,
      "outputs": [
        {
          "output_type": "stream",
          "text": [
            "processing:  10.0 % of the work\n",
            "processing:  20.0 % of the work\n",
            "processing:  30.0 % of the work\n",
            "processing:  40.0 % of the work\n",
            "processing:  50.0 % of the work\n",
            "processing:  60.0 % of the work\n",
            "processing:  70.0 % of the work\n",
            "processing:  80.0 % of the work\n",
            "processing:  90.0 % of the work\n",
            "processing:  100.0 % of the work\n"
          ],
          "name": "stdout"
        }
      ]
    },
    {
      "metadata": {
        "id": "ENu0YEOlClzd",
        "colab_type": "code",
        "colab": {
          "autoexec": {
            "startup": false,
            "wait_interval": 0
          },
          "base_uri": "https://localhost:8080/",
          "height": 153
        },
        "outputId": "59490482-20d8-46cf-c42c-160da4c26596",
        "executionInfo": {
          "status": "ok",
          "timestamp": 1524411548579,
          "user_tz": 240,
          "elapsed": 384,
          "user": {
            "displayName": "Reza Davari",
            "photoUrl": "//lh5.googleusercontent.com/-QVkbnQn2wK4/AAAAAAAAAAI/AAAAAAAAAFA/kgVC69JIYw4/s50-c-k-no/photo.jpg",
            "userId": "106412143772601057521"
          }
        }
      },
      "cell_type": "code",
      "source": [
        "avg_method=np.append(avg_method,np.average(average_success_v0))\n",
        "temp=((np.average(average_success_v0)-avg_reward)/(-avg_reward))*100\n",
        "improvement_method=np.append(improvement_method,temp)\n",
        "\n",
        "print(avg_method)\n",
        "print(improvement_method)"
      ],
      "execution_count": 50,
      "outputs": [
        {
          "output_type": "stream",
          "text": [
            "[-0.244094 -0.2424   -0.23904  -0.22024  -0.20586  -0.18986  -0.18036\n",
            " -0.169    -0.15884  -0.14996  -0.14094  -0.13526  -0.12486  -0.12716\n",
            " -0.11836  -0.11438  -0.10854  -0.11348  -0.09984  -0.10764  -0.10262\n",
            " -0.09454 ]\n",
            "[ 0.          0.69399494  2.07051382  9.77246471 15.66363778 22.2184896\n",
            " 26.11043287 30.76437766 34.92670856 38.56465132 42.25994904 44.58692143\n",
            " 48.84757511 47.90531517 51.51048367 53.14100306 55.53352397 53.50971347\n",
            " 59.09772465 55.90223439 57.95881914 61.26901931]\n"
          ],
          "name": "stdout"
        }
      ]
    },
    {
      "metadata": {
        "id": "ZEuzAXo3C-z0",
        "colab_type": "code",
        "colab": {
          "autoexec": {
            "startup": false,
            "wait_interval": 0
          },
          "base_uri": "https://localhost:8080/",
          "height": 187
        },
        "collapsed": true,
        "outputId": "bc47336c-4e85-41c6-9610-aa88e0fabf38",
        "executionInfo": {
          "status": "ok",
          "timestamp": 1524411668801,
          "user_tz": 240,
          "elapsed": 119782,
          "user": {
            "displayName": "Reza Davari",
            "photoUrl": "//lh5.googleusercontent.com/-QVkbnQn2wK4/AAAAAAAAAAI/AAAAAAAAAFA/kgVC69JIYw4/s50-c-k-no/photo.jpg",
            "userId": "106412143772601057521"
          }
        }
      },
      "cell_type": "code",
      "source": [
        "gamma=0.1\n",
        "lambda_theta=0.5\n",
        "lambda_w=lambda_theta\n",
        "alpha_theta=0.0001\n",
        "alpha_w=0.001\n",
        "number_of_episods=100000\n",
        "number_of_runs_for_average=10\n",
        "average_success_v0=np.zeros(number_of_runs_for_average)\n",
        "theta_saved=theta\n",
        "w_saved=w\n",
        "\n",
        "for n in range(number_of_runs_for_average):\n",
        "  print(\"processing: \",((n+1)*100)/number_of_runs_for_average,\"% of the work\")\n",
        "  theta=theta_saved\n",
        "  w=w_saved\n",
        "  r_t=0\n",
        "  for i in range(number_of_episods):\n",
        "    theta,w,temp=actor_critic_F(gamma,lambda_theta,lambda_w,alpha_theta,alpha_w,theta,w)\n",
        "    r_t+=temp\n",
        "  r_t=r_t/number_of_episods\n",
        "  average_success_v0[n]=r_t"
      ],
      "execution_count": 51,
      "outputs": [
        {
          "output_type": "stream",
          "text": [
            "processing:  10.0 % of the work\n",
            "processing:  20.0 % of the work\n",
            "processing:  30.0 % of the work\n",
            "processing:  40.0 % of the work\n",
            "processing:  50.0 % of the work\n",
            "processing:  60.0 % of the work\n",
            "processing:  70.0 % of the work\n",
            "processing:  80.0 % of the work\n",
            "processing:  90.0 % of the work\n",
            "processing:  100.0 % of the work\n"
          ],
          "name": "stdout"
        }
      ]
    },
    {
      "metadata": {
        "id": "jbIowOOODCQE",
        "colab_type": "code",
        "colab": {
          "autoexec": {
            "startup": false,
            "wait_interval": 0
          },
          "base_uri": "https://localhost:8080/",
          "height": 153
        },
        "outputId": "7dd2987e-ce98-4289-b249-33eb571c36fe",
        "executionInfo": {
          "status": "ok",
          "timestamp": 1524411669322,
          "user_tz": 240,
          "elapsed": 363,
          "user": {
            "displayName": "Reza Davari",
            "photoUrl": "//lh5.googleusercontent.com/-QVkbnQn2wK4/AAAAAAAAAAI/AAAAAAAAAFA/kgVC69JIYw4/s50-c-k-no/photo.jpg",
            "userId": "106412143772601057521"
          }
        }
      },
      "cell_type": "code",
      "source": [
        "avg_method=np.append(avg_method,np.average(average_success_v0))\n",
        "temp=((np.average(average_success_v0)-avg_reward)/(-avg_reward))*100\n",
        "improvement_method=np.append(improvement_method,temp)\n",
        "\n",
        "print(avg_method)\n",
        "print(improvement_method)"
      ],
      "execution_count": 52,
      "outputs": [
        {
          "output_type": "stream",
          "text": [
            "[-0.244094 -0.2424   -0.23904  -0.22024  -0.20586  -0.18986  -0.18036\n",
            " -0.169    -0.15884  -0.14996  -0.14094  -0.13526  -0.12486  -0.12716\n",
            " -0.11836  -0.11438  -0.10854  -0.11348  -0.09984  -0.10764  -0.10262\n",
            " -0.09454  -0.09288 ]\n",
            "[ 0.          0.69399494  2.07051382  9.77246471 15.66363778 22.2184896\n",
            " 26.11043287 30.76437766 34.92670856 38.56465132 42.25994904 44.58692143\n",
            " 48.84757511 47.90531517 51.51048367 53.14100306 55.53352397 53.50971347\n",
            " 59.09772465 55.90223439 57.95881914 61.26901931 61.94908519]\n"
          ],
          "name": "stdout"
        }
      ]
    },
    {
      "metadata": {
        "id": "75OMPFKcDbMl",
        "colab_type": "code",
        "colab": {
          "autoexec": {
            "startup": false,
            "wait_interval": 0
          },
          "base_uri": "https://localhost:8080/",
          "height": 187
        },
        "collapsed": true,
        "outputId": "37a81e25-05b4-49f7-97bd-ff13cf6919b4",
        "executionInfo": {
          "status": "ok",
          "timestamp": 1524411788719,
          "user_tz": 240,
          "elapsed": 119012,
          "user": {
            "displayName": "Reza Davari",
            "photoUrl": "//lh5.googleusercontent.com/-QVkbnQn2wK4/AAAAAAAAAAI/AAAAAAAAAFA/kgVC69JIYw4/s50-c-k-no/photo.jpg",
            "userId": "106412143772601057521"
          }
        }
      },
      "cell_type": "code",
      "source": [
        "gamma=0.1\n",
        "lambda_theta=0.5\n",
        "lambda_w=lambda_theta\n",
        "alpha_theta=0.0001\n",
        "alpha_w=0.001\n",
        "number_of_episods=100000\n",
        "number_of_runs_for_average=10\n",
        "average_success_v0=np.zeros(number_of_runs_for_average)\n",
        "theta_saved=theta\n",
        "w_saved=w\n",
        "\n",
        "for n in range(number_of_runs_for_average):\n",
        "  print(\"processing: \",((n+1)*100)/number_of_runs_for_average,\"% of the work\")\n",
        "  theta=theta_saved\n",
        "  w=w_saved\n",
        "  r_t=0\n",
        "  for i in range(number_of_episods):\n",
        "    theta,w,temp=actor_critic_F(gamma,lambda_theta,lambda_w,alpha_theta,alpha_w,theta,w)\n",
        "    r_t+=temp\n",
        "  r_t=r_t/number_of_episods\n",
        "  average_success_v0[n]=r_t"
      ],
      "execution_count": 53,
      "outputs": [
        {
          "output_type": "stream",
          "text": [
            "processing:  10.0 % of the work\n",
            "processing:  20.0 % of the work\n",
            "processing:  30.0 % of the work\n",
            "processing:  40.0 % of the work\n",
            "processing:  50.0 % of the work\n",
            "processing:  60.0 % of the work\n",
            "processing:  70.0 % of the work\n",
            "processing:  80.0 % of the work\n",
            "processing:  90.0 % of the work\n",
            "processing:  100.0 % of the work\n"
          ],
          "name": "stdout"
        }
      ]
    },
    {
      "metadata": {
        "id": "EuCOb-gkDeW8",
        "colab_type": "code",
        "colab": {
          "autoexec": {
            "startup": false,
            "wait_interval": 0
          },
          "base_uri": "https://localhost:8080/",
          "height": 153
        },
        "outputId": "35eb55ba-d382-4ea1-bd0d-130a8bbc8e2b",
        "executionInfo": {
          "status": "ok",
          "timestamp": 1524411789287,
          "user_tz": 240,
          "elapsed": 389,
          "user": {
            "displayName": "Reza Davari",
            "photoUrl": "//lh5.googleusercontent.com/-QVkbnQn2wK4/AAAAAAAAAAI/AAAAAAAAAFA/kgVC69JIYw4/s50-c-k-no/photo.jpg",
            "userId": "106412143772601057521"
          }
        }
      },
      "cell_type": "code",
      "source": [
        "avg_method=np.append(avg_method,np.average(average_success_v0))\n",
        "temp=((np.average(average_success_v0)-avg_reward)/(-avg_reward))*100\n",
        "improvement_method=np.append(improvement_method,temp)\n",
        "\n",
        "print(avg_method)\n",
        "print(improvement_method)"
      ],
      "execution_count": 54,
      "outputs": [
        {
          "output_type": "stream",
          "text": [
            "[-0.244094 -0.2424   -0.23904  -0.22024  -0.20586  -0.18986  -0.18036\n",
            " -0.169    -0.15884  -0.14996  -0.14094  -0.13526  -0.12486  -0.12716\n",
            " -0.11836  -0.11438  -0.10854  -0.11348  -0.09984  -0.10764  -0.10262\n",
            " -0.09454  -0.09288  -0.09244 ]\n",
            "[ 0.          0.69399494  2.07051382  9.77246471 15.66363778 22.2184896\n",
            " 26.11043287 30.76437766 34.92670856 38.56465132 42.25994904 44.58692143\n",
            " 48.84757511 47.90531517 51.51048367 53.14100306 55.53352397 53.50971347\n",
            " 59.09772465 55.90223439 57.95881914 61.26901931 61.94908519 62.12934361]\n"
          ],
          "name": "stdout"
        }
      ]
    },
    {
      "metadata": {
        "id": "b3XwJ7pSDruP",
        "colab_type": "code",
        "colab": {
          "autoexec": {
            "startup": false,
            "wait_interval": 0
          },
          "base_uri": "https://localhost:8080/",
          "height": 187
        },
        "collapsed": true,
        "outputId": "42b9379a-da1a-4232-8d75-1d535b41802b",
        "executionInfo": {
          "status": "ok",
          "timestamp": 1524411907918,
          "user_tz": 240,
          "elapsed": 118179,
          "user": {
            "displayName": "Reza Davari",
            "photoUrl": "//lh5.googleusercontent.com/-QVkbnQn2wK4/AAAAAAAAAAI/AAAAAAAAAFA/kgVC69JIYw4/s50-c-k-no/photo.jpg",
            "userId": "106412143772601057521"
          }
        }
      },
      "cell_type": "code",
      "source": [
        "gamma=0.1\n",
        "lambda_theta=0.5\n",
        "lambda_w=lambda_theta\n",
        "alpha_theta=0.0001\n",
        "alpha_w=0.001\n",
        "number_of_episods=100000\n",
        "number_of_runs_for_average=10\n",
        "average_success_v0=np.zeros(number_of_runs_for_average)\n",
        "theta_saved=theta\n",
        "w_saved=w\n",
        "\n",
        "for n in range(number_of_runs_for_average):\n",
        "  print(\"processing: \",((n+1)*100)/number_of_runs_for_average,\"% of the work\")\n",
        "  theta=theta_saved\n",
        "  w=w_saved\n",
        "  r_t=0\n",
        "  for i in range(number_of_episods):\n",
        "    theta,w,temp=actor_critic_F(gamma,lambda_theta,lambda_w,alpha_theta,alpha_w,theta,w)\n",
        "    r_t+=temp\n",
        "  r_t=r_t/number_of_episods\n",
        "  average_success_v0[n]=r_t"
      ],
      "execution_count": 55,
      "outputs": [
        {
          "output_type": "stream",
          "text": [
            "processing:  10.0 % of the work\n",
            "processing:  20.0 % of the work\n",
            "processing:  30.0 % of the work\n",
            "processing:  40.0 % of the work\n",
            "processing:  50.0 % of the work\n",
            "processing:  60.0 % of the work\n",
            "processing:  70.0 % of the work\n",
            "processing:  80.0 % of the work\n",
            "processing:  90.0 % of the work\n",
            "processing:  100.0 % of the work\n"
          ],
          "name": "stdout"
        }
      ]
    },
    {
      "metadata": {
        "id": "RvoZA1YrDuQI",
        "colab_type": "code",
        "colab": {
          "autoexec": {
            "startup": false,
            "wait_interval": 0
          },
          "base_uri": "https://localhost:8080/",
          "height": 170
        },
        "outputId": "fa7fb26f-6461-459f-fa99-9da64b60f7bc",
        "executionInfo": {
          "status": "ok",
          "timestamp": 1524411908406,
          "user_tz": 240,
          "elapsed": 333,
          "user": {
            "displayName": "Reza Davari",
            "photoUrl": "//lh5.googleusercontent.com/-QVkbnQn2wK4/AAAAAAAAAAI/AAAAAAAAAFA/kgVC69JIYw4/s50-c-k-no/photo.jpg",
            "userId": "106412143772601057521"
          }
        }
      },
      "cell_type": "code",
      "source": [
        "avg_method=np.append(avg_method,np.average(average_success_v0))\n",
        "temp=((np.average(average_success_v0)-avg_reward)/(-avg_reward))*100\n",
        "improvement_method=np.append(improvement_method,temp)\n",
        "\n",
        "print(avg_method)\n",
        "print(improvement_method)"
      ],
      "execution_count": 56,
      "outputs": [
        {
          "output_type": "stream",
          "text": [
            "[-0.244094 -0.2424   -0.23904  -0.22024  -0.20586  -0.18986  -0.18036\n",
            " -0.169    -0.15884  -0.14996  -0.14094  -0.13526  -0.12486  -0.12716\n",
            " -0.11836  -0.11438  -0.10854  -0.11348  -0.09984  -0.10764  -0.10262\n",
            " -0.09454  -0.09288  -0.09244  -0.10032 ]\n",
            "[ 0.          0.69399494  2.07051382  9.77246471 15.66363778 22.2184896\n",
            " 26.11043287 30.76437766 34.92670856 38.56465132 42.25994904 44.58692143\n",
            " 48.84757511 47.90531517 51.51048367 53.14100306 55.53352397 53.50971347\n",
            " 59.09772465 55.90223439 57.95881914 61.26901931 61.94908519 62.12934361\n",
            " 58.90107909]\n"
          ],
          "name": "stdout"
        }
      ]
    },
    {
      "metadata": {
        "id": "kDcwnKnGEBqc",
        "colab_type": "code",
        "colab": {
          "autoexec": {
            "startup": false,
            "wait_interval": 0
          },
          "base_uri": "https://localhost:8080/",
          "height": 187
        },
        "collapsed": true,
        "outputId": "6d4f3112-a78c-4ee3-d53c-3433e569782f",
        "executionInfo": {
          "status": "ok",
          "timestamp": 1524412025643,
          "user_tz": 240,
          "elapsed": 116854,
          "user": {
            "displayName": "Reza Davari",
            "photoUrl": "//lh5.googleusercontent.com/-QVkbnQn2wK4/AAAAAAAAAAI/AAAAAAAAAFA/kgVC69JIYw4/s50-c-k-no/photo.jpg",
            "userId": "106412143772601057521"
          }
        }
      },
      "cell_type": "code",
      "source": [
        "gamma=0.1\n",
        "lambda_theta=0.5\n",
        "lambda_w=lambda_theta\n",
        "alpha_theta=0.0001\n",
        "alpha_w=0.001\n",
        "number_of_episods=100000\n",
        "number_of_runs_for_average=10\n",
        "average_success_v0=np.zeros(number_of_runs_for_average)\n",
        "theta_saved=theta\n",
        "w_saved=w\n",
        "\n",
        "for n in range(number_of_runs_for_average):\n",
        "  print(\"processing: \",((n+1)*100)/number_of_runs_for_average,\"% of the work\")\n",
        "  theta=theta_saved\n",
        "  w=w_saved\n",
        "  r_t=0\n",
        "  for i in range(number_of_episods):\n",
        "    theta,w,temp=actor_critic_F(gamma,lambda_theta,lambda_w,alpha_theta,alpha_w,theta,w)\n",
        "    r_t+=temp\n",
        "  r_t=r_t/number_of_episods\n",
        "  average_success_v0[n]=r_t"
      ],
      "execution_count": 57,
      "outputs": [
        {
          "output_type": "stream",
          "text": [
            "processing:  10.0 % of the work\n",
            "processing:  20.0 % of the work\n",
            "processing:  30.0 % of the work\n",
            "processing:  40.0 % of the work\n",
            "processing:  50.0 % of the work\n",
            "processing:  60.0 % of the work\n",
            "processing:  70.0 % of the work\n",
            "processing:  80.0 % of the work\n",
            "processing:  90.0 % of the work\n",
            "processing:  100.0 % of the work\n"
          ],
          "name": "stdout"
        }
      ]
    },
    {
      "metadata": {
        "id": "PtNL_IUMEEyi",
        "colab_type": "code",
        "colab": {
          "autoexec": {
            "startup": false,
            "wait_interval": 0
          },
          "base_uri": "https://localhost:8080/",
          "height": 170
        },
        "outputId": "45e7fbdd-853f-43d6-f69d-1e25f747f8f5",
        "executionInfo": {
          "status": "ok",
          "timestamp": 1524412026197,
          "user_tz": 240,
          "elapsed": 396,
          "user": {
            "displayName": "Reza Davari",
            "photoUrl": "//lh5.googleusercontent.com/-QVkbnQn2wK4/AAAAAAAAAAI/AAAAAAAAAFA/kgVC69JIYw4/s50-c-k-no/photo.jpg",
            "userId": "106412143772601057521"
          }
        }
      },
      "cell_type": "code",
      "source": [
        "avg_method=np.append(avg_method,np.average(average_success_v0))\n",
        "temp=((np.average(average_success_v0)-avg_reward)/(-avg_reward))*100\n",
        "improvement_method=np.append(improvement_method,temp)\n",
        "\n",
        "print(avg_method)\n",
        "print(improvement_method)"
      ],
      "execution_count": 58,
      "outputs": [
        {
          "output_type": "stream",
          "text": [
            "[-0.244094 -0.2424   -0.23904  -0.22024  -0.20586  -0.18986  -0.18036\n",
            " -0.169    -0.15884  -0.14996  -0.14094  -0.13526  -0.12486  -0.12716\n",
            " -0.11836  -0.11438  -0.10854  -0.11348  -0.09984  -0.10764  -0.10262\n",
            " -0.09454  -0.09288  -0.09244  -0.10032  -0.08844 ]\n",
            "[ 0.          0.69399494  2.07051382  9.77246471 15.66363778 22.2184896\n",
            " 26.11043287 30.76437766 34.92670856 38.56465132 42.25994904 44.58692143\n",
            " 48.84757511 47.90531517 51.51048367 53.14100306 55.53352397 53.50971347\n",
            " 59.09772465 55.90223439 57.95881914 61.26901931 61.94908519 62.12934361\n",
            " 58.90107909 63.76805657]\n"
          ],
          "name": "stdout"
        }
      ]
    },
    {
      "metadata": {
        "id": "QXww2NfJEyrv",
        "colab_type": "code",
        "colab": {
          "autoexec": {
            "startup": false,
            "wait_interval": 0
          },
          "base_uri": "https://localhost:8080/",
          "height": 187
        },
        "collapsed": true,
        "outputId": "73b4f2a4-606e-4cae-b25e-8eb75040aa5d",
        "executionInfo": {
          "status": "ok",
          "timestamp": 1524412142178,
          "user_tz": 240,
          "elapsed": 115575,
          "user": {
            "displayName": "Reza Davari",
            "photoUrl": "//lh5.googleusercontent.com/-QVkbnQn2wK4/AAAAAAAAAAI/AAAAAAAAAFA/kgVC69JIYw4/s50-c-k-no/photo.jpg",
            "userId": "106412143772601057521"
          }
        }
      },
      "cell_type": "code",
      "source": [
        "gamma=0.1\n",
        "lambda_theta=0.5\n",
        "lambda_w=lambda_theta\n",
        "alpha_theta=0.0001\n",
        "alpha_w=0.001\n",
        "number_of_episods=100000\n",
        "number_of_runs_for_average=10\n",
        "average_success_v0=np.zeros(number_of_runs_for_average)\n",
        "theta_saved=theta\n",
        "w_saved=w\n",
        "\n",
        "for n in range(number_of_runs_for_average):\n",
        "  print(\"processing: \",((n+1)*100)/number_of_runs_for_average,\"% of the work\")\n",
        "  theta=theta_saved\n",
        "  w=w_saved\n",
        "  r_t=0\n",
        "  for i in range(number_of_episods):\n",
        "    theta,w,temp=actor_critic_F(gamma,lambda_theta,lambda_w,alpha_theta,alpha_w,theta,w)\n",
        "    r_t+=temp\n",
        "  r_t=r_t/number_of_episods\n",
        "  average_success_v0[n]=r_t"
      ],
      "execution_count": 59,
      "outputs": [
        {
          "output_type": "stream",
          "text": [
            "processing:  10.0 % of the work\n",
            "processing:  20.0 % of the work\n",
            "processing:  30.0 % of the work\n",
            "processing:  40.0 % of the work\n",
            "processing:  50.0 % of the work\n",
            "processing:  60.0 % of the work\n",
            "processing:  70.0 % of the work\n",
            "processing:  80.0 % of the work\n",
            "processing:  90.0 % of the work\n",
            "processing:  100.0 % of the work\n"
          ],
          "name": "stdout"
        }
      ]
    },
    {
      "metadata": {
        "id": "uyFK2IoFE0j8",
        "colab_type": "code",
        "colab": {
          "autoexec": {
            "startup": false,
            "wait_interval": 0
          },
          "base_uri": "https://localhost:8080/",
          "height": 170
        },
        "outputId": "2512f376-0f50-4248-c9dc-5280e5fef6c4",
        "executionInfo": {
          "status": "ok",
          "timestamp": 1524412142725,
          "user_tz": 240,
          "elapsed": 385,
          "user": {
            "displayName": "Reza Davari",
            "photoUrl": "//lh5.googleusercontent.com/-QVkbnQn2wK4/AAAAAAAAAAI/AAAAAAAAAFA/kgVC69JIYw4/s50-c-k-no/photo.jpg",
            "userId": "106412143772601057521"
          }
        }
      },
      "cell_type": "code",
      "source": [
        "avg_method=np.append(avg_method,np.average(average_success_v0))\n",
        "temp=((np.average(average_success_v0)-avg_reward)/(-avg_reward))*100\n",
        "improvement_method=np.append(improvement_method,temp)\n",
        "\n",
        "print(avg_method)\n",
        "print(improvement_method)"
      ],
      "execution_count": 60,
      "outputs": [
        {
          "output_type": "stream",
          "text": [
            "[-0.244094 -0.2424   -0.23904  -0.22024  -0.20586  -0.18986  -0.18036\n",
            " -0.169    -0.15884  -0.14996  -0.14094  -0.13526  -0.12486  -0.12716\n",
            " -0.11836  -0.11438  -0.10854  -0.11348  -0.09984  -0.10764  -0.10262\n",
            " -0.09454  -0.09288  -0.09244  -0.10032  -0.08844  -0.08994 ]\n",
            "[ 0.          0.69399494  2.07051382  9.77246471 15.66363778 22.2184896\n",
            " 26.11043287 30.76437766 34.92670856 38.56465132 42.25994904 44.58692143\n",
            " 48.84757511 47.90531517 51.51048367 53.14100306 55.53352397 53.50971347\n",
            " 59.09772465 55.90223439 57.95881914 61.26901931 61.94908519 62.12934361\n",
            " 58.90107909 63.76805657 63.15353921]\n"
          ],
          "name": "stdout"
        }
      ]
    },
    {
      "metadata": {
        "id": "lCbJ1NcUFNC6",
        "colab_type": "code",
        "colab": {
          "autoexec": {
            "startup": false,
            "wait_interval": 0
          },
          "base_uri": "https://localhost:8080/",
          "height": 187
        },
        "collapsed": true,
        "outputId": "094bc0a4-a891-45ed-8a6a-14240decb092",
        "executionInfo": {
          "status": "ok",
          "timestamp": 1524412259704,
          "user_tz": 240,
          "elapsed": 116526,
          "user": {
            "displayName": "Reza Davari",
            "photoUrl": "//lh5.googleusercontent.com/-QVkbnQn2wK4/AAAAAAAAAAI/AAAAAAAAAFA/kgVC69JIYw4/s50-c-k-no/photo.jpg",
            "userId": "106412143772601057521"
          }
        }
      },
      "cell_type": "code",
      "source": [
        "gamma=0.1\n",
        "lambda_theta=0.5\n",
        "lambda_w=lambda_theta\n",
        "alpha_theta=0.0001\n",
        "alpha_w=0.001\n",
        "number_of_episods=100000\n",
        "number_of_runs_for_average=10\n",
        "average_success_v0=np.zeros(number_of_runs_for_average)\n",
        "theta_saved=theta\n",
        "w_saved=w\n",
        "\n",
        "for n in range(number_of_runs_for_average):\n",
        "  print(\"processing: \",((n+1)*100)/number_of_runs_for_average,\"% of the work\")\n",
        "  theta=theta_saved\n",
        "  w=w_saved\n",
        "  r_t=0\n",
        "  for i in range(number_of_episods):\n",
        "    theta,w,temp=actor_critic_F(gamma,lambda_theta,lambda_w,alpha_theta,alpha_w,theta,w)\n",
        "    r_t+=temp\n",
        "  r_t=r_t/number_of_episods\n",
        "  average_success_v0[n]=r_t"
      ],
      "execution_count": 61,
      "outputs": [
        {
          "output_type": "stream",
          "text": [
            "processing:  10.0 % of the work\n",
            "processing:  20.0 % of the work\n",
            "processing:  30.0 % of the work\n",
            "processing:  40.0 % of the work\n",
            "processing:  50.0 % of the work\n",
            "processing:  60.0 % of the work\n",
            "processing:  70.0 % of the work\n",
            "processing:  80.0 % of the work\n",
            "processing:  90.0 % of the work\n",
            "processing:  100.0 % of the work\n"
          ],
          "name": "stdout"
        }
      ]
    },
    {
      "metadata": {
        "id": "NSPPbOXoFPm1",
        "colab_type": "code",
        "colab": {
          "autoexec": {
            "startup": false,
            "wait_interval": 0
          },
          "base_uri": "https://localhost:8080/",
          "height": 170
        },
        "outputId": "405ac041-918f-4318-9409-99650f850380",
        "executionInfo": {
          "status": "ok",
          "timestamp": 1524412260276,
          "user_tz": 240,
          "elapsed": 372,
          "user": {
            "displayName": "Reza Davari",
            "photoUrl": "//lh5.googleusercontent.com/-QVkbnQn2wK4/AAAAAAAAAAI/AAAAAAAAAFA/kgVC69JIYw4/s50-c-k-no/photo.jpg",
            "userId": "106412143772601057521"
          }
        }
      },
      "cell_type": "code",
      "source": [
        "avg_method=np.append(avg_method,np.average(average_success_v0))\n",
        "temp=((np.average(average_success_v0)-avg_reward)/(-avg_reward))*100\n",
        "improvement_method=np.append(improvement_method,temp)\n",
        "\n",
        "print(avg_method)\n",
        "print(improvement_method)"
      ],
      "execution_count": 62,
      "outputs": [
        {
          "output_type": "stream",
          "text": [
            "[-0.244094 -0.2424   -0.23904  -0.22024  -0.20586  -0.18986  -0.18036\n",
            " -0.169    -0.15884  -0.14996  -0.14094  -0.13526  -0.12486  -0.12716\n",
            " -0.11836  -0.11438  -0.10854  -0.11348  -0.09984  -0.10764  -0.10262\n",
            " -0.09454  -0.09288  -0.09244  -0.10032  -0.08844  -0.08994  -0.09318 ]\n",
            "[ 0.          0.69399494  2.07051382  9.77246471 15.66363778 22.2184896\n",
            " 26.11043287 30.76437766 34.92670856 38.56465132 42.25994904 44.58692143\n",
            " 48.84757511 47.90531517 51.51048367 53.14100306 55.53352397 53.50971347\n",
            " 59.09772465 55.90223439 57.95881914 61.26901931 61.94908519 62.12934361\n",
            " 58.90107909 63.76805657 63.15353921 61.82618172]\n"
          ],
          "name": "stdout"
        }
      ]
    },
    {
      "metadata": {
        "id": "feUafnKRFSlD",
        "colab_type": "code",
        "colab": {
          "autoexec": {
            "startup": false,
            "wait_interval": 0
          },
          "base_uri": "https://localhost:8080/",
          "height": 187
        },
        "collapsed": true,
        "outputId": "bd50f7d1-1a62-453b-bc29-defbcd439b04",
        "executionInfo": {
          "status": "ok",
          "timestamp": 1524412377521,
          "user_tz": 240,
          "elapsed": 116803,
          "user": {
            "displayName": "Reza Davari",
            "photoUrl": "//lh5.googleusercontent.com/-QVkbnQn2wK4/AAAAAAAAAAI/AAAAAAAAAFA/kgVC69JIYw4/s50-c-k-no/photo.jpg",
            "userId": "106412143772601057521"
          }
        }
      },
      "cell_type": "code",
      "source": [
        "gamma=0.1\n",
        "lambda_theta=0.5\n",
        "lambda_w=lambda_theta\n",
        "alpha_theta=0.0001\n",
        "alpha_w=0.001\n",
        "number_of_episods=100000\n",
        "number_of_runs_for_average=10\n",
        "average_success_v0=np.zeros(number_of_runs_for_average)\n",
        "theta_saved=theta\n",
        "w_saved=w\n",
        "\n",
        "for n in range(number_of_runs_for_average):\n",
        "  print(\"processing: \",((n+1)*100)/number_of_runs_for_average,\"% of the work\")\n",
        "  theta=theta_saved\n",
        "  w=w_saved\n",
        "  r_t=0\n",
        "  for i in range(number_of_episods):\n",
        "    theta,w,temp=actor_critic_F(gamma,lambda_theta,lambda_w,alpha_theta,alpha_w,theta,w)\n",
        "    r_t+=temp\n",
        "  r_t=r_t/number_of_episods\n",
        "  average_success_v0[n]=r_t"
      ],
      "execution_count": 63,
      "outputs": [
        {
          "output_type": "stream",
          "text": [
            "processing:  10.0 % of the work\n",
            "processing:  20.0 % of the work\n",
            "processing:  30.0 % of the work\n",
            "processing:  40.0 % of the work\n",
            "processing:  50.0 % of the work\n",
            "processing:  60.0 % of the work\n",
            "processing:  70.0 % of the work\n",
            "processing:  80.0 % of the work\n",
            "processing:  90.0 % of the work\n",
            "processing:  100.0 % of the work\n"
          ],
          "name": "stdout"
        }
      ]
    },
    {
      "metadata": {
        "id": "xIgR5gySFUjm",
        "colab_type": "code",
        "colab": {
          "autoexec": {
            "startup": false,
            "wait_interval": 0
          },
          "base_uri": "https://localhost:8080/",
          "height": 187
        },
        "outputId": "b2223eb3-8f78-4823-ab17-e52082594efc",
        "executionInfo": {
          "status": "ok",
          "timestamp": 1524412378098,
          "user_tz": 240,
          "elapsed": 414,
          "user": {
            "displayName": "Reza Davari",
            "photoUrl": "//lh5.googleusercontent.com/-QVkbnQn2wK4/AAAAAAAAAAI/AAAAAAAAAFA/kgVC69JIYw4/s50-c-k-no/photo.jpg",
            "userId": "106412143772601057521"
          }
        }
      },
      "cell_type": "code",
      "source": [
        "avg_method=np.append(avg_method,np.average(average_success_v0))\n",
        "temp=((np.average(average_success_v0)-avg_reward)/(-avg_reward))*100\n",
        "improvement_method=np.append(improvement_method,temp)\n",
        "\n",
        "print(avg_method)\n",
        "print(improvement_method)"
      ],
      "execution_count": 64,
      "outputs": [
        {
          "output_type": "stream",
          "text": [
            "[-0.244094 -0.2424   -0.23904  -0.22024  -0.20586  -0.18986  -0.18036\n",
            " -0.169    -0.15884  -0.14996  -0.14094  -0.13526  -0.12486  -0.12716\n",
            " -0.11836  -0.11438  -0.10854  -0.11348  -0.09984  -0.10764  -0.10262\n",
            " -0.09454  -0.09288  -0.09244  -0.10032  -0.08844  -0.08994  -0.09318\n",
            " -0.09078 ]\n",
            "[ 0.          0.69399494  2.07051382  9.77246471 15.66363778 22.2184896\n",
            " 26.11043287 30.76437766 34.92670856 38.56465132 42.25994904 44.58692143\n",
            " 48.84757511 47.90531517 51.51048367 53.14100306 55.53352397 53.50971347\n",
            " 59.09772465 55.90223439 57.95881914 61.26901931 61.94908519 62.12934361\n",
            " 58.90107909 63.76805657 63.15353921 61.82618172 62.80940949]\n"
          ],
          "name": "stdout"
        }
      ]
    },
    {
      "metadata": {
        "id": "xvzZ8yeCGDww",
        "colab_type": "code",
        "colab": {
          "autoexec": {
            "startup": false,
            "wait_interval": 0
          },
          "base_uri": "https://localhost:8080/",
          "height": 187
        },
        "collapsed": true,
        "outputId": "5362c01c-bc89-46d4-967a-ded9f1e0b487",
        "executionInfo": {
          "status": "ok",
          "timestamp": 1524412495211,
          "user_tz": 240,
          "elapsed": 116663,
          "user": {
            "displayName": "Reza Davari",
            "photoUrl": "//lh5.googleusercontent.com/-QVkbnQn2wK4/AAAAAAAAAAI/AAAAAAAAAFA/kgVC69JIYw4/s50-c-k-no/photo.jpg",
            "userId": "106412143772601057521"
          }
        }
      },
      "cell_type": "code",
      "source": [
        "gamma=0.1\n",
        "lambda_theta=0.5\n",
        "lambda_w=lambda_theta\n",
        "alpha_theta=0.0001\n",
        "alpha_w=0.001\n",
        "number_of_episods=100000\n",
        "number_of_runs_for_average=10\n",
        "average_success_v0=np.zeros(number_of_runs_for_average)\n",
        "theta_saved=theta\n",
        "w_saved=w\n",
        "\n",
        "for n in range(number_of_runs_for_average):\n",
        "  print(\"processing: \",((n+1)*100)/number_of_runs_for_average,\"% of the work\")\n",
        "  theta=theta_saved\n",
        "  w=w_saved\n",
        "  r_t=0\n",
        "  for i in range(number_of_episods):\n",
        "    theta,w,temp=actor_critic_F(gamma,lambda_theta,lambda_w,alpha_theta,alpha_w,theta,w)\n",
        "    r_t+=temp\n",
        "  r_t=r_t/number_of_episods\n",
        "  average_success_v0[n]=r_t"
      ],
      "execution_count": 65,
      "outputs": [
        {
          "output_type": "stream",
          "text": [
            "processing:  10.0 % of the work\n",
            "processing:  20.0 % of the work\n",
            "processing:  30.0 % of the work\n",
            "processing:  40.0 % of the work\n",
            "processing:  50.0 % of the work\n",
            "processing:  60.0 % of the work\n",
            "processing:  70.0 % of the work\n",
            "processing:  80.0 % of the work\n",
            "processing:  90.0 % of the work\n",
            "processing:  100.0 % of the work\n"
          ],
          "name": "stdout"
        }
      ]
    },
    {
      "metadata": {
        "id": "WcfNpqVnGF5w",
        "colab_type": "code",
        "colab": {
          "autoexec": {
            "startup": false,
            "wait_interval": 0
          },
          "base_uri": "https://localhost:8080/",
          "height": 187
        },
        "outputId": "4fa90e47-2ad6-450f-b90f-3e80be11f3e9",
        "executionInfo": {
          "status": "ok",
          "timestamp": 1524412495721,
          "user_tz": 240,
          "elapsed": 359,
          "user": {
            "displayName": "Reza Davari",
            "photoUrl": "//lh5.googleusercontent.com/-QVkbnQn2wK4/AAAAAAAAAAI/AAAAAAAAAFA/kgVC69JIYw4/s50-c-k-no/photo.jpg",
            "userId": "106412143772601057521"
          }
        }
      },
      "cell_type": "code",
      "source": [
        "avg_method=np.append(avg_method,np.average(average_success_v0))\n",
        "temp=((np.average(average_success_v0)-avg_reward)/(-avg_reward))*100\n",
        "improvement_method=np.append(improvement_method,temp)\n",
        "\n",
        "print(avg_method)\n",
        "print(improvement_method)"
      ],
      "execution_count": 66,
      "outputs": [
        {
          "output_type": "stream",
          "text": [
            "[-0.244094 -0.2424   -0.23904  -0.22024  -0.20586  -0.18986  -0.18036\n",
            " -0.169    -0.15884  -0.14996  -0.14094  -0.13526  -0.12486  -0.12716\n",
            " -0.11836  -0.11438  -0.10854  -0.11348  -0.09984  -0.10764  -0.10262\n",
            " -0.09454  -0.09288  -0.09244  -0.10032  -0.08844  -0.08994  -0.09318\n",
            " -0.09078  -0.08884 ]\n",
            "[ 0.          0.69399494  2.07051382  9.77246471 15.66363778 22.2184896\n",
            " 26.11043287 30.76437766 34.92670856 38.56465132 42.25994904 44.58692143\n",
            " 48.84757511 47.90531517 51.51048367 53.14100306 55.53352397 53.50971347\n",
            " 59.09772465 55.90223439 57.95881914 61.26901931 61.94908519 62.12934361\n",
            " 58.90107909 63.76805657 63.15353921 61.82618172 62.80940949 63.60418527]\n"
          ],
          "name": "stdout"
        }
      ]
    },
    {
      "metadata": {
        "id": "JE3y9hB-GH1y",
        "colab_type": "code",
        "colab": {
          "autoexec": {
            "startup": false,
            "wait_interval": 0
          },
          "base_uri": "https://localhost:8080/",
          "height": 187
        },
        "collapsed": true,
        "outputId": "7dcf4c2c-018b-4762-d778-36084fecc9c2",
        "executionInfo": {
          "status": "ok",
          "timestamp": 1524412612995,
          "user_tz": 240,
          "elapsed": 116781,
          "user": {
            "displayName": "Reza Davari",
            "photoUrl": "//lh5.googleusercontent.com/-QVkbnQn2wK4/AAAAAAAAAAI/AAAAAAAAAFA/kgVC69JIYw4/s50-c-k-no/photo.jpg",
            "userId": "106412143772601057521"
          }
        }
      },
      "cell_type": "code",
      "source": [
        "gamma=0.1\n",
        "lambda_theta=0.5\n",
        "lambda_w=lambda_theta\n",
        "alpha_theta=0.0001\n",
        "alpha_w=0.001\n",
        "number_of_episods=100000\n",
        "number_of_runs_for_average=10\n",
        "average_success_v0=np.zeros(number_of_runs_for_average)\n",
        "theta_saved=theta\n",
        "w_saved=w\n",
        "\n",
        "for n in range(number_of_runs_for_average):\n",
        "  print(\"processing: \",((n+1)*100)/number_of_runs_for_average,\"% of the work\")\n",
        "  theta=theta_saved\n",
        "  w=w_saved\n",
        "  r_t=0\n",
        "  for i in range(number_of_episods):\n",
        "    theta,w,temp=actor_critic_F(gamma,lambda_theta,lambda_w,alpha_theta,alpha_w,theta,w)\n",
        "    r_t+=temp\n",
        "  r_t=r_t/number_of_episods\n",
        "  average_success_v0[n]=r_t"
      ],
      "execution_count": 67,
      "outputs": [
        {
          "output_type": "stream",
          "text": [
            "processing:  10.0 % of the work\n",
            "processing:  20.0 % of the work\n",
            "processing:  30.0 % of the work\n",
            "processing:  40.0 % of the work\n",
            "processing:  50.0 % of the work\n",
            "processing:  60.0 % of the work\n",
            "processing:  70.0 % of the work\n",
            "processing:  80.0 % of the work\n",
            "processing:  90.0 % of the work\n",
            "processing:  100.0 % of the work\n"
          ],
          "name": "stdout"
        }
      ]
    },
    {
      "metadata": {
        "id": "lywcbFFzGMLo",
        "colab_type": "code",
        "colab": {
          "autoexec": {
            "startup": false,
            "wait_interval": 0
          },
          "base_uri": "https://localhost:8080/",
          "height": 204
        },
        "outputId": "c9311db6-a3d9-4f92-bf4f-548b30061251",
        "executionInfo": {
          "status": "ok",
          "timestamp": 1524412613628,
          "user_tz": 240,
          "elapsed": 467,
          "user": {
            "displayName": "Reza Davari",
            "photoUrl": "//lh5.googleusercontent.com/-QVkbnQn2wK4/AAAAAAAAAAI/AAAAAAAAAFA/kgVC69JIYw4/s50-c-k-no/photo.jpg",
            "userId": "106412143772601057521"
          }
        }
      },
      "cell_type": "code",
      "source": [
        "avg_method=np.append(avg_method,np.average(average_success_v0))\n",
        "temp=((np.average(average_success_v0)-avg_reward)/(-avg_reward))*100\n",
        "improvement_method=np.append(improvement_method,temp)\n",
        "\n",
        "print(avg_method)\n",
        "print(improvement_method)"
      ],
      "execution_count": 68,
      "outputs": [
        {
          "output_type": "stream",
          "text": [
            "[-0.244094 -0.2424   -0.23904  -0.22024  -0.20586  -0.18986  -0.18036\n",
            " -0.169    -0.15884  -0.14996  -0.14094  -0.13526  -0.12486  -0.12716\n",
            " -0.11836  -0.11438  -0.10854  -0.11348  -0.09984  -0.10764  -0.10262\n",
            " -0.09454  -0.09288  -0.09244  -0.10032  -0.08844  -0.08994  -0.09318\n",
            " -0.09078  -0.08884  -0.08376 ]\n",
            "[ 0.          0.69399494  2.07051382  9.77246471 15.66363778 22.2184896\n",
            " 26.11043287 30.76437766 34.92670856 38.56465132 42.25994904 44.58692143\n",
            " 48.84757511 47.90531517 51.51048367 53.14100306 55.53352397 53.50971347\n",
            " 59.09772465 55.90223439 57.95881914 61.26901931 61.94908519 62.12934361\n",
            " 58.90107909 63.76805657 63.15353921 61.82618172 62.80940949 63.60418527\n",
            " 65.68535073]\n"
          ],
          "name": "stdout"
        }
      ]
    },
    {
      "metadata": {
        "id": "I26085uEGhdc",
        "colab_type": "code",
        "colab": {
          "autoexec": {
            "startup": false,
            "wait_interval": 0
          },
          "base_uri": "https://localhost:8080/",
          "height": 187
        },
        "collapsed": true,
        "outputId": "7495a6fa-c203-4671-b504-0468e91420bb",
        "executionInfo": {
          "status": "ok",
          "timestamp": 1524412730307,
          "user_tz": 240,
          "elapsed": 116233,
          "user": {
            "displayName": "Reza Davari",
            "photoUrl": "//lh5.googleusercontent.com/-QVkbnQn2wK4/AAAAAAAAAAI/AAAAAAAAAFA/kgVC69JIYw4/s50-c-k-no/photo.jpg",
            "userId": "106412143772601057521"
          }
        }
      },
      "cell_type": "code",
      "source": [
        "gamma=0.1\n",
        "lambda_theta=0.5\n",
        "lambda_w=lambda_theta\n",
        "alpha_theta=0.0001\n",
        "alpha_w=0.001\n",
        "number_of_episods=100000\n",
        "number_of_runs_for_average=10\n",
        "average_success_v0=np.zeros(number_of_runs_for_average)\n",
        "theta_saved=theta\n",
        "w_saved=w\n",
        "\n",
        "for n in range(number_of_runs_for_average):\n",
        "  print(\"processing: \",((n+1)*100)/number_of_runs_for_average,\"% of the work\")\n",
        "  theta=theta_saved\n",
        "  w=w_saved\n",
        "  r_t=0\n",
        "  for i in range(number_of_episods):\n",
        "    theta,w,temp=actor_critic_F(gamma,lambda_theta,lambda_w,alpha_theta,alpha_w,theta,w)\n",
        "    r_t+=temp\n",
        "  r_t=r_t/number_of_episods\n",
        "  average_success_v0[n]=r_t"
      ],
      "execution_count": 69,
      "outputs": [
        {
          "output_type": "stream",
          "text": [
            "processing:  10.0 % of the work\n",
            "processing:  20.0 % of the work\n",
            "processing:  30.0 % of the work\n",
            "processing:  40.0 % of the work\n",
            "processing:  50.0 % of the work\n",
            "processing:  60.0 % of the work\n",
            "processing:  70.0 % of the work\n",
            "processing:  80.0 % of the work\n",
            "processing:  90.0 % of the work\n",
            "processing:  100.0 % of the work\n"
          ],
          "name": "stdout"
        }
      ]
    },
    {
      "metadata": {
        "id": "7vQvxdZPGjiB",
        "colab_type": "code",
        "colab": {
          "autoexec": {
            "startup": false,
            "wait_interval": 0
          },
          "base_uri": "https://localhost:8080/",
          "height": 204
        },
        "outputId": "09eb5503-9bda-44b9-cb52-0901be34b310",
        "executionInfo": {
          "status": "ok",
          "timestamp": 1524412731081,
          "user_tz": 240,
          "elapsed": 623,
          "user": {
            "displayName": "Reza Davari",
            "photoUrl": "//lh5.googleusercontent.com/-QVkbnQn2wK4/AAAAAAAAAAI/AAAAAAAAAFA/kgVC69JIYw4/s50-c-k-no/photo.jpg",
            "userId": "106412143772601057521"
          }
        }
      },
      "cell_type": "code",
      "source": [
        "avg_method=np.append(avg_method,np.average(average_success_v0))\n",
        "temp=((np.average(average_success_v0)-avg_reward)/(-avg_reward))*100\n",
        "improvement_method=np.append(improvement_method,temp)\n",
        "\n",
        "print(avg_method)\n",
        "print(improvement_method)"
      ],
      "execution_count": 70,
      "outputs": [
        {
          "output_type": "stream",
          "text": [
            "[-0.244094 -0.2424   -0.23904  -0.22024  -0.20586  -0.18986  -0.18036\n",
            " -0.169    -0.15884  -0.14996  -0.14094  -0.13526  -0.12486  -0.12716\n",
            " -0.11836  -0.11438  -0.10854  -0.11348  -0.09984  -0.10764  -0.10262\n",
            " -0.09454  -0.09288  -0.09244  -0.10032  -0.08844  -0.08994  -0.09318\n",
            " -0.09078  -0.08884  -0.08376  -0.0845  ]\n",
            "[ 0.          0.69399494  2.07051382  9.77246471 15.66363778 22.2184896\n",
            " 26.11043287 30.76437766 34.92670856 38.56465132 42.25994904 44.58692143\n",
            " 48.84757511 47.90531517 51.51048367 53.14100306 55.53352397 53.50971347\n",
            " 59.09772465 55.90223439 57.95881914 61.26901931 61.94908519 62.12934361\n",
            " 58.90107909 63.76805657 63.15353921 61.82618172 62.80940949 63.60418527\n",
            " 65.68535073 65.38218883]\n"
          ],
          "name": "stdout"
        }
      ]
    },
    {
      "metadata": {
        "id": "OyRqhsXSG55W",
        "colab_type": "code",
        "colab": {
          "autoexec": {
            "startup": false,
            "wait_interval": 0
          },
          "base_uri": "https://localhost:8080/",
          "height": 187
        },
        "collapsed": true,
        "outputId": "b4c89e0a-67f2-409a-fe8b-b37b307d0895",
        "executionInfo": {
          "status": "ok",
          "timestamp": 1524412847943,
          "user_tz": 240,
          "elapsed": 116285,
          "user": {
            "displayName": "Reza Davari",
            "photoUrl": "//lh5.googleusercontent.com/-QVkbnQn2wK4/AAAAAAAAAAI/AAAAAAAAAFA/kgVC69JIYw4/s50-c-k-no/photo.jpg",
            "userId": "106412143772601057521"
          }
        }
      },
      "cell_type": "code",
      "source": [
        "gamma=0.1\n",
        "lambda_theta=0.5\n",
        "lambda_w=lambda_theta\n",
        "alpha_theta=0.0001\n",
        "alpha_w=0.001\n",
        "number_of_episods=100000\n",
        "number_of_runs_for_average=10\n",
        "average_success_v0=np.zeros(number_of_runs_for_average)\n",
        "theta_saved=theta\n",
        "w_saved=w\n",
        "\n",
        "for n in range(number_of_runs_for_average):\n",
        "  print(\"processing: \",((n+1)*100)/number_of_runs_for_average,\"% of the work\")\n",
        "  theta=theta_saved\n",
        "  w=w_saved\n",
        "  r_t=0\n",
        "  for i in range(number_of_episods):\n",
        "    theta,w,temp=actor_critic_F(gamma,lambda_theta,lambda_w,alpha_theta,alpha_w,theta,w)\n",
        "    r_t+=temp\n",
        "  r_t=r_t/number_of_episods\n",
        "  average_success_v0[n]=r_t"
      ],
      "execution_count": 71,
      "outputs": [
        {
          "output_type": "stream",
          "text": [
            "processing:  10.0 % of the work\n",
            "processing:  20.0 % of the work\n",
            "processing:  30.0 % of the work\n",
            "processing:  40.0 % of the work\n",
            "processing:  50.0 % of the work\n",
            "processing:  60.0 % of the work\n",
            "processing:  70.0 % of the work\n",
            "processing:  80.0 % of the work\n",
            "processing:  90.0 % of the work\n",
            "processing:  100.0 % of the work\n"
          ],
          "name": "stdout"
        }
      ]
    },
    {
      "metadata": {
        "id": "3TTgE1jZG8z2",
        "colab_type": "code",
        "colab": {
          "autoexec": {
            "startup": false,
            "wait_interval": 0
          },
          "base_uri": "https://localhost:8080/",
          "height": 204
        },
        "outputId": "76d609ad-9569-49a8-ac60-3fe750c014c0",
        "executionInfo": {
          "status": "ok",
          "timestamp": 1524412848426,
          "user_tz": 240,
          "elapsed": 327,
          "user": {
            "displayName": "Reza Davari",
            "photoUrl": "//lh5.googleusercontent.com/-QVkbnQn2wK4/AAAAAAAAAAI/AAAAAAAAAFA/kgVC69JIYw4/s50-c-k-no/photo.jpg",
            "userId": "106412143772601057521"
          }
        }
      },
      "cell_type": "code",
      "source": [
        "avg_method=np.append(avg_method,np.average(average_success_v0))\n",
        "temp=((np.average(average_success_v0)-avg_reward)/(-avg_reward))*100\n",
        "improvement_method=np.append(improvement_method,temp)\n",
        "\n",
        "print(avg_method)\n",
        "print(improvement_method)"
      ],
      "execution_count": 72,
      "outputs": [
        {
          "output_type": "stream",
          "text": [
            "[-0.244094 -0.2424   -0.23904  -0.22024  -0.20586  -0.18986  -0.18036\n",
            " -0.169    -0.15884  -0.14996  -0.14094  -0.13526  -0.12486  -0.12716\n",
            " -0.11836  -0.11438  -0.10854  -0.11348  -0.09984  -0.10764  -0.10262\n",
            " -0.09454  -0.09288  -0.09244  -0.10032  -0.08844  -0.08994  -0.09318\n",
            " -0.09078  -0.08884  -0.08376  -0.0845   -0.0833  ]\n",
            "[ 0.          0.69399494  2.07051382  9.77246471 15.66363778 22.2184896\n",
            " 26.11043287 30.76437766 34.92670856 38.56465132 42.25994904 44.58692143\n",
            " 48.84757511 47.90531517 51.51048367 53.14100306 55.53352397 53.50971347\n",
            " 59.09772465 55.90223439 57.95881914 61.26901931 61.94908519 62.12934361\n",
            " 58.90107909 63.76805657 63.15353921 61.82618172 62.80940949 63.60418527\n",
            " 65.68535073 65.38218883 65.87380272]\n"
          ],
          "name": "stdout"
        }
      ]
    },
    {
      "metadata": {
        "id": "VBfsAvTmG-9Z",
        "colab_type": "code",
        "colab": {
          "autoexec": {
            "startup": false,
            "wait_interval": 0
          },
          "base_uri": "https://localhost:8080/",
          "height": 187
        },
        "collapsed": true,
        "outputId": "64dbd7b9-fab4-45e9-ea58-bb67610aabce",
        "executionInfo": {
          "status": "ok",
          "timestamp": 1524412965338,
          "user_tz": 240,
          "elapsed": 116458,
          "user": {
            "displayName": "Reza Davari",
            "photoUrl": "//lh5.googleusercontent.com/-QVkbnQn2wK4/AAAAAAAAAAI/AAAAAAAAAFA/kgVC69JIYw4/s50-c-k-no/photo.jpg",
            "userId": "106412143772601057521"
          }
        }
      },
      "cell_type": "code",
      "source": [
        "gamma=0.1\n",
        "lambda_theta=0.5\n",
        "lambda_w=lambda_theta\n",
        "alpha_theta=0.0001\n",
        "alpha_w=0.001\n",
        "number_of_episods=100000\n",
        "number_of_runs_for_average=10\n",
        "average_success_v0=np.zeros(number_of_runs_for_average)\n",
        "theta_saved=theta\n",
        "w_saved=w\n",
        "\n",
        "for n in range(number_of_runs_for_average):\n",
        "  print(\"processing: \",((n+1)*100)/number_of_runs_for_average,\"% of the work\")\n",
        "  theta=theta_saved\n",
        "  w=w_saved\n",
        "  r_t=0\n",
        "  for i in range(number_of_episods):\n",
        "    theta,w,temp=actor_critic_F(gamma,lambda_theta,lambda_w,alpha_theta,alpha_w,theta,w)\n",
        "    r_t+=temp\n",
        "  r_t=r_t/number_of_episods\n",
        "  average_success_v0[n]=r_t"
      ],
      "execution_count": 73,
      "outputs": [
        {
          "output_type": "stream",
          "text": [
            "processing:  10.0 % of the work\n",
            "processing:  20.0 % of the work\n",
            "processing:  30.0 % of the work\n",
            "processing:  40.0 % of the work\n",
            "processing:  50.0 % of the work\n",
            "processing:  60.0 % of the work\n",
            "processing:  70.0 % of the work\n",
            "processing:  80.0 % of the work\n",
            "processing:  90.0 % of the work\n",
            "processing:  100.0 % of the work\n"
          ],
          "name": "stdout"
        }
      ]
    },
    {
      "metadata": {
        "id": "ZFVmTYBPHBMA",
        "colab_type": "code",
        "colab": {
          "autoexec": {
            "startup": false,
            "wait_interval": 0
          },
          "base_uri": "https://localhost:8080/",
          "height": 204
        },
        "outputId": "5414a30c-e5ce-4488-d23a-336b4b8fa96f",
        "executionInfo": {
          "status": "ok",
          "timestamp": 1524412965978,
          "user_tz": 240,
          "elapsed": 456,
          "user": {
            "displayName": "Reza Davari",
            "photoUrl": "//lh5.googleusercontent.com/-QVkbnQn2wK4/AAAAAAAAAAI/AAAAAAAAAFA/kgVC69JIYw4/s50-c-k-no/photo.jpg",
            "userId": "106412143772601057521"
          }
        }
      },
      "cell_type": "code",
      "source": [
        "avg_method=np.append(avg_method,np.average(average_success_v0))\n",
        "temp=((np.average(average_success_v0)-avg_reward)/(-avg_reward))*100\n",
        "improvement_method=np.append(improvement_method,temp)\n",
        "\n",
        "print(avg_method)\n",
        "print(improvement_method)"
      ],
      "execution_count": 74,
      "outputs": [
        {
          "output_type": "stream",
          "text": [
            "[-0.244094 -0.2424   -0.23904  -0.22024  -0.20586  -0.18986  -0.18036\n",
            " -0.169    -0.15884  -0.14996  -0.14094  -0.13526  -0.12486  -0.12716\n",
            " -0.11836  -0.11438  -0.10854  -0.11348  -0.09984  -0.10764  -0.10262\n",
            " -0.09454  -0.09288  -0.09244  -0.10032  -0.08844  -0.08994  -0.09318\n",
            " -0.09078  -0.08884  -0.08376  -0.0845   -0.0833   -0.085   ]\n",
            "[ 0.          0.69399494  2.07051382  9.77246471 15.66363778 22.2184896\n",
            " 26.11043287 30.76437766 34.92670856 38.56465132 42.25994904 44.58692143\n",
            " 48.84757511 47.90531517 51.51048367 53.14100306 55.53352397 53.50971347\n",
            " 59.09772465 55.90223439 57.95881914 61.26901931 61.94908519 62.12934361\n",
            " 58.90107909 63.76805657 63.15353921 61.82618172 62.80940949 63.60418527\n",
            " 65.68535073 65.38218883 65.87380272 65.17734971]\n"
          ],
          "name": "stdout"
        }
      ]
    },
    {
      "metadata": {
        "id": "Fwl8PtLXHvhO",
        "colab_type": "code",
        "colab": {
          "autoexec": {
            "startup": false,
            "wait_interval": 0
          },
          "base_uri": "https://localhost:8080/",
          "height": 187
        },
        "collapsed": true,
        "outputId": "f1a61d4f-9b06-4e48-8346-373f508546ad",
        "executionInfo": {
          "status": "ok",
          "timestamp": 1524413082724,
          "user_tz": 240,
          "elapsed": 116236,
          "user": {
            "displayName": "Reza Davari",
            "photoUrl": "//lh5.googleusercontent.com/-QVkbnQn2wK4/AAAAAAAAAAI/AAAAAAAAAFA/kgVC69JIYw4/s50-c-k-no/photo.jpg",
            "userId": "106412143772601057521"
          }
        }
      },
      "cell_type": "code",
      "source": [
        "gamma=0.1\n",
        "lambda_theta=0.5\n",
        "lambda_w=lambda_theta\n",
        "alpha_theta=0.0001\n",
        "alpha_w=0.001\n",
        "number_of_episods=100000\n",
        "number_of_runs_for_average=10\n",
        "average_success_v0=np.zeros(number_of_runs_for_average)\n",
        "theta_saved=theta\n",
        "w_saved=w\n",
        "\n",
        "for n in range(number_of_runs_for_average):\n",
        "  print(\"processing: \",((n+1)*100)/number_of_runs_for_average,\"% of the work\")\n",
        "  theta=theta_saved\n",
        "  w=w_saved\n",
        "  r_t=0\n",
        "  for i in range(number_of_episods):\n",
        "    theta,w,temp=actor_critic_F(gamma,lambda_theta,lambda_w,alpha_theta,alpha_w,theta,w)\n",
        "    r_t+=temp\n",
        "  r_t=r_t/number_of_episods\n",
        "  average_success_v0[n]=r_t"
      ],
      "execution_count": 75,
      "outputs": [
        {
          "output_type": "stream",
          "text": [
            "processing:  10.0 % of the work\n",
            "processing:  20.0 % of the work\n",
            "processing:  30.0 % of the work\n",
            "processing:  40.0 % of the work\n",
            "processing:  50.0 % of the work\n",
            "processing:  60.0 % of the work\n",
            "processing:  70.0 % of the work\n",
            "processing:  80.0 % of the work\n",
            "processing:  90.0 % of the work\n",
            "processing:  100.0 % of the work\n"
          ],
          "name": "stdout"
        }
      ]
    },
    {
      "metadata": {
        "id": "daHWo37DHyto",
        "colab_type": "code",
        "colab": {
          "autoexec": {
            "startup": false,
            "wait_interval": 0
          },
          "base_uri": "https://localhost:8080/",
          "height": 204
        },
        "outputId": "934cd513-ffbf-4d82-8be1-c0aa82bca3e8",
        "executionInfo": {
          "status": "ok",
          "timestamp": 1524413083285,
          "user_tz": 240,
          "elapsed": 415,
          "user": {
            "displayName": "Reza Davari",
            "photoUrl": "//lh5.googleusercontent.com/-QVkbnQn2wK4/AAAAAAAAAAI/AAAAAAAAAFA/kgVC69JIYw4/s50-c-k-no/photo.jpg",
            "userId": "106412143772601057521"
          }
        }
      },
      "cell_type": "code",
      "source": [
        "avg_method=np.append(avg_method,np.average(average_success_v0))\n",
        "temp=((np.average(average_success_v0)-avg_reward)/(-avg_reward))*100\n",
        "improvement_method=np.append(improvement_method,temp)\n",
        "\n",
        "print(avg_method)\n",
        "print(improvement_method)"
      ],
      "execution_count": 76,
      "outputs": [
        {
          "output_type": "stream",
          "text": [
            "[-0.244094 -0.2424   -0.23904  -0.22024  -0.20586  -0.18986  -0.18036\n",
            " -0.169    -0.15884  -0.14996  -0.14094  -0.13526  -0.12486  -0.12716\n",
            " -0.11836  -0.11438  -0.10854  -0.11348  -0.09984  -0.10764  -0.10262\n",
            " -0.09454  -0.09288  -0.09244  -0.10032  -0.08844  -0.08994  -0.09318\n",
            " -0.09078  -0.08884  -0.08376  -0.0845   -0.0833   -0.085    -0.08166 ]\n",
            "[ 0.          0.69399494  2.07051382  9.77246471 15.66363778 22.2184896\n",
            " 26.11043287 30.76437766 34.92670856 38.56465132 42.25994904 44.58692143\n",
            " 48.84757511 47.90531517 51.51048367 53.14100306 55.53352397 53.50971347\n",
            " 59.09772465 55.90223439 57.95881914 61.26901931 61.94908519 62.12934361\n",
            " 58.90107909 63.76805657 63.15353921 61.82618172 62.80940949 63.60418527\n",
            " 65.68535073 65.38218883 65.87380272 65.17734971 66.54567503]\n"
          ],
          "name": "stdout"
        }
      ]
    },
    {
      "metadata": {
        "id": "r8h17iUrH0cr",
        "colab_type": "code",
        "colab": {
          "autoexec": {
            "startup": false,
            "wait_interval": 0
          },
          "base_uri": "https://localhost:8080/",
          "height": 187
        },
        "collapsed": true,
        "outputId": "331fb503-afee-4fd2-bc32-084b1f6c234b",
        "executionInfo": {
          "status": "ok",
          "timestamp": 1524413199626,
          "user_tz": 240,
          "elapsed": 115971,
          "user": {
            "displayName": "Reza Davari",
            "photoUrl": "//lh5.googleusercontent.com/-QVkbnQn2wK4/AAAAAAAAAAI/AAAAAAAAAFA/kgVC69JIYw4/s50-c-k-no/photo.jpg",
            "userId": "106412143772601057521"
          }
        }
      },
      "cell_type": "code",
      "source": [
        "gamma=0.1\n",
        "lambda_theta=0.5\n",
        "lambda_w=lambda_theta\n",
        "alpha_theta=0.0001\n",
        "alpha_w=0.001\n",
        "number_of_episods=100000\n",
        "number_of_runs_for_average=10\n",
        "average_success_v0=np.zeros(number_of_runs_for_average)\n",
        "theta_saved=theta\n",
        "w_saved=w\n",
        "\n",
        "for n in range(number_of_runs_for_average):\n",
        "  print(\"processing: \",((n+1)*100)/number_of_runs_for_average,\"% of the work\")\n",
        "  theta=theta_saved\n",
        "  w=w_saved\n",
        "  r_t=0\n",
        "  for i in range(number_of_episods):\n",
        "    theta,w,temp=actor_critic_F(gamma,lambda_theta,lambda_w,alpha_theta,alpha_w,theta,w)\n",
        "    r_t+=temp\n",
        "  r_t=r_t/number_of_episods\n",
        "  average_success_v0[n]=r_t"
      ],
      "execution_count": 77,
      "outputs": [
        {
          "output_type": "stream",
          "text": [
            "processing:  10.0 % of the work\n",
            "processing:  20.0 % of the work\n",
            "processing:  30.0 % of the work\n",
            "processing:  40.0 % of the work\n",
            "processing:  50.0 % of the work\n",
            "processing:  60.0 % of the work\n",
            "processing:  70.0 % of the work\n",
            "processing:  80.0 % of the work\n",
            "processing:  90.0 % of the work\n",
            "processing:  100.0 % of the work\n"
          ],
          "name": "stdout"
        }
      ]
    },
    {
      "metadata": {
        "id": "VVFgH5ABHyBg",
        "colab_type": "code",
        "colab": {
          "autoexec": {
            "startup": false,
            "wait_interval": 0
          },
          "base_uri": "https://localhost:8080/",
          "height": 221
        },
        "outputId": "6190a6d0-edfa-4cd9-a592-5752c689aec9",
        "executionInfo": {
          "status": "ok",
          "timestamp": 1524413200173,
          "user_tz": 240,
          "elapsed": 391,
          "user": {
            "displayName": "Reza Davari",
            "photoUrl": "//lh5.googleusercontent.com/-QVkbnQn2wK4/AAAAAAAAAAI/AAAAAAAAAFA/kgVC69JIYw4/s50-c-k-no/photo.jpg",
            "userId": "106412143772601057521"
          }
        }
      },
      "cell_type": "code",
      "source": [
        "avg_method=np.append(avg_method,np.average(average_success_v0))\n",
        "temp=((np.average(average_success_v0)-avg_reward)/(-avg_reward))*100\n",
        "improvement_method=np.append(improvement_method,temp)\n",
        "\n",
        "print(avg_method)\n",
        "print(improvement_method)"
      ],
      "execution_count": 78,
      "outputs": [
        {
          "output_type": "stream",
          "text": [
            "[-0.244094 -0.2424   -0.23904  -0.22024  -0.20586  -0.18986  -0.18036\n",
            " -0.169    -0.15884  -0.14996  -0.14094  -0.13526  -0.12486  -0.12716\n",
            " -0.11836  -0.11438  -0.10854  -0.11348  -0.09984  -0.10764  -0.10262\n",
            " -0.09454  -0.09288  -0.09244  -0.10032  -0.08844  -0.08994  -0.09318\n",
            " -0.09078  -0.08884  -0.08376  -0.0845   -0.0833   -0.085    -0.08166\n",
            " -0.08284 ]\n",
            "[ 0.          0.69399494  2.07051382  9.77246471 15.66363778 22.2184896\n",
            " 26.11043287 30.76437766 34.92670856 38.56465132 42.25994904 44.58692143\n",
            " 48.84757511 47.90531517 51.51048367 53.14100306 55.53352397 53.50971347\n",
            " 59.09772465 55.90223439 57.95881914 61.26901931 61.94908519 62.12934361\n",
            " 58.90107909 63.76805657 63.15353921 61.82618172 62.80940949 63.60418527\n",
            " 65.68535073 65.38218883 65.87380272 65.17734971 66.54567503 66.06225471]\n"
          ],
          "name": "stdout"
        }
      ]
    },
    {
      "metadata": {
        "id": "APUbkj82IlEK",
        "colab_type": "code",
        "colab": {
          "autoexec": {
            "startup": false,
            "wait_interval": 0
          },
          "base_uri": "https://localhost:8080/",
          "height": 187
        },
        "collapsed": true,
        "outputId": "1537dee8-b11e-484d-90bc-85577461ef88",
        "executionInfo": {
          "status": "ok",
          "timestamp": 1524413316584,
          "user_tz": 240,
          "elapsed": 115979,
          "user": {
            "displayName": "Reza Davari",
            "photoUrl": "//lh5.googleusercontent.com/-QVkbnQn2wK4/AAAAAAAAAAI/AAAAAAAAAFA/kgVC69JIYw4/s50-c-k-no/photo.jpg",
            "userId": "106412143772601057521"
          }
        }
      },
      "cell_type": "code",
      "source": [
        "gamma=0.1\n",
        "lambda_theta=0.5\n",
        "lambda_w=lambda_theta\n",
        "alpha_theta=0.0001\n",
        "alpha_w=0.001\n",
        "number_of_episods=100000\n",
        "number_of_runs_for_average=10\n",
        "average_success_v0=np.zeros(number_of_runs_for_average)\n",
        "theta_saved=theta\n",
        "w_saved=w\n",
        "\n",
        "for n in range(number_of_runs_for_average):\n",
        "  print(\"processing: \",((n+1)*100)/number_of_runs_for_average,\"% of the work\")\n",
        "  theta=theta_saved\n",
        "  w=w_saved\n",
        "  r_t=0\n",
        "  for i in range(number_of_episods):\n",
        "    theta,w,temp=actor_critic_F(gamma,lambda_theta,lambda_w,alpha_theta,alpha_w,theta,w)\n",
        "    r_t+=temp\n",
        "  r_t=r_t/number_of_episods\n",
        "  average_success_v0[n]=r_t"
      ],
      "execution_count": 79,
      "outputs": [
        {
          "output_type": "stream",
          "text": [
            "processing:  10.0 % of the work\n",
            "processing:  20.0 % of the work\n",
            "processing:  30.0 % of the work\n",
            "processing:  40.0 % of the work\n",
            "processing:  50.0 % of the work\n",
            "processing:  60.0 % of the work\n",
            "processing:  70.0 % of the work\n",
            "processing:  80.0 % of the work\n",
            "processing:  90.0 % of the work\n",
            "processing:  100.0 % of the work\n"
          ],
          "name": "stdout"
        }
      ]
    },
    {
      "metadata": {
        "id": "u5AZU-eqIoEL",
        "colab_type": "code",
        "colab": {
          "autoexec": {
            "startup": false,
            "wait_interval": 0
          },
          "base_uri": "https://localhost:8080/",
          "height": 238
        },
        "outputId": "7876366f-5009-46fa-b1ff-57677c002f48",
        "executionInfo": {
          "status": "ok",
          "timestamp": 1524413317155,
          "user_tz": 240,
          "elapsed": 356,
          "user": {
            "displayName": "Reza Davari",
            "photoUrl": "//lh5.googleusercontent.com/-QVkbnQn2wK4/AAAAAAAAAAI/AAAAAAAAAFA/kgVC69JIYw4/s50-c-k-no/photo.jpg",
            "userId": "106412143772601057521"
          }
        }
      },
      "cell_type": "code",
      "source": [
        "avg_method=np.append(avg_method,np.average(average_success_v0))\n",
        "temp=((np.average(average_success_v0)-avg_reward)/(-avg_reward))*100\n",
        "improvement_method=np.append(improvement_method,temp)\n",
        "\n",
        "print(avg_method)\n",
        "print(improvement_method)"
      ],
      "execution_count": 80,
      "outputs": [
        {
          "output_type": "stream",
          "text": [
            "[-0.244094 -0.2424   -0.23904  -0.22024  -0.20586  -0.18986  -0.18036\n",
            " -0.169    -0.15884  -0.14996  -0.14094  -0.13526  -0.12486  -0.12716\n",
            " -0.11836  -0.11438  -0.10854  -0.11348  -0.09984  -0.10764  -0.10262\n",
            " -0.09454  -0.09288  -0.09244  -0.10032  -0.08844  -0.08994  -0.09318\n",
            " -0.09078  -0.08884  -0.08376  -0.0845   -0.0833   -0.085    -0.08166\n",
            " -0.08284  -0.0849  ]\n",
            "[ 0.          0.69399494  2.07051382  9.77246471 15.66363778 22.2184896\n",
            " 26.11043287 30.76437766 34.92670856 38.56465132 42.25994904 44.58692143\n",
            " 48.84757511 47.90531517 51.51048367 53.14100306 55.53352397 53.50971347\n",
            " 59.09772465 55.90223439 57.95881914 61.26901931 61.94908519 62.12934361\n",
            " 58.90107909 63.76805657 63.15353921 61.82618172 62.80940949 63.60418527\n",
            " 65.68535073 65.38218883 65.87380272 65.17734971 66.54567503 66.06225471\n",
            " 65.21831753]\n"
          ],
          "name": "stdout"
        }
      ]
    },
    {
      "metadata": {
        "id": "srdTzA5XIp8x",
        "colab_type": "code",
        "colab": {
          "autoexec": {
            "startup": false,
            "wait_interval": 0
          },
          "base_uri": "https://localhost:8080/",
          "height": 187
        },
        "collapsed": true,
        "outputId": "c9bd0e2d-5a11-4d3f-b0ce-897c4e28927b",
        "executionInfo": {
          "status": "ok",
          "timestamp": 1524413433892,
          "user_tz": 240,
          "elapsed": 116310,
          "user": {
            "displayName": "Reza Davari",
            "photoUrl": "//lh5.googleusercontent.com/-QVkbnQn2wK4/AAAAAAAAAAI/AAAAAAAAAFA/kgVC69JIYw4/s50-c-k-no/photo.jpg",
            "userId": "106412143772601057521"
          }
        }
      },
      "cell_type": "code",
      "source": [
        "gamma=0.1\n",
        "lambda_theta=0.5\n",
        "lambda_w=lambda_theta\n",
        "alpha_theta=0.0001\n",
        "alpha_w=0.001\n",
        "number_of_episods=100000\n",
        "number_of_runs_for_average=10\n",
        "average_success_v0=np.zeros(number_of_runs_for_average)\n",
        "theta_saved=theta\n",
        "w_saved=w\n",
        "\n",
        "for n in range(number_of_runs_for_average):\n",
        "  print(\"processing: \",((n+1)*100)/number_of_runs_for_average,\"% of the work\")\n",
        "  theta=theta_saved\n",
        "  w=w_saved\n",
        "  r_t=0\n",
        "  for i in range(number_of_episods):\n",
        "    theta,w,temp=actor_critic_F(gamma,lambda_theta,lambda_w,alpha_theta,alpha_w,theta,w)\n",
        "    r_t+=temp\n",
        "  r_t=r_t/number_of_episods\n",
        "  average_success_v0[n]=r_t"
      ],
      "execution_count": 81,
      "outputs": [
        {
          "output_type": "stream",
          "text": [
            "processing:  10.0 % of the work\n",
            "processing:  20.0 % of the work\n",
            "processing:  30.0 % of the work\n",
            "processing:  40.0 % of the work\n",
            "processing:  50.0 % of the work\n",
            "processing:  60.0 % of the work\n",
            "processing:  70.0 % of the work\n",
            "processing:  80.0 % of the work\n",
            "processing:  90.0 % of the work\n",
            "processing:  100.0 % of the work\n"
          ],
          "name": "stdout"
        }
      ]
    },
    {
      "metadata": {
        "id": "cvIWlC-SItLF",
        "colab_type": "code",
        "colab": {
          "autoexec": {
            "startup": false,
            "wait_interval": 0
          },
          "base_uri": "https://localhost:8080/",
          "height": 238
        },
        "outputId": "8b5a25e6-fae2-4800-93df-b75a9ba59ab9",
        "executionInfo": {
          "status": "ok",
          "timestamp": 1524413434366,
          "user_tz": 240,
          "elapsed": 322,
          "user": {
            "displayName": "Reza Davari",
            "photoUrl": "//lh5.googleusercontent.com/-QVkbnQn2wK4/AAAAAAAAAAI/AAAAAAAAAFA/kgVC69JIYw4/s50-c-k-no/photo.jpg",
            "userId": "106412143772601057521"
          }
        }
      },
      "cell_type": "code",
      "source": [
        "avg_method=np.append(avg_method,np.average(average_success_v0))\n",
        "temp=((np.average(average_success_v0)-avg_reward)/(-avg_reward))*100\n",
        "improvement_method=np.append(improvement_method,temp)\n",
        "\n",
        "print(avg_method)\n",
        "print(improvement_method)"
      ],
      "execution_count": 82,
      "outputs": [
        {
          "output_type": "stream",
          "text": [
            "[-0.244094 -0.2424   -0.23904  -0.22024  -0.20586  -0.18986  -0.18036\n",
            " -0.169    -0.15884  -0.14996  -0.14094  -0.13526  -0.12486  -0.12716\n",
            " -0.11836  -0.11438  -0.10854  -0.11348  -0.09984  -0.10764  -0.10262\n",
            " -0.09454  -0.09288  -0.09244  -0.10032  -0.08844  -0.08994  -0.09318\n",
            " -0.09078  -0.08884  -0.08376  -0.0845   -0.0833   -0.085    -0.08166\n",
            " -0.08284  -0.0849   -0.08636 ]\n",
            "[ 0.          0.69399494  2.07051382  9.77246471 15.66363778 22.2184896\n",
            " 26.11043287 30.76437766 34.92670856 38.56465132 42.25994904 44.58692143\n",
            " 48.84757511 47.90531517 51.51048367 53.14100306 55.53352397 53.50971347\n",
            " 59.09772465 55.90223439 57.95881914 61.26901931 61.94908519 62.12934361\n",
            " 58.90107909 63.76805657 63.15353921 61.82618172 62.80940949 63.60418527\n",
            " 65.68535073 65.38218883 65.87380272 65.17734971 66.54567503 66.06225471\n",
            " 65.21831753 64.6201873 ]\n"
          ],
          "name": "stdout"
        }
      ]
    },
    {
      "metadata": {
        "id": "HvJV32B3JZ0b",
        "colab_type": "code",
        "colab": {
          "autoexec": {
            "startup": false,
            "wait_interval": 0
          },
          "base_uri": "https://localhost:8080/",
          "height": 187
        },
        "collapsed": true,
        "outputId": "802b8e41-6532-4ee1-f5bb-94ebee5523b9",
        "executionInfo": {
          "status": "ok",
          "timestamp": 1524413551098,
          "user_tz": 240,
          "elapsed": 116341,
          "user": {
            "displayName": "Reza Davari",
            "photoUrl": "//lh5.googleusercontent.com/-QVkbnQn2wK4/AAAAAAAAAAI/AAAAAAAAAFA/kgVC69JIYw4/s50-c-k-no/photo.jpg",
            "userId": "106412143772601057521"
          }
        }
      },
      "cell_type": "code",
      "source": [
        "gamma=0.1\n",
        "lambda_theta=0.5\n",
        "lambda_w=lambda_theta\n",
        "alpha_theta=0.0001\n",
        "alpha_w=0.001\n",
        "number_of_episods=100000\n",
        "number_of_runs_for_average=10\n",
        "average_success_v0=np.zeros(number_of_runs_for_average)\n",
        "theta_saved=theta\n",
        "w_saved=w\n",
        "\n",
        "for n in range(number_of_runs_for_average):\n",
        "  print(\"processing: \",((n+1)*100)/number_of_runs_for_average,\"% of the work\")\n",
        "  theta=theta_saved\n",
        "  w=w_saved\n",
        "  r_t=0\n",
        "  for i in range(number_of_episods):\n",
        "    theta,w,temp=actor_critic_F(gamma,lambda_theta,lambda_w,alpha_theta,alpha_w,theta,w)\n",
        "    r_t+=temp\n",
        "  r_t=r_t/number_of_episods\n",
        "  average_success_v0[n]=r_t"
      ],
      "execution_count": 83,
      "outputs": [
        {
          "output_type": "stream",
          "text": [
            "processing:  10.0 % of the work\n",
            "processing:  20.0 % of the work\n",
            "processing:  30.0 % of the work\n",
            "processing:  40.0 % of the work\n",
            "processing:  50.0 % of the work\n",
            "processing:  60.0 % of the work\n",
            "processing:  70.0 % of the work\n",
            "processing:  80.0 % of the work\n",
            "processing:  90.0 % of the work\n",
            "processing:  100.0 % of the work\n"
          ],
          "name": "stdout"
        }
      ]
    },
    {
      "metadata": {
        "id": "pSUF9XUyJcsC",
        "colab_type": "code",
        "colab": {
          "autoexec": {
            "startup": false,
            "wait_interval": 0
          },
          "base_uri": "https://localhost:8080/",
          "height": 238
        },
        "outputId": "34c7a048-21b3-4d1a-db38-d4f3fcdc5641",
        "executionInfo": {
          "status": "ok",
          "timestamp": 1524413551585,
          "user_tz": 240,
          "elapsed": 326,
          "user": {
            "displayName": "Reza Davari",
            "photoUrl": "//lh5.googleusercontent.com/-QVkbnQn2wK4/AAAAAAAAAAI/AAAAAAAAAFA/kgVC69JIYw4/s50-c-k-no/photo.jpg",
            "userId": "106412143772601057521"
          }
        }
      },
      "cell_type": "code",
      "source": [
        "avg_method=np.append(avg_method,np.average(average_success_v0))\n",
        "temp=((np.average(average_success_v0)-avg_reward)/(-avg_reward))*100\n",
        "improvement_method=np.append(improvement_method,temp)\n",
        "\n",
        "print(avg_method)\n",
        "print(improvement_method)"
      ],
      "execution_count": 84,
      "outputs": [
        {
          "output_type": "stream",
          "text": [
            "[-0.244094 -0.2424   -0.23904  -0.22024  -0.20586  -0.18986  -0.18036\n",
            " -0.169    -0.15884  -0.14996  -0.14094  -0.13526  -0.12486  -0.12716\n",
            " -0.11836  -0.11438  -0.10854  -0.11348  -0.09984  -0.10764  -0.10262\n",
            " -0.09454  -0.09288  -0.09244  -0.10032  -0.08844  -0.08994  -0.09318\n",
            " -0.09078  -0.08884  -0.08376  -0.0845   -0.0833   -0.085    -0.08166\n",
            " -0.08284  -0.0849   -0.08636  -0.07952 ]\n",
            "[ 0.          0.69399494  2.07051382  9.77246471 15.66363778 22.2184896\n",
            " 26.11043287 30.76437766 34.92670856 38.56465132 42.25994904 44.58692143\n",
            " 48.84757511 47.90531517 51.51048367 53.14100306 55.53352397 53.50971347\n",
            " 59.09772465 55.90223439 57.95881914 61.26901931 61.94908519 62.12934361\n",
            " 58.90107909 63.76805657 63.15353921 61.82618172 62.80940949 63.60418527\n",
            " 65.68535073 65.38218883 65.87380272 65.17734971 66.54567503 66.06225471\n",
            " 65.21831753 64.6201873  67.42238646]\n"
          ],
          "name": "stdout"
        }
      ]
    },
    {
      "metadata": {
        "id": "hGK0b7T6JfIC",
        "colab_type": "code",
        "colab": {
          "autoexec": {
            "startup": false,
            "wait_interval": 0
          },
          "base_uri": "https://localhost:8080/",
          "height": 187
        },
        "collapsed": true,
        "outputId": "00bb3647-3ba6-49c6-a2dd-9167ab300f0d",
        "executionInfo": {
          "status": "ok",
          "timestamp": 1524413668854,
          "user_tz": 240,
          "elapsed": 116822,
          "user": {
            "displayName": "Reza Davari",
            "photoUrl": "//lh5.googleusercontent.com/-QVkbnQn2wK4/AAAAAAAAAAI/AAAAAAAAAFA/kgVC69JIYw4/s50-c-k-no/photo.jpg",
            "userId": "106412143772601057521"
          }
        }
      },
      "cell_type": "code",
      "source": [
        "gamma=0.1\n",
        "lambda_theta=0.5\n",
        "lambda_w=lambda_theta\n",
        "alpha_theta=0.0001\n",
        "alpha_w=0.001\n",
        "number_of_episods=100000\n",
        "number_of_runs_for_average=10\n",
        "average_success_v0=np.zeros(number_of_runs_for_average)\n",
        "theta_saved=theta\n",
        "w_saved=w\n",
        "\n",
        "for n in range(number_of_runs_for_average):\n",
        "  print(\"processing: \",((n+1)*100)/number_of_runs_for_average,\"% of the work\")\n",
        "  theta=theta_saved\n",
        "  w=w_saved\n",
        "  r_t=0\n",
        "  for i in range(number_of_episods):\n",
        "    theta,w,temp=actor_critic_F(gamma,lambda_theta,lambda_w,alpha_theta,alpha_w,theta,w)\n",
        "    r_t+=temp\n",
        "  r_t=r_t/number_of_episods\n",
        "  average_success_v0[n]=r_t"
      ],
      "execution_count": 85,
      "outputs": [
        {
          "output_type": "stream",
          "text": [
            "processing:  10.0 % of the work\n",
            "processing:  20.0 % of the work\n",
            "processing:  30.0 % of the work\n",
            "processing:  40.0 % of the work\n",
            "processing:  50.0 % of the work\n",
            "processing:  60.0 % of the work\n",
            "processing:  70.0 % of the work\n",
            "processing:  80.0 % of the work\n",
            "processing:  90.0 % of the work\n",
            "processing:  100.0 % of the work\n"
          ],
          "name": "stdout"
        }
      ]
    },
    {
      "metadata": {
        "id": "8xZARR7NJhcG",
        "colab_type": "code",
        "colab": {
          "autoexec": {
            "startup": false,
            "wait_interval": 0
          },
          "base_uri": "https://localhost:8080/",
          "height": 238
        },
        "outputId": "4db8f28b-2188-429a-d5bf-273bf5bd729c",
        "executionInfo": {
          "status": "ok",
          "timestamp": 1524413669401,
          "user_tz": 240,
          "elapsed": 402,
          "user": {
            "displayName": "Reza Davari",
            "photoUrl": "//lh5.googleusercontent.com/-QVkbnQn2wK4/AAAAAAAAAAI/AAAAAAAAAFA/kgVC69JIYw4/s50-c-k-no/photo.jpg",
            "userId": "106412143772601057521"
          }
        }
      },
      "cell_type": "code",
      "source": [
        "avg_method=np.append(avg_method,np.average(average_success_v0))\n",
        "temp=((np.average(average_success_v0)-avg_reward)/(-avg_reward))*100\n",
        "improvement_method=np.append(improvement_method,temp)\n",
        "\n",
        "print(avg_method)\n",
        "print(improvement_method)"
      ],
      "execution_count": 86,
      "outputs": [
        {
          "output_type": "stream",
          "text": [
            "[-0.244094 -0.2424   -0.23904  -0.22024  -0.20586  -0.18986  -0.18036\n",
            " -0.169    -0.15884  -0.14996  -0.14094  -0.13526  -0.12486  -0.12716\n",
            " -0.11836  -0.11438  -0.10854  -0.11348  -0.09984  -0.10764  -0.10262\n",
            " -0.09454  -0.09288  -0.09244  -0.10032  -0.08844  -0.08994  -0.09318\n",
            " -0.09078  -0.08884  -0.08376  -0.0845   -0.0833   -0.085    -0.08166\n",
            " -0.08284  -0.0849   -0.08636  -0.07952  -0.07866 ]\n",
            "[ 0.          0.69399494  2.07051382  9.77246471 15.66363778 22.2184896\n",
            " 26.11043287 30.76437766 34.92670856 38.56465132 42.25994904 44.58692143\n",
            " 48.84757511 47.90531517 51.51048367 53.14100306 55.53352397 53.50971347\n",
            " 59.09772465 55.90223439 57.95881914 61.26901931 61.94908519 62.12934361\n",
            " 58.90107909 63.76805657 63.15353921 61.82618172 62.80940949 63.60418527\n",
            " 65.68535073 65.38218883 65.87380272 65.17734971 66.54567503 66.06225471\n",
            " 65.21831753 64.6201873  67.42238646 67.77470974]\n"
          ],
          "name": "stdout"
        }
      ]
    },
    {
      "metadata": {
        "id": "EZxDV84dKfOw",
        "colab_type": "code",
        "colab": {
          "autoexec": {
            "startup": false,
            "wait_interval": 0
          },
          "base_uri": "https://localhost:8080/",
          "height": 187
        },
        "collapsed": true,
        "outputId": "3132fb9d-7280-489a-ef63-1f3fcb3c0736",
        "executionInfo": {
          "status": "ok",
          "timestamp": 1524413786435,
          "user_tz": 240,
          "elapsed": 116598,
          "user": {
            "displayName": "Reza Davari",
            "photoUrl": "//lh5.googleusercontent.com/-QVkbnQn2wK4/AAAAAAAAAAI/AAAAAAAAAFA/kgVC69JIYw4/s50-c-k-no/photo.jpg",
            "userId": "106412143772601057521"
          }
        }
      },
      "cell_type": "code",
      "source": [
        "gamma=0.1\n",
        "lambda_theta=0.5\n",
        "lambda_w=lambda_theta\n",
        "alpha_theta=0.0001\n",
        "alpha_w=0.001\n",
        "number_of_episods=100000\n",
        "number_of_runs_for_average=10\n",
        "average_success_v0=np.zeros(number_of_runs_for_average)\n",
        "theta_saved=theta\n",
        "w_saved=w\n",
        "\n",
        "for n in range(number_of_runs_for_average):\n",
        "  print(\"processing: \",((n+1)*100)/number_of_runs_for_average,\"% of the work\")\n",
        "  theta=theta_saved\n",
        "  w=w_saved\n",
        "  r_t=0\n",
        "  for i in range(number_of_episods):\n",
        "    theta,w,temp=actor_critic_F(gamma,lambda_theta,lambda_w,alpha_theta,alpha_w,theta,w)\n",
        "    r_t+=temp\n",
        "  r_t=r_t/number_of_episods\n",
        "  average_success_v0[n]=r_t"
      ],
      "execution_count": 87,
      "outputs": [
        {
          "output_type": "stream",
          "text": [
            "processing:  10.0 % of the work\n",
            "processing:  20.0 % of the work\n",
            "processing:  30.0 % of the work\n",
            "processing:  40.0 % of the work\n",
            "processing:  50.0 % of the work\n",
            "processing:  60.0 % of the work\n",
            "processing:  70.0 % of the work\n",
            "processing:  80.0 % of the work\n",
            "processing:  90.0 % of the work\n",
            "processing:  100.0 % of the work\n"
          ],
          "name": "stdout"
        }
      ]
    },
    {
      "metadata": {
        "id": "zljYpPkWKkzk",
        "colab_type": "code",
        "colab": {
          "autoexec": {
            "startup": false,
            "wait_interval": 0
          },
          "base_uri": "https://localhost:8080/",
          "height": 238
        },
        "outputId": "b3456cc0-eda6-46e7-c30a-fa5893e361bf",
        "executionInfo": {
          "status": "ok",
          "timestamp": 1524413786877,
          "user_tz": 240,
          "elapsed": 391,
          "user": {
            "displayName": "Reza Davari",
            "photoUrl": "//lh5.googleusercontent.com/-QVkbnQn2wK4/AAAAAAAAAAI/AAAAAAAAAFA/kgVC69JIYw4/s50-c-k-no/photo.jpg",
            "userId": "106412143772601057521"
          }
        }
      },
      "cell_type": "code",
      "source": [
        "avg_method=np.append(avg_method,np.average(average_success_v0))\n",
        "temp=((np.average(average_success_v0)-avg_reward)/(-avg_reward))*100\n",
        "improvement_method=np.append(improvement_method,temp)\n",
        "\n",
        "print(avg_method)\n",
        "print(improvement_method)"
      ],
      "execution_count": 88,
      "outputs": [
        {
          "output_type": "stream",
          "text": [
            "[-0.244094 -0.2424   -0.23904  -0.22024  -0.20586  -0.18986  -0.18036\n",
            " -0.169    -0.15884  -0.14996  -0.14094  -0.13526  -0.12486  -0.12716\n",
            " -0.11836  -0.11438  -0.10854  -0.11348  -0.09984  -0.10764  -0.10262\n",
            " -0.09454  -0.09288  -0.09244  -0.10032  -0.08844  -0.08994  -0.09318\n",
            " -0.09078  -0.08884  -0.08376  -0.0845   -0.0833   -0.085    -0.08166\n",
            " -0.08284  -0.0849   -0.08636  -0.07952  -0.07866  -0.0798  ]\n",
            "[ 0.          0.69399494  2.07051382  9.77246471 15.66363778 22.2184896\n",
            " 26.11043287 30.76437766 34.92670856 38.56465132 42.25994904 44.58692143\n",
            " 48.84757511 47.90531517 51.51048367 53.14100306 55.53352397 53.50971347\n",
            " 59.09772465 55.90223439 57.95881914 61.26901931 61.94908519 62.12934361\n",
            " 58.90107909 63.76805657 63.15353921 61.82618172 62.80940949 63.60418527\n",
            " 65.68535073 65.38218883 65.87380272 65.17734971 66.54567503 66.06225471\n",
            " 65.21831753 64.6201873  67.42238646 67.77470974 67.30767655]\n"
          ],
          "name": "stdout"
        }
      ]
    },
    {
      "metadata": {
        "id": "KXWYqgHzKw5a",
        "colab_type": "code",
        "colab": {
          "autoexec": {
            "startup": false,
            "wait_interval": 0
          },
          "base_uri": "https://localhost:8080/",
          "height": 187
        },
        "collapsed": true,
        "outputId": "00bbdbed-33a7-4062-fc3a-4129fbeb3d95",
        "executionInfo": {
          "status": "ok",
          "timestamp": 1524413904114,
          "user_tz": 240,
          "elapsed": 116775,
          "user": {
            "displayName": "Reza Davari",
            "photoUrl": "//lh5.googleusercontent.com/-QVkbnQn2wK4/AAAAAAAAAAI/AAAAAAAAAFA/kgVC69JIYw4/s50-c-k-no/photo.jpg",
            "userId": "106412143772601057521"
          }
        }
      },
      "cell_type": "code",
      "source": [
        "gamma=0.1\n",
        "lambda_theta=0.5\n",
        "lambda_w=lambda_theta\n",
        "alpha_theta=0.0001\n",
        "alpha_w=0.001\n",
        "number_of_episods=100000\n",
        "number_of_runs_for_average=10\n",
        "average_success_v0=np.zeros(number_of_runs_for_average)\n",
        "theta_saved=theta\n",
        "w_saved=w\n",
        "\n",
        "for n in range(number_of_runs_for_average):\n",
        "  print(\"processing: \",((n+1)*100)/number_of_runs_for_average,\"% of the work\")\n",
        "  theta=theta_saved\n",
        "  w=w_saved\n",
        "  r_t=0\n",
        "  for i in range(number_of_episods):\n",
        "    theta,w,temp=actor_critic_F(gamma,lambda_theta,lambda_w,alpha_theta,alpha_w,theta,w)\n",
        "    r_t+=temp\n",
        "  r_t=r_t/number_of_episods\n",
        "  average_success_v0[n]=r_t"
      ],
      "execution_count": 89,
      "outputs": [
        {
          "output_type": "stream",
          "text": [
            "processing:  10.0 % of the work\n",
            "processing:  20.0 % of the work\n",
            "processing:  30.0 % of the work\n",
            "processing:  40.0 % of the work\n",
            "processing:  50.0 % of the work\n",
            "processing:  60.0 % of the work\n",
            "processing:  70.0 % of the work\n",
            "processing:  80.0 % of the work\n",
            "processing:  90.0 % of the work\n",
            "processing:  100.0 % of the work\n"
          ],
          "name": "stdout"
        }
      ]
    },
    {
      "metadata": {
        "id": "1cH1M8UJKzG6",
        "colab_type": "code",
        "colab": {
          "autoexec": {
            "startup": false,
            "wait_interval": 0
          },
          "base_uri": "https://localhost:8080/",
          "height": 238
        },
        "outputId": "7d49ba0c-61ee-446c-e233-4b7743b991cf",
        "executionInfo": {
          "status": "ok",
          "timestamp": 1524413904693,
          "user_tz": 240,
          "elapsed": 374,
          "user": {
            "displayName": "Reza Davari",
            "photoUrl": "//lh5.googleusercontent.com/-QVkbnQn2wK4/AAAAAAAAAAI/AAAAAAAAAFA/kgVC69JIYw4/s50-c-k-no/photo.jpg",
            "userId": "106412143772601057521"
          }
        }
      },
      "cell_type": "code",
      "source": [
        "avg_method=np.append(avg_method,np.average(average_success_v0))\n",
        "temp=((np.average(average_success_v0)-avg_reward)/(-avg_reward))*100\n",
        "improvement_method=np.append(improvement_method,temp)\n",
        "\n",
        "print(avg_method)\n",
        "print(improvement_method)"
      ],
      "execution_count": 90,
      "outputs": [
        {
          "output_type": "stream",
          "text": [
            "[-0.244094 -0.2424   -0.23904  -0.22024  -0.20586  -0.18986  -0.18036\n",
            " -0.169    -0.15884  -0.14996  -0.14094  -0.13526  -0.12486  -0.12716\n",
            " -0.11836  -0.11438  -0.10854  -0.11348  -0.09984  -0.10764  -0.10262\n",
            " -0.09454  -0.09288  -0.09244  -0.10032  -0.08844  -0.08994  -0.09318\n",
            " -0.09078  -0.08884  -0.08376  -0.0845   -0.0833   -0.085    -0.08166\n",
            " -0.08284  -0.0849   -0.08636  -0.07952  -0.07866  -0.0798   -0.07478 ]\n",
            "[ 0.          0.69399494  2.07051382  9.77246471 15.66363778 22.2184896\n",
            " 26.11043287 30.76437766 34.92670856 38.56465132 42.25994904 44.58692143\n",
            " 48.84757511 47.90531517 51.51048367 53.14100306 55.53352397 53.50971347\n",
            " 59.09772465 55.90223439 57.95881914 61.26901931 61.94908519 62.12934361\n",
            " 58.90107909 63.76805657 63.15353921 61.82618172 62.80940949 63.60418527\n",
            " 65.68535073 65.38218883 65.87380272 65.17734971 66.54567503 66.06225471\n",
            " 65.21831753 64.6201873  67.42238646 67.77470974 67.30767655 69.36426131]\n"
          ],
          "name": "stdout"
        }
      ]
    },
    {
      "metadata": {
        "id": "Gje7RHKGLhUN",
        "colab_type": "code",
        "colab": {
          "autoexec": {
            "startup": false,
            "wait_interval": 0
          },
          "base_uri": "https://localhost:8080/",
          "height": 187
        },
        "collapsed": true,
        "outputId": "09769c23-2168-4de8-aacf-ec4ced95914e",
        "executionInfo": {
          "status": "ok",
          "timestamp": 1524414020974,
          "user_tz": 240,
          "elapsed": 115843,
          "user": {
            "displayName": "Reza Davari",
            "photoUrl": "//lh5.googleusercontent.com/-QVkbnQn2wK4/AAAAAAAAAAI/AAAAAAAAAFA/kgVC69JIYw4/s50-c-k-no/photo.jpg",
            "userId": "106412143772601057521"
          }
        }
      },
      "cell_type": "code",
      "source": [
        "gamma=0.1\n",
        "lambda_theta=0.5\n",
        "lambda_w=lambda_theta\n",
        "alpha_theta=0.0001\n",
        "alpha_w=0.001\n",
        "number_of_episods=100000\n",
        "number_of_runs_for_average=10\n",
        "average_success_v0=np.zeros(number_of_runs_for_average)\n",
        "theta_saved=theta\n",
        "w_saved=w\n",
        "\n",
        "for n in range(number_of_runs_for_average):\n",
        "  print(\"processing: \",((n+1)*100)/number_of_runs_for_average,\"% of the work\")\n",
        "  theta=theta_saved\n",
        "  w=w_saved\n",
        "  r_t=0\n",
        "  for i in range(number_of_episods):\n",
        "    theta,w,temp=actor_critic_F(gamma,lambda_theta,lambda_w,alpha_theta,alpha_w,theta,w)\n",
        "    r_t+=temp\n",
        "  r_t=r_t/number_of_episods\n",
        "  average_success_v0[n]=r_t"
      ],
      "execution_count": 91,
      "outputs": [
        {
          "output_type": "stream",
          "text": [
            "processing:  10.0 % of the work\n",
            "processing:  20.0 % of the work\n",
            "processing:  30.0 % of the work\n",
            "processing:  40.0 % of the work\n",
            "processing:  50.0 % of the work\n",
            "processing:  60.0 % of the work\n",
            "processing:  70.0 % of the work\n",
            "processing:  80.0 % of the work\n",
            "processing:  90.0 % of the work\n",
            "processing:  100.0 % of the work\n"
          ],
          "name": "stdout"
        }
      ]
    },
    {
      "metadata": {
        "id": "dASpH5o9LjeK",
        "colab_type": "code",
        "colab": {
          "autoexec": {
            "startup": false,
            "wait_interval": 0
          },
          "base_uri": "https://localhost:8080/",
          "height": 272
        },
        "outputId": "eba05618-9958-4e63-adfb-563473b41877",
        "executionInfo": {
          "status": "ok",
          "timestamp": 1524414021522,
          "user_tz": 240,
          "elapsed": 383,
          "user": {
            "displayName": "Reza Davari",
            "photoUrl": "//lh5.googleusercontent.com/-QVkbnQn2wK4/AAAAAAAAAAI/AAAAAAAAAFA/kgVC69JIYw4/s50-c-k-no/photo.jpg",
            "userId": "106412143772601057521"
          }
        }
      },
      "cell_type": "code",
      "source": [
        "avg_method=np.append(avg_method,np.average(average_success_v0))\n",
        "temp=((np.average(average_success_v0)-avg_reward)/(-avg_reward))*100\n",
        "improvement_method=np.append(improvement_method,temp)\n",
        "\n",
        "print(avg_method)\n",
        "print(improvement_method)"
      ],
      "execution_count": 92,
      "outputs": [
        {
          "output_type": "stream",
          "text": [
            "[-0.244094 -0.2424   -0.23904  -0.22024  -0.20586  -0.18986  -0.18036\n",
            " -0.169    -0.15884  -0.14996  -0.14094  -0.13526  -0.12486  -0.12716\n",
            " -0.11836  -0.11438  -0.10854  -0.11348  -0.09984  -0.10764  -0.10262\n",
            " -0.09454  -0.09288  -0.09244  -0.10032  -0.08844  -0.08994  -0.09318\n",
            " -0.09078  -0.08884  -0.08376  -0.0845   -0.0833   -0.085    -0.08166\n",
            " -0.08284  -0.0849   -0.08636  -0.07952  -0.07866  -0.0798   -0.07478\n",
            " -0.08168 ]\n",
            "[ 0.          0.69399494  2.07051382  9.77246471 15.66363778 22.2184896\n",
            " 26.11043287 30.76437766 34.92670856 38.56465132 42.25994904 44.58692143\n",
            " 48.84757511 47.90531517 51.51048367 53.14100306 55.53352397 53.50971347\n",
            " 59.09772465 55.90223439 57.95881914 61.26901931 61.94908519 62.12934361\n",
            " 58.90107909 63.76805657 63.15353921 61.82618172 62.80940949 63.60418527\n",
            " 65.68535073 65.38218883 65.87380272 65.17734971 66.54567503 66.06225471\n",
            " 65.21831753 64.6201873  67.42238646 67.77470974 67.30767655 69.36426131\n",
            " 66.53748146]\n"
          ],
          "name": "stdout"
        }
      ]
    },
    {
      "metadata": {
        "id": "6kIs5qs3LmZc",
        "colab_type": "code",
        "colab": {
          "autoexec": {
            "startup": false,
            "wait_interval": 0
          },
          "base_uri": "https://localhost:8080/",
          "height": 187
        },
        "collapsed": true,
        "outputId": "9d0eb60b-c21c-4766-ccdb-abe8b9e368d3",
        "executionInfo": {
          "status": "ok",
          "timestamp": 1524414137699,
          "user_tz": 240,
          "elapsed": 115721,
          "user": {
            "displayName": "Reza Davari",
            "photoUrl": "//lh5.googleusercontent.com/-QVkbnQn2wK4/AAAAAAAAAAI/AAAAAAAAAFA/kgVC69JIYw4/s50-c-k-no/photo.jpg",
            "userId": "106412143772601057521"
          }
        }
      },
      "cell_type": "code",
      "source": [
        "gamma=0.1\n",
        "lambda_theta=0.5\n",
        "lambda_w=lambda_theta\n",
        "alpha_theta=0.0001\n",
        "alpha_w=0.001\n",
        "number_of_episods=100000\n",
        "number_of_runs_for_average=10\n",
        "average_success_v0=np.zeros(number_of_runs_for_average)\n",
        "theta_saved=theta\n",
        "w_saved=w\n",
        "\n",
        "for n in range(number_of_runs_for_average):\n",
        "  print(\"processing: \",((n+1)*100)/number_of_runs_for_average,\"% of the work\")\n",
        "  theta=theta_saved\n",
        "  w=w_saved\n",
        "  r_t=0\n",
        "  for i in range(number_of_episods):\n",
        "    theta,w,temp=actor_critic_F(gamma,lambda_theta,lambda_w,alpha_theta,alpha_w,theta,w)\n",
        "    r_t+=temp\n",
        "  r_t=r_t/number_of_episods\n",
        "  average_success_v0[n]=r_t"
      ],
      "execution_count": 93,
      "outputs": [
        {
          "output_type": "stream",
          "text": [
            "processing:  10.0 % of the work\n",
            "processing:  20.0 % of the work\n",
            "processing:  30.0 % of the work\n",
            "processing:  40.0 % of the work\n",
            "processing:  50.0 % of the work\n",
            "processing:  60.0 % of the work\n",
            "processing:  70.0 % of the work\n",
            "processing:  80.0 % of the work\n",
            "processing:  90.0 % of the work\n",
            "processing:  100.0 % of the work\n"
          ],
          "name": "stdout"
        }
      ]
    },
    {
      "metadata": {
        "id": "qCnavgHRLot-",
        "colab_type": "code",
        "colab": {
          "autoexec": {
            "startup": false,
            "wait_interval": 0
          },
          "base_uri": "https://localhost:8080/",
          "height": 272
        },
        "outputId": "70238cb3-94cb-4648-c6b7-97488bc5e7c1",
        "executionInfo": {
          "status": "ok",
          "timestamp": 1524414138312,
          "user_tz": 240,
          "elapsed": 456,
          "user": {
            "displayName": "Reza Davari",
            "photoUrl": "//lh5.googleusercontent.com/-QVkbnQn2wK4/AAAAAAAAAAI/AAAAAAAAAFA/kgVC69JIYw4/s50-c-k-no/photo.jpg",
            "userId": "106412143772601057521"
          }
        }
      },
      "cell_type": "code",
      "source": [
        "avg_method=np.append(avg_method,np.average(average_success_v0))\n",
        "temp=((np.average(average_success_v0)-avg_reward)/(-avg_reward))*100\n",
        "improvement_method=np.append(improvement_method,temp)\n",
        "\n",
        "print(avg_method)\n",
        "print(improvement_method)"
      ],
      "execution_count": 94,
      "outputs": [
        {
          "output_type": "stream",
          "text": [
            "[-0.244094 -0.2424   -0.23904  -0.22024  -0.20586  -0.18986  -0.18036\n",
            " -0.169    -0.15884  -0.14996  -0.14094  -0.13526  -0.12486  -0.12716\n",
            " -0.11836  -0.11438  -0.10854  -0.11348  -0.09984  -0.10764  -0.10262\n",
            " -0.09454  -0.09288  -0.09244  -0.10032  -0.08844  -0.08994  -0.09318\n",
            " -0.09078  -0.08884  -0.08376  -0.0845   -0.0833   -0.085    -0.08166\n",
            " -0.08284  -0.0849   -0.08636  -0.07952  -0.07866  -0.0798   -0.07478\n",
            " -0.08168  -0.07942 ]\n",
            "[ 0.          0.69399494  2.07051382  9.77246471 15.66363778 22.2184896\n",
            " 26.11043287 30.76437766 34.92670856 38.56465132 42.25994904 44.58692143\n",
            " 48.84757511 47.90531517 51.51048367 53.14100306 55.53352397 53.50971347\n",
            " 59.09772465 55.90223439 57.95881914 61.26901931 61.94908519 62.12934361\n",
            " 58.90107909 63.76805657 63.15353921 61.82618172 62.80940949 63.60418527\n",
            " 65.68535073 65.38218883 65.87380272 65.17734971 66.54567503 66.06225471\n",
            " 65.21831753 64.6201873  67.42238646 67.77470974 67.30767655 69.36426131\n",
            " 66.53748146 67.46335428]\n"
          ],
          "name": "stdout"
        }
      ]
    },
    {
      "metadata": {
        "id": "RThlZ4x8MAXq",
        "colab_type": "code",
        "colab": {
          "autoexec": {
            "startup": false,
            "wait_interval": 0
          },
          "base_uri": "https://localhost:8080/",
          "height": 187
        },
        "collapsed": true,
        "outputId": "d492f1a0-a1d7-4224-eb8a-9c35732f817c",
        "executionInfo": {
          "status": "ok",
          "timestamp": 1524414253747,
          "user_tz": 240,
          "elapsed": 114996,
          "user": {
            "displayName": "Reza Davari",
            "photoUrl": "//lh5.googleusercontent.com/-QVkbnQn2wK4/AAAAAAAAAAI/AAAAAAAAAFA/kgVC69JIYw4/s50-c-k-no/photo.jpg",
            "userId": "106412143772601057521"
          }
        }
      },
      "cell_type": "code",
      "source": [
        "gamma=0.1\n",
        "lambda_theta=0.5\n",
        "lambda_w=lambda_theta\n",
        "alpha_theta=0.0001\n",
        "alpha_w=0.001\n",
        "number_of_episods=100000\n",
        "number_of_runs_for_average=10\n",
        "average_success_v0=np.zeros(number_of_runs_for_average)\n",
        "theta_saved=theta\n",
        "w_saved=w\n",
        "\n",
        "for n in range(number_of_runs_for_average):\n",
        "  print(\"processing: \",((n+1)*100)/number_of_runs_for_average,\"% of the work\")\n",
        "  theta=theta_saved\n",
        "  w=w_saved\n",
        "  r_t=0\n",
        "  for i in range(number_of_episods):\n",
        "    theta,w,temp=actor_critic_F(gamma,lambda_theta,lambda_w,alpha_theta,alpha_w,theta,w)\n",
        "    r_t+=temp\n",
        "  r_t=r_t/number_of_episods\n",
        "  average_success_v0[n]=r_t"
      ],
      "execution_count": 95,
      "outputs": [
        {
          "output_type": "stream",
          "text": [
            "processing:  10.0 % of the work\n",
            "processing:  20.0 % of the work\n",
            "processing:  30.0 % of the work\n",
            "processing:  40.0 % of the work\n",
            "processing:  50.0 % of the work\n",
            "processing:  60.0 % of the work\n",
            "processing:  70.0 % of the work\n",
            "processing:  80.0 % of the work\n",
            "processing:  90.0 % of the work\n",
            "processing:  100.0 % of the work\n"
          ],
          "name": "stdout"
        }
      ]
    },
    {
      "metadata": {
        "id": "5ENuJKbfMEDz",
        "colab_type": "code",
        "colab": {
          "autoexec": {
            "startup": false,
            "wait_interval": 0
          },
          "base_uri": "https://localhost:8080/",
          "height": 272
        },
        "outputId": "7f580208-b9f2-43fa-d8b9-688bd2ee94fd",
        "executionInfo": {
          "status": "ok",
          "timestamp": 1524414254311,
          "user_tz": 240,
          "elapsed": 417,
          "user": {
            "displayName": "Reza Davari",
            "photoUrl": "//lh5.googleusercontent.com/-QVkbnQn2wK4/AAAAAAAAAAI/AAAAAAAAAFA/kgVC69JIYw4/s50-c-k-no/photo.jpg",
            "userId": "106412143772601057521"
          }
        }
      },
      "cell_type": "code",
      "source": [
        "avg_method=np.append(avg_method,np.average(average_success_v0))\n",
        "temp=((np.average(average_success_v0)-avg_reward)/(-avg_reward))*100\n",
        "improvement_method=np.append(improvement_method,temp)\n",
        "\n",
        "print(avg_method)\n",
        "print(improvement_method)"
      ],
      "execution_count": 96,
      "outputs": [
        {
          "output_type": "stream",
          "text": [
            "[-0.244094 -0.2424   -0.23904  -0.22024  -0.20586  -0.18986  -0.18036\n",
            " -0.169    -0.15884  -0.14996  -0.14094  -0.13526  -0.12486  -0.12716\n",
            " -0.11836  -0.11438  -0.10854  -0.11348  -0.09984  -0.10764  -0.10262\n",
            " -0.09454  -0.09288  -0.09244  -0.10032  -0.08844  -0.08994  -0.09318\n",
            " -0.09078  -0.08884  -0.08376  -0.0845   -0.0833   -0.085    -0.08166\n",
            " -0.08284  -0.0849   -0.08636  -0.07952  -0.07866  -0.0798   -0.07478\n",
            " -0.08168  -0.07942  -0.08554 ]\n",
            "[ 0.          0.69399494  2.07051382  9.77246471 15.66363778 22.2184896\n",
            " 26.11043287 30.76437766 34.92670856 38.56465132 42.25994904 44.58692143\n",
            " 48.84757511 47.90531517 51.51048367 53.14100306 55.53352397 53.50971347\n",
            " 59.09772465 55.90223439 57.95881914 61.26901931 61.94908519 62.12934361\n",
            " 58.90107909 63.76805657 63.15353921 61.82618172 62.80940949 63.60418527\n",
            " 65.68535073 65.38218883 65.87380272 65.17734971 66.54567503 66.06225471\n",
            " 65.21831753 64.6201873  67.42238646 67.77470974 67.30767655 69.36426131\n",
            " 66.53748146 67.46335428 64.95612346]\n"
          ],
          "name": "stdout"
        }
      ]
    },
    {
      "metadata": {
        "id": "4CxFTn2HMyXX",
        "colab_type": "code",
        "colab": {
          "autoexec": {
            "startup": false,
            "wait_interval": 0
          },
          "base_uri": "https://localhost:8080/",
          "height": 187
        },
        "collapsed": true,
        "outputId": "b9148884-e45f-40bb-b683-65f5a92ba6a0",
        "executionInfo": {
          "status": "ok",
          "timestamp": 1524414369852,
          "user_tz": 240,
          "elapsed": 115119,
          "user": {
            "displayName": "Reza Davari",
            "photoUrl": "//lh5.googleusercontent.com/-QVkbnQn2wK4/AAAAAAAAAAI/AAAAAAAAAFA/kgVC69JIYw4/s50-c-k-no/photo.jpg",
            "userId": "106412143772601057521"
          }
        }
      },
      "cell_type": "code",
      "source": [
        "gamma=0.1\n",
        "lambda_theta=0.5\n",
        "lambda_w=lambda_theta\n",
        "alpha_theta=0.0001\n",
        "alpha_w=0.001\n",
        "number_of_episods=100000\n",
        "number_of_runs_for_average=10\n",
        "average_success_v0=np.zeros(number_of_runs_for_average)\n",
        "theta_saved=theta\n",
        "w_saved=w\n",
        "\n",
        "for n in range(number_of_runs_for_average):\n",
        "  print(\"processing: \",((n+1)*100)/number_of_runs_for_average,\"% of the work\")\n",
        "  theta=theta_saved\n",
        "  w=w_saved\n",
        "  r_t=0\n",
        "  for i in range(number_of_episods):\n",
        "    theta,w,temp=actor_critic_F(gamma,lambda_theta,lambda_w,alpha_theta,alpha_w,theta,w)\n",
        "    r_t+=temp\n",
        "  r_t=r_t/number_of_episods\n",
        "  average_success_v0[n]=r_t"
      ],
      "execution_count": 97,
      "outputs": [
        {
          "output_type": "stream",
          "text": [
            "processing:  10.0 % of the work\n",
            "processing:  20.0 % of the work\n",
            "processing:  30.0 % of the work\n",
            "processing:  40.0 % of the work\n",
            "processing:  50.0 % of the work\n",
            "processing:  60.0 % of the work\n",
            "processing:  70.0 % of the work\n",
            "processing:  80.0 % of the work\n",
            "processing:  90.0 % of the work\n",
            "processing:  100.0 % of the work\n"
          ],
          "name": "stdout"
        }
      ]
    },
    {
      "metadata": {
        "id": "nBmqIpG_M0az",
        "colab_type": "code",
        "colab": {
          "autoexec": {
            "startup": false,
            "wait_interval": 0
          },
          "base_uri": "https://localhost:8080/",
          "height": 272
        },
        "outputId": "151eee45-ac50-4ec7-f63e-6c25e9171ad2",
        "executionInfo": {
          "status": "ok",
          "timestamp": 1524414370368,
          "user_tz": 240,
          "elapsed": 302,
          "user": {
            "displayName": "Reza Davari",
            "photoUrl": "//lh5.googleusercontent.com/-QVkbnQn2wK4/AAAAAAAAAAI/AAAAAAAAAFA/kgVC69JIYw4/s50-c-k-no/photo.jpg",
            "userId": "106412143772601057521"
          }
        }
      },
      "cell_type": "code",
      "source": [
        "avg_method=np.append(avg_method,np.average(average_success_v0))\n",
        "temp=((np.average(average_success_v0)-avg_reward)/(-avg_reward))*100\n",
        "improvement_method=np.append(improvement_method,temp)\n",
        "\n",
        "print(avg_method)\n",
        "print(improvement_method)"
      ],
      "execution_count": 98,
      "outputs": [
        {
          "output_type": "stream",
          "text": [
            "[-0.244094 -0.2424   -0.23904  -0.22024  -0.20586  -0.18986  -0.18036\n",
            " -0.169    -0.15884  -0.14996  -0.14094  -0.13526  -0.12486  -0.12716\n",
            " -0.11836  -0.11438  -0.10854  -0.11348  -0.09984  -0.10764  -0.10262\n",
            " -0.09454  -0.09288  -0.09244  -0.10032  -0.08844  -0.08994  -0.09318\n",
            " -0.09078  -0.08884  -0.08376  -0.0845   -0.0833   -0.085    -0.08166\n",
            " -0.08284  -0.0849   -0.08636  -0.07952  -0.07866  -0.0798   -0.07478\n",
            " -0.08168  -0.07942  -0.08554  -0.07876 ]\n",
            "[ 0.          0.69399494  2.07051382  9.77246471 15.66363778 22.2184896\n",
            " 26.11043287 30.76437766 34.92670856 38.56465132 42.25994904 44.58692143\n",
            " 48.84757511 47.90531517 51.51048367 53.14100306 55.53352397 53.50971347\n",
            " 59.09772465 55.90223439 57.95881914 61.26901931 61.94908519 62.12934361\n",
            " 58.90107909 63.76805657 63.15353921 61.82618172 62.80940949 63.60418527\n",
            " 65.68535073 65.38218883 65.87380272 65.17734971 66.54567503 66.06225471\n",
            " 65.21831753 64.6201873  67.42238646 67.77470974 67.30767655 69.36426131\n",
            " 66.53748146 67.46335428 64.95612346 67.73374192]\n"
          ],
          "name": "stdout"
        }
      ]
    },
    {
      "metadata": {
        "id": "uFwLxl_sM3Xu",
        "colab_type": "code",
        "colab": {
          "autoexec": {
            "startup": false,
            "wait_interval": 0
          },
          "base_uri": "https://localhost:8080/",
          "height": 187
        },
        "collapsed": true,
        "outputId": "9f7d9151-f63f-4e27-c306-1d061f978fb7",
        "executionInfo": {
          "status": "ok",
          "timestamp": 1524414485876,
          "user_tz": 240,
          "elapsed": 115061,
          "user": {
            "displayName": "Reza Davari",
            "photoUrl": "//lh5.googleusercontent.com/-QVkbnQn2wK4/AAAAAAAAAAI/AAAAAAAAAFA/kgVC69JIYw4/s50-c-k-no/photo.jpg",
            "userId": "106412143772601057521"
          }
        }
      },
      "cell_type": "code",
      "source": [
        "gamma=0.1\n",
        "lambda_theta=0.5\n",
        "lambda_w=lambda_theta\n",
        "alpha_theta=0.0001\n",
        "alpha_w=0.001\n",
        "number_of_episods=100000\n",
        "number_of_runs_for_average=10\n",
        "average_success_v0=np.zeros(number_of_runs_for_average)\n",
        "theta_saved=theta\n",
        "w_saved=w\n",
        "\n",
        "for n in range(number_of_runs_for_average):\n",
        "  print(\"processing: \",((n+1)*100)/number_of_runs_for_average,\"% of the work\")\n",
        "  theta=theta_saved\n",
        "  w=w_saved\n",
        "  r_t=0\n",
        "  for i in range(number_of_episods):\n",
        "    theta,w,temp=actor_critic_F(gamma,lambda_theta,lambda_w,alpha_theta,alpha_w,theta,w)\n",
        "    r_t+=temp\n",
        "  r_t=r_t/number_of_episods\n",
        "  average_success_v0[n]=r_t"
      ],
      "execution_count": 99,
      "outputs": [
        {
          "output_type": "stream",
          "text": [
            "processing:  10.0 % of the work\n",
            "processing:  20.0 % of the work\n",
            "processing:  30.0 % of the work\n",
            "processing:  40.0 % of the work\n",
            "processing:  50.0 % of the work\n",
            "processing:  60.0 % of the work\n",
            "processing:  70.0 % of the work\n",
            "processing:  80.0 % of the work\n",
            "processing:  90.0 % of the work\n",
            "processing:  100.0 % of the work\n"
          ],
          "name": "stdout"
        }
      ]
    },
    {
      "metadata": {
        "id": "hBB9zYstM6D2",
        "colab_type": "code",
        "colab": {
          "autoexec": {
            "startup": false,
            "wait_interval": 0
          },
          "base_uri": "https://localhost:8080/",
          "height": 272
        },
        "outputId": "07c2c5aa-71b6-4684-9826-2e370a3ae550",
        "executionInfo": {
          "status": "ok",
          "timestamp": 1524414486489,
          "user_tz": 240,
          "elapsed": 457,
          "user": {
            "displayName": "Reza Davari",
            "photoUrl": "//lh5.googleusercontent.com/-QVkbnQn2wK4/AAAAAAAAAAI/AAAAAAAAAFA/kgVC69JIYw4/s50-c-k-no/photo.jpg",
            "userId": "106412143772601057521"
          }
        }
      },
      "cell_type": "code",
      "source": [
        "avg_method=np.append(avg_method,np.average(average_success_v0))\n",
        "temp=((np.average(average_success_v0)-avg_reward)/(-avg_reward))*100\n",
        "improvement_method=np.append(improvement_method,temp)\n",
        "\n",
        "print(avg_method)\n",
        "print(improvement_method)"
      ],
      "execution_count": 100,
      "outputs": [
        {
          "output_type": "stream",
          "text": [
            "[-0.244094 -0.2424   -0.23904  -0.22024  -0.20586  -0.18986  -0.18036\n",
            " -0.169    -0.15884  -0.14996  -0.14094  -0.13526  -0.12486  -0.12716\n",
            " -0.11836  -0.11438  -0.10854  -0.11348  -0.09984  -0.10764  -0.10262\n",
            " -0.09454  -0.09288  -0.09244  -0.10032  -0.08844  -0.08994  -0.09318\n",
            " -0.09078  -0.08884  -0.08376  -0.0845   -0.0833   -0.085    -0.08166\n",
            " -0.08284  -0.0849   -0.08636  -0.07952  -0.07866  -0.0798   -0.07478\n",
            " -0.08168  -0.07942  -0.08554  -0.07876  -0.07716 ]\n",
            "[ 0.          0.69399494  2.07051382  9.77246471 15.66363778 22.2184896\n",
            " 26.11043287 30.76437766 34.92670856 38.56465132 42.25994904 44.58692143\n",
            " 48.84757511 47.90531517 51.51048367 53.14100306 55.53352397 53.50971347\n",
            " 59.09772465 55.90223439 57.95881914 61.26901931 61.94908519 62.12934361\n",
            " 58.90107909 63.76805657 63.15353921 61.82618172 62.80940949 63.60418527\n",
            " 65.68535073 65.38218883 65.87380272 65.17734971 66.54567503 66.06225471\n",
            " 65.21831753 64.6201873  67.42238646 67.77470974 67.30767655 69.36426131\n",
            " 66.53748146 67.46335428 64.95612346 67.73374192 68.3892271 ]\n"
          ],
          "name": "stdout"
        }
      ]
    },
    {
      "metadata": {
        "id": "msF1seRiN2Rx",
        "colab_type": "code",
        "colab": {
          "autoexec": {
            "startup": false,
            "wait_interval": 0
          },
          "base_uri": "https://localhost:8080/",
          "height": 187
        },
        "collapsed": true,
        "outputId": "d6f326e4-f4e2-4a8c-83d7-aa3ad6f0b1d8",
        "executionInfo": {
          "status": "ok",
          "timestamp": 1524414601722,
          "user_tz": 240,
          "elapsed": 114762,
          "user": {
            "displayName": "Reza Davari",
            "photoUrl": "//lh5.googleusercontent.com/-QVkbnQn2wK4/AAAAAAAAAAI/AAAAAAAAAFA/kgVC69JIYw4/s50-c-k-no/photo.jpg",
            "userId": "106412143772601057521"
          }
        }
      },
      "cell_type": "code",
      "source": [
        "gamma=0.1\n",
        "lambda_theta=0.5\n",
        "lambda_w=lambda_theta\n",
        "alpha_theta=0.0001\n",
        "alpha_w=0.001\n",
        "number_of_episods=100000\n",
        "number_of_runs_for_average=10\n",
        "average_success_v0=np.zeros(number_of_runs_for_average)\n",
        "theta_saved=theta\n",
        "w_saved=w\n",
        "\n",
        "for n in range(number_of_runs_for_average):\n",
        "  print(\"processing: \",((n+1)*100)/number_of_runs_for_average,\"% of the work\")\n",
        "  theta=theta_saved\n",
        "  w=w_saved\n",
        "  r_t=0\n",
        "  for i in range(number_of_episods):\n",
        "    theta,w,temp=actor_critic_F(gamma,lambda_theta,lambda_w,alpha_theta,alpha_w,theta,w)\n",
        "    r_t+=temp\n",
        "  r_t=r_t/number_of_episods\n",
        "  average_success_v0[n]=r_t"
      ],
      "execution_count": 101,
      "outputs": [
        {
          "output_type": "stream",
          "text": [
            "processing:  10.0 % of the work\n",
            "processing:  20.0 % of the work\n",
            "processing:  30.0 % of the work\n",
            "processing:  40.0 % of the work\n",
            "processing:  50.0 % of the work\n",
            "processing:  60.0 % of the work\n",
            "processing:  70.0 % of the work\n",
            "processing:  80.0 % of the work\n",
            "processing:  90.0 % of the work\n",
            "processing:  100.0 % of the work\n"
          ],
          "name": "stdout"
        }
      ]
    },
    {
      "metadata": {
        "id": "YaOd8sNyN53W",
        "colab_type": "code",
        "colab": {
          "autoexec": {
            "startup": false,
            "wait_interval": 0
          },
          "base_uri": "https://localhost:8080/",
          "height": 272
        },
        "outputId": "967f31dc-c276-49a8-a8c1-eb2587c4139f",
        "executionInfo": {
          "status": "ok",
          "timestamp": 1524414602231,
          "user_tz": 240,
          "elapsed": 364,
          "user": {
            "displayName": "Reza Davari",
            "photoUrl": "//lh5.googleusercontent.com/-QVkbnQn2wK4/AAAAAAAAAAI/AAAAAAAAAFA/kgVC69JIYw4/s50-c-k-no/photo.jpg",
            "userId": "106412143772601057521"
          }
        }
      },
      "cell_type": "code",
      "source": [
        "avg_method=np.append(avg_method,np.average(average_success_v0))\n",
        "temp=((np.average(average_success_v0)-avg_reward)/(-avg_reward))*100\n",
        "improvement_method=np.append(improvement_method,temp)\n",
        "\n",
        "print(avg_method)\n",
        "print(improvement_method)"
      ],
      "execution_count": 102,
      "outputs": [
        {
          "output_type": "stream",
          "text": [
            "[-0.244094 -0.2424   -0.23904  -0.22024  -0.20586  -0.18986  -0.18036\n",
            " -0.169    -0.15884  -0.14996  -0.14094  -0.13526  -0.12486  -0.12716\n",
            " -0.11836  -0.11438  -0.10854  -0.11348  -0.09984  -0.10764  -0.10262\n",
            " -0.09454  -0.09288  -0.09244  -0.10032  -0.08844  -0.08994  -0.09318\n",
            " -0.09078  -0.08884  -0.08376  -0.0845   -0.0833   -0.085    -0.08166\n",
            " -0.08284  -0.0849   -0.08636  -0.07952  -0.07866  -0.0798   -0.07478\n",
            " -0.08168  -0.07942  -0.08554  -0.07876  -0.07716  -0.08078 ]\n",
            "[ 0.          0.69399494  2.07051382  9.77246471 15.66363778 22.2184896\n",
            " 26.11043287 30.76437766 34.92670856 38.56465132 42.25994904 44.58692143\n",
            " 48.84757511 47.90531517 51.51048367 53.14100306 55.53352397 53.50971347\n",
            " 59.09772465 55.90223439 57.95881914 61.26901931 61.94908519 62.12934361\n",
            " 58.90107909 63.76805657 63.15353921 61.82618172 62.80940949 63.60418527\n",
            " 65.68535073 65.38218883 65.87380272 65.17734971 66.54567503 66.06225471\n",
            " 65.21831753 64.6201873  67.42238646 67.77470974 67.30767655 69.36426131\n",
            " 66.53748146 67.46335428 64.95612346 67.73374192 68.3892271  66.90619188]\n"
          ],
          "name": "stdout"
        }
      ]
    },
    {
      "metadata": {
        "id": "9o2jvwMBOE6u",
        "colab_type": "code",
        "colab": {
          "autoexec": {
            "startup": false,
            "wait_interval": 0
          },
          "base_uri": "https://localhost:8080/",
          "height": 187
        },
        "collapsed": true,
        "outputId": "0d26dc30-63e4-4cd8-aa94-a217fe94c832",
        "executionInfo": {
          "status": "ok",
          "timestamp": 1524414717754,
          "user_tz": 240,
          "elapsed": 115076,
          "user": {
            "displayName": "Reza Davari",
            "photoUrl": "//lh5.googleusercontent.com/-QVkbnQn2wK4/AAAAAAAAAAI/AAAAAAAAAFA/kgVC69JIYw4/s50-c-k-no/photo.jpg",
            "userId": "106412143772601057521"
          }
        }
      },
      "cell_type": "code",
      "source": [
        "gamma=0.1\n",
        "lambda_theta=0.5\n",
        "lambda_w=lambda_theta\n",
        "alpha_theta=0.0001\n",
        "alpha_w=0.001\n",
        "number_of_episods=100000\n",
        "number_of_runs_for_average=10\n",
        "average_success_v0=np.zeros(number_of_runs_for_average)\n",
        "theta_saved=theta\n",
        "w_saved=w\n",
        "\n",
        "for n in range(number_of_runs_for_average):\n",
        "  print(\"processing: \",((n+1)*100)/number_of_runs_for_average,\"% of the work\")\n",
        "  theta=theta_saved\n",
        "  w=w_saved\n",
        "  r_t=0\n",
        "  for i in range(number_of_episods):\n",
        "    theta,w,temp=actor_critic_F(gamma,lambda_theta,lambda_w,alpha_theta,alpha_w,theta,w)\n",
        "    r_t+=temp\n",
        "  r_t=r_t/number_of_episods\n",
        "  average_success_v0[n]=r_t"
      ],
      "execution_count": 103,
      "outputs": [
        {
          "output_type": "stream",
          "text": [
            "processing:  10.0 % of the work\n",
            "processing:  20.0 % of the work\n",
            "processing:  30.0 % of the work\n",
            "processing:  40.0 % of the work\n",
            "processing:  50.0 % of the work\n",
            "processing:  60.0 % of the work\n",
            "processing:  70.0 % of the work\n",
            "processing:  80.0 % of the work\n",
            "processing:  90.0 % of the work\n",
            "processing:  100.0 % of the work\n"
          ],
          "name": "stdout"
        }
      ]
    },
    {
      "metadata": {
        "id": "91DVBV5QOHYW",
        "colab_type": "code",
        "colab": {
          "autoexec": {
            "startup": false,
            "wait_interval": 0
          },
          "base_uri": "https://localhost:8080/",
          "height": 289
        },
        "outputId": "ffb83950-e47f-4db0-b580-64ee3dc8a43a",
        "executionInfo": {
          "status": "ok",
          "timestamp": 1524414718344,
          "user_tz": 240,
          "elapsed": 373,
          "user": {
            "displayName": "Reza Davari",
            "photoUrl": "//lh5.googleusercontent.com/-QVkbnQn2wK4/AAAAAAAAAAI/AAAAAAAAAFA/kgVC69JIYw4/s50-c-k-no/photo.jpg",
            "userId": "106412143772601057521"
          }
        }
      },
      "cell_type": "code",
      "source": [
        "avg_method=np.append(avg_method,np.average(average_success_v0))\n",
        "temp=((np.average(average_success_v0)-avg_reward)/(-avg_reward))*100\n",
        "improvement_method=np.append(improvement_method,temp)\n",
        "\n",
        "print(avg_method)\n",
        "print(improvement_method)"
      ],
      "execution_count": 104,
      "outputs": [
        {
          "output_type": "stream",
          "text": [
            "[-0.244094 -0.2424   -0.23904  -0.22024  -0.20586  -0.18986  -0.18036\n",
            " -0.169    -0.15884  -0.14996  -0.14094  -0.13526  -0.12486  -0.12716\n",
            " -0.11836  -0.11438  -0.10854  -0.11348  -0.09984  -0.10764  -0.10262\n",
            " -0.09454  -0.09288  -0.09244  -0.10032  -0.08844  -0.08994  -0.09318\n",
            " -0.09078  -0.08884  -0.08376  -0.0845   -0.0833   -0.085    -0.08166\n",
            " -0.08284  -0.0849   -0.08636  -0.07952  -0.07866  -0.0798   -0.07478\n",
            " -0.08168  -0.07942  -0.08554  -0.07876  -0.07716  -0.08078  -0.0763  ]\n",
            "[ 0.          0.69399494  2.07051382  9.77246471 15.66363778 22.2184896\n",
            " 26.11043287 30.76437766 34.92670856 38.56465132 42.25994904 44.58692143\n",
            " 48.84757511 47.90531517 51.51048367 53.14100306 55.53352397 53.50971347\n",
            " 59.09772465 55.90223439 57.95881914 61.26901931 61.94908519 62.12934361\n",
            " 58.90107909 63.76805657 63.15353921 61.82618172 62.80940949 63.60418527\n",
            " 65.68535073 65.38218883 65.87380272 65.17734971 66.54567503 66.06225471\n",
            " 65.21831753 64.6201873  67.42238646 67.77470974 67.30767655 69.36426131\n",
            " 66.53748146 67.46335428 64.95612346 67.73374192 68.3892271  66.90619188\n",
            " 68.74155039]\n"
          ],
          "name": "stdout"
        }
      ]
    },
    {
      "metadata": {
        "id": "xpj21XizOI5O",
        "colab_type": "code",
        "colab": {
          "autoexec": {
            "startup": false,
            "wait_interval": 0
          },
          "base_uri": "https://localhost:8080/",
          "height": 187
        },
        "collapsed": true,
        "outputId": "65b049f0-8b2a-4039-fd1f-8b81a88facd3",
        "executionInfo": {
          "status": "ok",
          "timestamp": 1524414833402,
          "user_tz": 240,
          "elapsed": 114676,
          "user": {
            "displayName": "Reza Davari",
            "photoUrl": "//lh5.googleusercontent.com/-QVkbnQn2wK4/AAAAAAAAAAI/AAAAAAAAAFA/kgVC69JIYw4/s50-c-k-no/photo.jpg",
            "userId": "106412143772601057521"
          }
        }
      },
      "cell_type": "code",
      "source": [
        "gamma=0.1\n",
        "lambda_theta=0.5\n",
        "lambda_w=lambda_theta\n",
        "alpha_theta=0.0001\n",
        "alpha_w=0.001\n",
        "number_of_episods=100000\n",
        "number_of_runs_for_average=10\n",
        "average_success_v0=np.zeros(number_of_runs_for_average)\n",
        "theta_saved=theta\n",
        "w_saved=w\n",
        "\n",
        "for n in range(number_of_runs_for_average):\n",
        "  print(\"processing: \",((n+1)*100)/number_of_runs_for_average,\"% of the work\")\n",
        "  theta=theta_saved\n",
        "  w=w_saved\n",
        "  r_t=0\n",
        "  for i in range(number_of_episods):\n",
        "    theta,w,temp=actor_critic_F(gamma,lambda_theta,lambda_w,alpha_theta,alpha_w,theta,w)\n",
        "    r_t+=temp\n",
        "  r_t=r_t/number_of_episods\n",
        "  average_success_v0[n]=r_t"
      ],
      "execution_count": 105,
      "outputs": [
        {
          "output_type": "stream",
          "text": [
            "processing:  10.0 % of the work\n",
            "processing:  20.0 % of the work\n",
            "processing:  30.0 % of the work\n",
            "processing:  40.0 % of the work\n",
            "processing:  50.0 % of the work\n",
            "processing:  60.0 % of the work\n",
            "processing:  70.0 % of the work\n",
            "processing:  80.0 % of the work\n",
            "processing:  90.0 % of the work\n",
            "processing:  100.0 % of the work\n"
          ],
          "name": "stdout"
        }
      ]
    },
    {
      "metadata": {
        "id": "N8v_j-2DOMdZ",
        "colab_type": "code",
        "colab": {
          "autoexec": {
            "startup": false,
            "wait_interval": 0
          },
          "base_uri": "https://localhost:8080/",
          "height": 306
        },
        "outputId": "f3127e36-8a82-499f-cdc2-d0c5e6a348ac",
        "executionInfo": {
          "status": "ok",
          "timestamp": 1524414833998,
          "user_tz": 240,
          "elapsed": 443,
          "user": {
            "displayName": "Reza Davari",
            "photoUrl": "//lh5.googleusercontent.com/-QVkbnQn2wK4/AAAAAAAAAAI/AAAAAAAAAFA/kgVC69JIYw4/s50-c-k-no/photo.jpg",
            "userId": "106412143772601057521"
          }
        }
      },
      "cell_type": "code",
      "source": [
        "avg_method=np.append(avg_method,np.average(average_success_v0))\n",
        "temp=((np.average(average_success_v0)-avg_reward)/(-avg_reward))*100\n",
        "improvement_method=np.append(improvement_method,temp)\n",
        "\n",
        "print(avg_method)\n",
        "print(improvement_method)"
      ],
      "execution_count": 106,
      "outputs": [
        {
          "output_type": "stream",
          "text": [
            "[-0.244094 -0.2424   -0.23904  -0.22024  -0.20586  -0.18986  -0.18036\n",
            " -0.169    -0.15884  -0.14996  -0.14094  -0.13526  -0.12486  -0.12716\n",
            " -0.11836  -0.11438  -0.10854  -0.11348  -0.09984  -0.10764  -0.10262\n",
            " -0.09454  -0.09288  -0.09244  -0.10032  -0.08844  -0.08994  -0.09318\n",
            " -0.09078  -0.08884  -0.08376  -0.0845   -0.0833   -0.085    -0.08166\n",
            " -0.08284  -0.0849   -0.08636  -0.07952  -0.07866  -0.0798   -0.07478\n",
            " -0.08168  -0.07942  -0.08554  -0.07876  -0.07716  -0.08078  -0.0763\n",
            " -0.08224 ]\n",
            "[ 0.          0.69399494  2.07051382  9.77246471 15.66363778 22.2184896\n",
            " 26.11043287 30.76437766 34.92670856 38.56465132 42.25994904 44.58692143\n",
            " 48.84757511 47.90531517 51.51048367 53.14100306 55.53352397 53.50971347\n",
            " 59.09772465 55.90223439 57.95881914 61.26901931 61.94908519 62.12934361\n",
            " 58.90107909 63.76805657 63.15353921 61.82618172 62.80940949 63.60418527\n",
            " 65.68535073 65.38218883 65.87380272 65.17734971 66.54567503 66.06225471\n",
            " 65.21831753 64.6201873  67.42238646 67.77470974 67.30767655 69.36426131\n",
            " 66.53748146 67.46335428 64.95612346 67.73374192 68.3892271  66.90619188\n",
            " 68.74155039 66.30806165]\n"
          ],
          "name": "stdout"
        }
      ]
    },
    {
      "metadata": {
        "id": "5cHxPUOZNuaD",
        "colab_type": "text"
      },
      "cell_type": "markdown",
      "source": [
        "### Plots\n",
        "Below we will plot the performance of the model in comparision to the random policy."
      ]
    },
    {
      "metadata": {
        "id": "m9kP2SnHPasA",
        "colab_type": "code",
        "colab": {
          "autoexec": {
            "startup": false,
            "wait_interval": 0
          }
        }
      },
      "cell_type": "code",
      "source": [
        "itteration=np.zeros(avg_method.size)\n",
        "for i in range(avg_method.size-1):\n",
        "  itteration[i+1]=i*100000+10000"
      ],
      "execution_count": 0,
      "outputs": []
    },
    {
      "metadata": {
        "id": "pRqKs_FrQol3",
        "colab_type": "code",
        "colab": {
          "autoexec": {
            "startup": false,
            "wait_interval": 0
          },
          "base_uri": "https://localhost:8080/",
          "height": 376
        },
        "outputId": "eb0d870f-ba54-4f31-e64b-f7f00b9a558f",
        "executionInfo": {
          "status": "ok",
          "timestamp": 1524414835616,
          "user_tz": 240,
          "elapsed": 736,
          "user": {
            "displayName": "Reza Davari",
            "photoUrl": "//lh5.googleusercontent.com/-QVkbnQn2wK4/AAAAAAAAAAI/AAAAAAAAAFA/kgVC69JIYw4/s50-c-k-no/photo.jpg",
            "userId": "106412143772601057521"
          }
        }
      },
      "cell_type": "code",
      "source": [
        "ranom_play=np.zeros(itteration.size)+avg_reward\n",
        "plt.plot(itteration,avg_method,color=(0,0,0),label='Average Policy Gradient Method Return')\n",
        "plt.plot(itteration,ranom_play,'r--',label='Average Random Retun')\n",
        "plt.legend()\n",
        "plt.xlabel('Number of Iteration')\n",
        "plt.ylabel('Average Return')\n",
        "plt.title('Average Return vs. Policy for Second Agent')\n",
        "plt.show()\n"
      ],
      "execution_count": 108,
      "outputs": [
        {
          "output_type": "display_data",
          "data": {
            "image/png": "[encoded data removed]",
            "text/plain": [
              "<matplotlib.figure.Figure at 0x7f41274fd358>"
            ]
          },
          "metadata": {
            "tags": []
          }
        }
      ]
    },
    {
      "metadata": {
        "id": "HQ-Lt3-8Luq9",
        "colab_type": "code",
        "colab": {
          "autoexec": {
            "startup": false,
            "wait_interval": 0
          },
          "base_uri": "https://localhost:8080/",
          "height": 119
        },
        "outputId": "fe89d68d-2fc7-4f1c-855c-1e09110414c5",
        "executionInfo": {
          "status": "ok",
          "timestamp": 1524414837483,
          "user_tz": 240,
          "elapsed": 382,
          "user": {
            "displayName": "Reza Davari",
            "photoUrl": "//lh5.googleusercontent.com/-QVkbnQn2wK4/AAAAAAAAAAI/AAAAAAAAAFA/kgVC69JIYw4/s50-c-k-no/photo.jpg",
            "userId": "106412143772601057521"
          }
        }
      },
      "cell_type": "code",
      "source": [
        "print('W:\\n',w,'\\n')\n",
        "print('Theta:\\n',theta)"
      ],
      "execution_count": 110,
      "outputs": [
        {
          "output_type": "stream",
          "text": [
            "W:\n",
            " [ 0.44449872 -0.06789564 -0.28582969 -0.01802017] \n",
            "\n",
            "Theta:\n",
            " [-5.60971188e-18  3.23035180e-19  1.44906461e-19 -9.42286369e-17\n",
            " -1.62954016e+00 -1.25595806e+00  1.22414383e+00  1.66135438e+00]\n"
          ],
          "name": "stdout"
        }
      ]
    }
  ]
}