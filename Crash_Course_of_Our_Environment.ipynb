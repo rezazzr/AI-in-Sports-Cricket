{
  "nbformat": 4,
  "nbformat_minor": 0,
  "metadata": {
    "colab": {
      "name": "Crash-Course-of-Our-Environment.ipynb",
      "version": "0.3.2",
      "provenance": []
    }
  },
  "cells": [
    {
      "metadata": {
        "id": "j_mU9Kb9Q6Y0",
        "colab_type": "text"
      },
      "cell_type": "markdown",
      "source": [
        "# Crash Course of Our Environment\n",
        "---\n",
        "In this file we are trying to get you set up with our environment as quickly as possible through by introducing a few commands. \n",
        "* <font color=\"red\"> Note: </font> Our environment in design and operation environment much like the environments of [Gym OpenAI](https://gym.openai.com/). This compatibility is intentional in case of future studies of the topic. Therefore if you are familiar with using the environments in Gym, you already know how to operate our environment as well! "
      ]
    },
    {
      "metadata": {
        "id": "NQ8xxQUCS_P5",
        "colab_type": "text"
      },
      "cell_type": "markdown",
      "source": [
        "## Importing:\n",
        "All you need in terms of the dependencies you need to import is what you see below."
      ]
    },
    {
      "metadata": {
        "id": "9IwCi96rTfGq",
        "colab_type": "code",
        "colab": {}
      },
      "cell_type": "code",
      "source": [
        "import numpy as np\n",
        "from environments import EnvSetTarget"
      ],
      "execution_count": 0,
      "outputs": []
    },
    {
      "metadata": {
        "id": "rIzDuRRtTi8K",
        "colab_type": "text"
      },
      "cell_type": "markdown",
      "source": [
        "## Creating a New Environment\n",
        "To create a new environment you can use the command below. The new environment created using the following command would be initialized to the state $[0,0]$."
      ]
    },
    {
      "metadata": {
        "id": "jn_ntbeFUVlv",
        "colab_type": "code",
        "colab": {}
      },
      "cell_type": "code",
      "source": [
        "env = EnvSetTarget()"
      ],
      "execution_count": 0,
      "outputs": []
    },
    {
      "metadata": {
        "id": "T2G_YCdeUZW_",
        "colab_type": "text"
      },
      "cell_type": "markdown",
      "source": [
        "## Resetting an Environment\n",
        "To reset an existing environment ($env$) to the initial state, you can use the following command."
      ]
    },
    {
      "metadata": {
        "id": "w3KYBQYpUttp",
        "colab_type": "code",
        "colab": {}
      },
      "cell_type": "code",
      "source": [
        "env.reset()"
      ],
      "execution_count": 0,
      "outputs": []
    },
    {
      "metadata": {
        "id": "eN5rAND4U8lS",
        "colab_type": "text"
      },
      "cell_type": "markdown",
      "source": [
        "## Changing The State of The Environment\n",
        "The command below lets you to change the state of the environment to any state you'd like your agent to be at. You can think of it as a teleportation command! In this example we are sending the agen to the state $[100,2]$."
      ]
    },
    {
      "metadata": {
        "id": "Ylr4wMOVWyD8",
        "colab_type": "code",
        "colab": {}
      },
      "cell_type": "code",
      "source": [
        "env.set([100,2])"
      ],
      "execution_count": 0,
      "outputs": []
    },
    {
      "metadata": {
        "id": "zO57xUWyXB22",
        "colab_type": "text"
      },
      "cell_type": "markdown",
      "source": [
        "## Taking an Action\n",
        "In order to take an action (say action $1$ in this example) all you need to do is to take a step using that action in the following way:"
      ]
    },
    {
      "metadata": {
        "id": "CfYiNpEbXVZg",
        "colab_type": "code",
        "colab": {}
      },
      "cell_type": "code",
      "source": [
        "action = 1\n",
        "observation, reward, done, info = env.step(action)"
      ],
      "execution_count": 0,
      "outputs": []
    }
  ]
}