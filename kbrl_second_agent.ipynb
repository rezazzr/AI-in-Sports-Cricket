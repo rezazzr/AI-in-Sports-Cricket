{
  "nbformat": 4,
  "nbformat_minor": 0,
  "metadata": {
    "colab": {
      "name": "Copy of kbrl_finalproj.ipynb",
      "version": "0.3.2",
      "views": {},
      "default_view": {},
      "provenance": [],
      "collapsed_sections": []
    },
    "kernelspec": {
      "name": "python3",
      "display_name": "Python 3"
    }
  },
  "cells": [
    {
      "metadata": {
        "id": "XW3hgbfeT2p4",
        "colab_type": "text"
      },
      "cell_type": "markdown",
      "source": [
        "## Cloning github repo and imports"
      ]
    },
    {
      "metadata": {
        "id": "JQEeD6gCFEE-",
        "colab_type": "code",
        "colab": {
          "autoexec": {
            "startup": false,
            "wait_interval": 0
          },
          "base_uri": "https://localhost:8080/",
          "height": 122
        },
        "outputId": "d99c0d70-8023-47c5-f976-95b4fd5c31f8",
        "executionInfo": {
          "status": "ok",
          "timestamp": 1524972936520,
          "user_tz": 240,
          "elapsed": 2039,
          "user": {
            "displayName": "Julyan KB",
            "photoUrl": "https://lh3.googleusercontent.com/a/default-user=s128",
            "userId": "115093888831353118479"
          }
        }
      },
      "cell_type": "code",
      "source": [
        "!rm -rf comp-767-Final-Project/; git clone https://github.com/navin-mordani/comp-767-Final-Project.git; cp comp-767-Final-Project/environments.py .;\n",
        "import environments\n",
        "import numpy as np \n",
        "import sklearn.metrics.pairwise as kernels\n",
        "import matplotlib.pyplot as plt\n",
        "import time"
      ],
      "execution_count": 60,
      "outputs": [
        {
          "output_type": "stream",
          "text": [
            "Cloning into 'comp-767-Final-Project'...\n",
            "remote: Counting objects: 110, done.\u001b[K\n",
            "remote: Compressing objects: 100% (66/66), done.\u001b[K\n",
            "remote: Total 110 (delta 35), reused 83 (delta 25), pack-reused 17\u001b[K\n",
            "Receiving objects: 100% (110/110), 972.14 KiB | 24.93 MiB/s, done.\n",
            "Resolving deltas: 100% (37/37), done.\n"
          ],
          "name": "stdout"
        }
      ]
    },
    {
      "metadata": {
        "id": "pWbkHwRPJAfo",
        "colab_type": "text"
      },
      "cell_type": "markdown",
      "source": [
        "## Defining kernel"
      ]
    },
    {
      "metadata": {
        "id": "mKYt_ASgFFj6",
        "colab_type": "code",
        "colab": {
          "autoexec": {
            "startup": false,
            "wait_interval": 0
          }
        }
      },
      "cell_type": "code",
      "source": [
        "def kernel(x,y, metric):\n",
        "  \n",
        "  # Kernels that worked: rbf, additive_chi2, chi2\n",
        "  \n",
        "  x,y = np.array(x), np.array(y)\n",
        "\n",
        "  if metric=='rbf': \n",
        "    return kernels.rbf_kernel(x.reshape(1,-1),y.reshape(1,-1))[0][0]\n",
        "  \n",
        "  if metric=='additive_chi2':\n",
        "    return kernels.additive_chi2_kernel(x.reshape(1,-1),y.reshape(1,-1))[0][0]\n",
        "\n",
        "  if metric=='chi2':\n",
        "    return kernels.chi2_kernel(x.reshape(1,-1),y.reshape(1,-1))[0][0]"
      ],
      "execution_count": 0,
      "outputs": []
    },
    {
      "metadata": {
        "id": "argJGjXqJD6A",
        "colab_type": "text"
      },
      "cell_type": "markdown",
      "source": [
        "## Gathering data"
      ]
    },
    {
      "metadata": {
        "id": "3zl9aO-4FL_8",
        "colab_type": "code",
        "colab": {
          "autoexec": {
            "startup": false,
            "wait_interval": 0
          }
        }
      },
      "cell_type": "code",
      "source": [
        "def gather_transitions(n_samples, max_episodes):\n",
        "\n",
        "  # Number of sampled transitions for each action\n",
        "  c0,c1,c2,c3 = 0,0,0,0\n",
        "\n",
        "  # Collection of historical transitions for each action\n",
        "  t0, r0 = [],[]\n",
        "  t1, r1 = [],[]\n",
        "  t2, r2 = [],[]\n",
        "  t3, r3 = [],[]\n",
        "\n",
        "  for i in range(max_episodes):\n",
        "    # Choose a random target to diversify states presented to agent.\n",
        "    target = np.random.randint(0,30)\n",
        "\n",
        "    # Initialize envt.\n",
        "    env = environments.EnvChaseTarget(6,2,target)\n",
        "    obs = env.reset(target)\n",
        "\n",
        "    # If all transition lists are full, no need to continue. \n",
        "    if c0==n_samples and c1==n_samples and c2==n_samples and c3==n_samples:\n",
        "      break\n",
        "    \n",
        "    # Gather data while episode is not complete and data lists are not full.\n",
        "    while True:\n",
        "      s = obs\n",
        "      action = np.random.randint(4)\n",
        "      obs, reward, done, info = env.step(action)\n",
        "      s_ = obs\n",
        "\n",
        "      if action == 0 and c0 < n_samples:\n",
        "        c0 +=1\n",
        "        t0.append((s,s_))\n",
        "        r0.append(reward)\n",
        "\n",
        "      if action == 1 and c1 < n_samples:\n",
        "        c1 +=1\n",
        "        t1.append((s,s_))\n",
        "        r1.append(reward)\n",
        "\n",
        "      if action == 2 and c2 < n_samples:\n",
        "        c2+=1\n",
        "        t2.append((s,s_))\n",
        "        r2.append(reward)\n",
        "\n",
        "      if action == 3 and c3 < n_samples:\n",
        "        c3+=1\n",
        "        t3.append((s,s_))\n",
        "        r3.append(reward)\n",
        "\n",
        "      # Episode is complete\n",
        "      if done:\n",
        "        break\n",
        "\n",
        "  return t0,t1,t2,t3,r0,r1,r2,r3"
      ],
      "execution_count": 0,
      "outputs": []
    },
    {
      "metadata": {
        "id": "avPyRyTwJgsG",
        "colab_type": "text"
      },
      "cell_type": "markdown",
      "source": [
        "## Define $\\Theta$ tensor and $R$ matrix"
      ]
    },
    {
      "metadata": {
        "id": "LpqQPFmwILcE",
        "colab_type": "code",
        "colab": {
          "autoexec": {
            "startup": false,
            "wait_interval": 0
          }
        }
      },
      "cell_type": "code",
      "source": [
        "def convert_gathered_to_matrices(metric, t0,t1,t2,t3,r0,r1,r2,r3):\n",
        "  # How many sampled transitions\n",
        "  m = len(t0)\n",
        "  \n",
        "  #Init Theta, R\n",
        "  Theta = []\n",
        "  R = []\n",
        "\n",
        "  # For each action-transition list and corresponding reward vector\n",
        "  for t, r in zip([t0,t1,t2,t3], [r0,r1,r2,r3]):\n",
        "    \n",
        "    # Append reward vector (m) to R matrix (m*M)\n",
        "    R.append(r)\n",
        "    \n",
        "    # Build two lists\n",
        "    X_states = []\n",
        "    Y_states = []\n",
        "    for s,s_ in t:\n",
        "      X_states.append(s) # start states\n",
        "      Y_states.append(s) # end states\n",
        "\n",
        "    # From both lists create a sheet (m*m)\n",
        "    theta = np.zeros((m,m))\n",
        "    for i,x in enumerate(X_states): \n",
        "      for j,y in enumerate(Y_states): \n",
        "        theta[i,j] = kernel(x,y, metric)\n",
        "    \n",
        "    # Stack this sheet\n",
        "    Theta.append(theta)\n",
        "\n",
        "  # Sheets to 3D matrix (m*m*M) then swap axes (m*M*m) \n",
        "  Theta = np.swapaxes(np.array(Theta), 0, 1)\n",
        "  \n",
        "  # Convert R list to vector then transpose\n",
        "  R = np.array(R).T\n",
        "\n",
        "  return Theta, R"
      ],
      "execution_count": 0,
      "outputs": []
    },
    {
      "metadata": {
        "id": "e3V1Gv0-TuDG",
        "colab_type": "text"
      },
      "cell_type": "markdown",
      "source": [
        "## Do value iteration in matrix form"
      ]
    },
    {
      "metadata": {
        "id": "aJD5p5U2Tmg8",
        "colab_type": "code",
        "colab": {
          "autoexec": {
            "startup": false,
            "wait_interval": 0
          }
        }
      },
      "cell_type": "code",
      "source": [
        "def do_value_iteration(Theta, R, gamma, n_iter):\n",
        "  J = np.zeros(R.shape)\n",
        "  for i in range(n_iter):\n",
        "    J_ = np.dot(Theta, R+gamma*J)\n",
        "    J_ = np.max(J_, axis=1)\n",
        "  return J_"
      ],
      "execution_count": 0,
      "outputs": []
    },
    {
      "metadata": {
        "id": "13fr5uPFtICi",
        "colab_type": "text"
      },
      "cell_type": "markdown",
      "source": [
        "## Estimate action values given a new state $x$"
      ]
    },
    {
      "metadata": {
        "id": "RM7g7W-vUovo",
        "colab_type": "code",
        "colab": {
          "autoexec": {
            "startup": false,
            "wait_interval": 0
          }
        }
      },
      "cell_type": "code",
      "source": [
        "def estimate_action_values(x, J, metric, gamma):\n",
        "  action_values = []\n",
        "  for a, (t, r) in enumerate(zip([t0,t1,t2,t3], [r0,r1,r2,r3])):\n",
        "    action_value = 0\n",
        "    for i,((s,s_),reward) in enumerate(zip(t,r)):\n",
        "      action_value += kernel(x, s, metric) * (reward + gamma * J[i,a])\n",
        "    action_values.append(action_value)\n",
        "  return np.array(action_values)"
      ],
      "execution_count": 0,
      "outputs": []
    },
    {
      "metadata": {
        "id": "LQjqOUU7zeKs",
        "colab_type": "text"
      },
      "cell_type": "markdown",
      "source": [
        "## Play game"
      ]
    },
    {
      "metadata": {
        "id": "j3a2a0xjVP_S",
        "colab_type": "code",
        "colab": {
          "autoexec": {
            "startup": false,
            "wait_interval": 0
          }
        }
      },
      "cell_type": "code",
      "source": [
        "def play_game(env, vf, metric, gamma, n_episodes=100, random_policy=False):\n",
        "  \n",
        "  elapsed_episodes, num_wins, num_losses = 0,0,0\n",
        "  \n",
        "  while True:\n",
        "    if elapsed_episodes > n_episodes:\n",
        "      break\n",
        "    \n",
        "    # At each episode, reset environment.   \n",
        "    obs = env.reset(env.init_target)\n",
        "    \n",
        "    while True:\n",
        "      s = tuple(obs)\n",
        "\n",
        "      # Pick an action\n",
        "      if random_policy:\n",
        "        # Random policy\n",
        "        action = np.random.randint(4)\n",
        "      else:\n",
        "        # KBRL policy\n",
        "        action_values = estimate_action_values(s, vf, metric, gamma)\n",
        "        action = np.argmax(action_values)\n",
        "      \n",
        "      # Take action from state s\n",
        "      obs, reward, done, info = env.step(action)\n",
        "      \n",
        "      # End up in s_\n",
        "      s_ = tuple(obs)\n",
        "\n",
        "      if done:\n",
        "        # Episode is over\n",
        "        elapsed_episodes+=1\n",
        "        \n",
        "        # Get distance remaining from target\n",
        "        distance_from_target = s_[2]\n",
        "        \n",
        "        if distance_from_target <= 0:\n",
        "          # Player 2 won\n",
        "          num_wins+=1\n",
        "\n",
        "        else:\n",
        "          # Player 2 lost\n",
        "          num_losses+=1\n",
        "        \n",
        "        break\n",
        "        \n",
        "  return num_wins/(num_wins+num_losses)"
      ],
      "execution_count": 0,
      "outputs": []
    },
    {
      "metadata": {
        "id": "_ok7d5efa2rt",
        "colab_type": "text"
      },
      "cell_type": "markdown",
      "source": [
        "## Experiment: Studying the effect of $\\gamma$ on performance\n",
        "\n",
        "*   Number of gammas tested = 11\n",
        "*   Number transitions collected at data gathering step = 100\n",
        "*   Number of games played by agent using random/KBRL policies\n",
        "*   Performance measure = number wins / (number wins + number losses)\n",
        "\n",
        "\n"
      ]
    },
    {
      "metadata": {
        "id": "MO6rmeDYNlQ8",
        "colab_type": "code",
        "colab": {
          "autoexec": {
            "startup": false,
            "wait_interval": 0
          },
          "base_uri": "https://localhost:8080/",
          "height": 210
        },
        "outputId": "ff36eb78-b78e-47d3-fda3-45d327581412",
        "executionInfo": {
          "status": "ok",
          "timestamp": 1524950662890,
          "user_tz": 240,
          "elapsed": 1495594,
          "user": {
            "displayName": "Julyan KB",
            "photoUrl": "https://lh3.googleusercontent.com/a/default-user=s128",
            "userId": "115093888831353118479"
          }
        }
      },
      "cell_type": "code",
      "source": [
        "# Define envt conditions\n",
        "max_shots=6\n",
        "num_lives=2\n",
        "target_score=20\n",
        "\n",
        "# Initialize envt\n",
        "env = environments.EnvChaseTarget(max_shots, num_lives, target_score)\n",
        "\n",
        "# Define kernel metric\n",
        "metric='additive_chi2'\n",
        "\n",
        "# Gather transitions\n",
        "t0,t1,t2,t3,r0,r1,r2,r3 = gather_transitions(n_samples=100,max_episodes=10000)\n",
        "\n",
        "# Create Theta and R matrices\n",
        "Theta, R = convert_gathered_to_matrices(metric,t0,t1,t2,t3,r0,r1,r2,r3)\n",
        "\n",
        "# List of gamma values to plot\n",
        "gammas = [0.1, 0.3, 0.5, 0.6, 0.7, 0.8, 0.85, 0.9, 0.95, 0.99, 1.0]\n",
        "\n",
        "# Percentage wins lists for random/kbrl policies\n",
        "rand_list = []\n",
        "kbrl_list = []\n",
        "\n",
        "for gamma in gammas:\n",
        "  print(gamma)\n",
        "  # Compute value function by iterating over update rule\n",
        "  vf = do_value_iteration(Theta, R, gamma, n_iter=1000)\n",
        "  \n",
        "  # Play game according to random policy\n",
        "  random = play_game(env, vf, metric, gamma, n_episodes=1000, random_policy=True)\n",
        "  rand_list.append(random)\n",
        "  \n",
        "  # Play game according to KBRL policy\n",
        "  kbrl = play_game(env, vf, metric, gamma, n_episodes=1000, random_policy=False)\n",
        "  kbrl_list.append(kbrl)"
      ],
      "execution_count": 12,
      "outputs": [
        {
          "output_type": "stream",
          "text": [
            "0.1\n",
            "0.3\n",
            "0.5\n",
            "0.6\n",
            "0.7\n",
            "0.8\n",
            "0.85\n",
            "0.9\n",
            "0.95\n",
            "0.99\n",
            "1.0\n"
          ],
          "name": "stdout"
        }
      ]
    },
    {
      "metadata": {
        "id": "faFXWlLaOF4k",
        "colab_type": "code",
        "colab": {
          "autoexec": {
            "startup": false,
            "wait_interval": 0
          },
          "base_uri": "https://localhost:8080/",
          "height": 416
        },
        "outputId": "f8928224-4fa5-4108-95cb-4c9677467c0f",
        "executionInfo": {
          "status": "ok",
          "timestamp": 1524950663838,
          "user_tz": 240,
          "elapsed": 911,
          "user": {
            "displayName": "Julyan KB",
            "photoUrl": "https://lh3.googleusercontent.com/a/default-user=s128",
            "userId": "115093888831353118479"
          }
        }
      },
      "cell_type": "code",
      "source": [
        "plt.plot(gammas, kbrl_list, label='kbrl')\n",
        "plt.plot(gammas, rand_list, label='random')\n",
        "\n",
        "plt.scatter(gammas, kbrl_list, color='red')\n",
        "plt.scatter(gammas, rand_list, color='red')\n",
        "\n",
        "plt.xlabel('Discount factor')\n",
        "plt.ylabel('Percent win')\n",
        "plt.legend()\n",
        "plt.show()\n",
        "print(kbrl_list)\n",
        "print(rand_list)"
      ],
      "execution_count": 13,
      "outputs": [
        {
          "output_type": "display_data",
          "data": {
            "image/png": "[encoded data removed]",
            "text/plain": [
              "<matplotlib.figure.Figure at 0x7fbcb85eb5f8>"
            ]
          },
          "metadata": {
            "tags": []
          }
        },
        {
          "output_type": "stream",
          "text": [
            "[0.6453546453546454, 0.6563436563436563, 0.6523476523476524, 0.6333666333666333, 0.6513486513486514, 0.6613386613386614, 0.6543456543456544, 0.6703296703296703, 0.6583416583416584, 0.6573426573426573, 0.6733266733266733]\n",
            "[0.13586413586413587, 0.13586413586413587, 0.14085914085914086, 0.14985014985014986, 0.15184815184815184, 0.16383616383616384, 0.15284715284715283, 0.14985014985014986, 0.14185814185814186, 0.15184815184815184, 0.13186813186813187]\n"
          ],
          "name": "stdout"
        }
      ]
    },
    {
      "metadata": {
        "id": "eA-0ZsMNcCDe",
        "colab_type": "text"
      },
      "cell_type": "markdown",
      "source": [
        "## Experiment: Studying effect of sample size on performance"
      ]
    },
    {
      "metadata": {
        "id": "MgOenreRhZsA",
        "colab_type": "code",
        "colab": {
          "autoexec": {
            "startup": false,
            "wait_interval": 0
          },
          "base_uri": "https://localhost:8080/",
          "height": 175
        },
        "outputId": "3fbdbc97-653f-4a1d-a975-e4b5becc5102",
        "executionInfo": {
          "status": "ok",
          "timestamp": 1524954741240,
          "user_tz": 240,
          "elapsed": 3124482,
          "user": {
            "displayName": "Julyan KB",
            "photoUrl": "https://lh3.googleusercontent.com/a/default-user=s128",
            "userId": "115093888831353118479"
          }
        }
      },
      "cell_type": "code",
      "source": [
        "# Define envt conditions\n",
        "max_shots=6\n",
        "num_lives=2\n",
        "target_score=20\n",
        "\n",
        "# Initialize envt\n",
        "env = environments.EnvChaseTarget(max_shots, num_lives, target_score)\n",
        "\n",
        "# Define kernel metric\n",
        "metric='additive_chi2'\n",
        "\n",
        "# Try diff sample sizes\n",
        "sample_sizes = [10,30,50,70,80,100,200,500,1000]\n",
        "\n",
        "# Percentage wins lists for random/kbrl policies\n",
        "rand_list = []\n",
        "kbrl_list = []\n",
        "times = []\n",
        "\n",
        "for n in sample_sizes:\n",
        "  print(n)\n",
        "  \n",
        "  # Take first n samples\n",
        "  #s0,s1,s2,s3 = t0[:n],t1[:n],t2[:n],t3[:n]\n",
        "  #g0,g1,g2,g3 = r0[:n],r1[:n],r2[:n],r3[:n]\n",
        "  \n",
        "  # Gather n samples\n",
        "  t0,t1,t2,t3,r0,r1,r2,r3 = gather_transitions(n_samples=n, max_episodes=10000)\n",
        "  \n",
        "  # Time it\n",
        "  start_time = time.time()\n",
        "\n",
        "  # Create Theta and R matrices\n",
        "  Theta, R = convert_gathered_to_matrices(metric,t0,t1,t2,t3,r0,r1,r2,r3)\n",
        "\n",
        "  # List of gamma values to plot\n",
        "  gamma = 0.95\n",
        "\n",
        "  # Compute value function by iterating over update rule\n",
        "  vf = do_value_iteration(Theta, R, gamma, n_iter=1000)\n",
        "\n",
        "  # Play game according to random policy\n",
        "  random = play_game(env, vf, metric, gamma, n_episodes=1000, random_policy=True)\n",
        "  rand_list.append(random)\n",
        "\n",
        "  # Play game according to KBRL policy\n",
        "  kbrl = play_game(env, vf, metric, gamma, n_episodes=1000, random_policy=False)\n",
        "  kbrl_list.append(kbrl)\n",
        "  \n",
        "  # Done. Store time elapsed.\n",
        "  times.append(time.time() - start_time)"
      ],
      "execution_count": 17,
      "outputs": [
        {
          "output_type": "stream",
          "text": [
            "10\n",
            "30\n",
            "50\n",
            "70\n",
            "80\n",
            "100\n",
            "200\n",
            "500\n",
            "1000\n"
          ],
          "name": "stdout"
        }
      ]
    },
    {
      "metadata": {
        "id": "v6kOo8X0DRjY",
        "colab_type": "code",
        "colab": {
          "autoexec": {
            "startup": false,
            "wait_interval": 0
          },
          "base_uri": "https://localhost:8080/",
          "height": 416
        },
        "outputId": "29695235-55a8-44aa-b5e1-d53512d3c16b",
        "executionInfo": {
          "status": "ok",
          "timestamp": 1524954741893,
          "user_tz": 240,
          "elapsed": 610,
          "user": {
            "displayName": "Julyan KB",
            "photoUrl": "https://lh3.googleusercontent.com/a/default-user=s128",
            "userId": "115093888831353118479"
          }
        }
      },
      "cell_type": "code",
      "source": [
        "plt.plot(sample_sizes, kbrl_list, label='kbrl')\n",
        "plt.plot(sample_sizes, rand_list, label='random')\n",
        "\n",
        "plt.scatter(sample_sizes, kbrl_list, color='red')\n",
        "plt.scatter(sample_sizes, rand_list, color='red')\n",
        "\n",
        "plt.xlabel('Sample size')\n",
        "plt.ylabel('Percent win')\n",
        "plt.legend()\n",
        "plt.show()\n",
        "print(kbrl_list)\n",
        "print(rand_list)"
      ],
      "execution_count": 18,
      "outputs": [
        {
          "output_type": "display_data",
          "data": {
            "image/png": "[encoded data removed]",
            "text/plain": [
              "<matplotlib.figure.Figure at 0x7fbcb84a8c18>"
            ]
          },
          "metadata": {
            "tags": []
          }
        },
        {
          "output_type": "stream",
          "text": [
            "[0.6463536463536463, 0.47652347652347654, 0.6613386613386614, 0.6283716283716284, 0.0, 0.6493506493506493, 0.0, 0.6683316683316683, 0.6393606393606394]\n",
            "[0.15084915084915085, 0.13186813186813187, 0.14785214785214784, 0.15784215784215785, 0.12987012987012986, 0.14385614385614387, 0.13486513486513488, 0.13986013986013987, 0.14585414585414586]\n"
          ],
          "name": "stdout"
        }
      ]
    },
    {
      "metadata": {
        "id": "MrqLkoLPCir-",
        "colab_type": "code",
        "colab": {
          "autoexec": {
            "startup": false,
            "wait_interval": 0
          },
          "base_uri": "https://localhost:8080/",
          "height": 361
        },
        "outputId": "e506c6c0-fb59-427b-8b32-04c89cc18b1d",
        "executionInfo": {
          "status": "ok",
          "timestamp": 1524955288796,
          "user_tz": 240,
          "elapsed": 582,
          "user": {
            "displayName": "Julyan KB",
            "photoUrl": "https://lh3.googleusercontent.com/a/default-user=s128",
            "userId": "115093888831353118479"
          }
        }
      },
      "cell_type": "code",
      "source": [
        "plt.plot(sample_sizes, times, label='time to execute')\n",
        "\n",
        "plt.scatter(sample_sizes, times, color='red')\n",
        "\n",
        "plt.xlabel('Sample size')\n",
        "plt.ylabel('Time to execute')\n",
        "plt.show()"
      ],
      "execution_count": 19,
      "outputs": [
        {
          "output_type": "display_data",
          "data": {
            "image/png": "[encoded data removed]",
            "text/plain": [
              "<matplotlib.figure.Figure at 0x7fbcb84479b0>"
            ]
          },
          "metadata": {
            "tags": []
          }
        }
      ]
    },
    {
      "metadata": {
        "id": "muUFq21jdef2",
        "colab_type": "text"
      },
      "cell_type": "markdown",
      "source": [
        "## Experiment: Studying effect of varying the target score, 100 samples. "
      ]
    },
    {
      "metadata": {
        "id": "xXfn6YZEbDN-",
        "colab_type": "code",
        "colab": {
          "autoexec": {
            "startup": false,
            "wait_interval": 0
          },
          "base_uri": "https://localhost:8080/",
          "height": 158
        },
        "outputId": "195468f1-1451-40ff-b431-cdc219daf546",
        "executionInfo": {
          "status": "ok",
          "timestamp": 1524956884510,
          "user_tz": 240,
          "elapsed": 284,
          "user": {
            "displayName": "Julyan KB",
            "photoUrl": "https://lh3.googleusercontent.com/a/default-user=s128",
            "userId": "115093888831353118479"
          }
        }
      },
      "cell_type": "code",
      "source": [
        "# Define envt conditions\n",
        "max_shots=6\n",
        "num_lives=2\n",
        "target_scores = [5,10,15,20,25,30,40,50]\n",
        "\n",
        "# Percentage wins lists for random/kbrl policies\n",
        "rand_list = []\n",
        "kbrl_list = []\n",
        "\n",
        "for target_score in target_scores:\n",
        "  print(target_score)\n",
        "  \n",
        "  # Initialize envt\n",
        "  env = environments.EnvChaseTarget(max_shots, num_lives, target_score)\n",
        "\n",
        "  # Define kernel metric\n",
        "  metric='additive_chi2'\n",
        "\n",
        "  t0,t1,t2,t3,r0,r1,r2,r3 = gather_transitions(n_samples=100, max_episodes=10000)\n",
        "\n",
        "  # Time it\n",
        "  start_time = time.time()\n",
        "\n",
        "  # Create Theta and R matrices\n",
        "  Theta, R = convert_gathered_to_matrices(metric,t0,t1,t2,t3,r0,r1,r2,r3)\n",
        "\n",
        "  # List of gamma values to plot\n",
        "  gamma = 0.95\n",
        "\n",
        "  # Compute value function by iterating over update rule\n",
        "  vf = do_value_iteration(Theta, R, gamma, n_iter=1000)\n",
        "\n",
        "  # Play game according to random policy\n",
        "  random = play_game(env, vf, metric, gamma, n_episodes=1000, random_policy=True)\n",
        "  rand_list.append(random)\n",
        "\n",
        "  # Play game according to KBRL policy\n",
        "  kbrl = play_game(env, vf, metric, gamma, n_episodes=1000, random_policy=False)\n",
        "  kbrl_list.append(kbrl)"
      ],
      "execution_count": 40,
      "outputs": [
        {
          "output_type": "stream",
          "text": [
            "5\n",
            "10\n",
            "15\n",
            "20\n",
            "25\n",
            "30\n",
            "40\n",
            "50\n"
          ],
          "name": "stdout"
        }
      ]
    },
    {
      "metadata": {
        "id": "yHXxcjs7e-Qt",
        "colab_type": "code",
        "colab": {
          "autoexec": {
            "startup": false,
            "wait_interval": 0
          },
          "base_uri": "https://localhost:8080/",
          "height": 396
        },
        "outputId": "7c13287c-9821-4f72-c98b-759f3549a5ab",
        "executionInfo": {
          "status": "ok",
          "timestamp": 1524956525071,
          "user_tz": 240,
          "elapsed": 824,
          "user": {
            "displayName": "Julyan KB",
            "photoUrl": "https://lh3.googleusercontent.com/a/default-user=s128",
            "userId": "115093888831353118479"
          }
        }
      },
      "cell_type": "code",
      "source": [
        "plt.plot(target_scores, kbrl_list, label='kbrl')\n",
        "plt.plot(target_scores, rand_list, label='random')\n",
        "\n",
        "plt.scatter(target_scores, rand_list, color='red')\n",
        "plt.scatter(target_scores, kbrl_list, color='red')\n",
        "\n",
        "plt.xlabel('Target score')\n",
        "plt.ylabel('Percent win')\n",
        "plt.legend()\n",
        "plt.show()\n",
        "print(kbrl_list)\n",
        "print(rand_list)"
      ],
      "execution_count": 21,
      "outputs": [
        {
          "output_type": "display_data",
          "data": {
            "image/png": "[encoded data removed]",
            "text/plain": [
              "<matplotlib.figure.Figure at 0x7fbcb860ce48>"
            ]
          },
          "metadata": {
            "tags": []
          }
        },
        {
          "output_type": "stream",
          "text": [
            "[0.8971028971028971, 0.8151848151848152, 0.7362637362637363, 0.6783216783216783, 0.0, 0.24575424575424576, 0.0, 0.0]\n",
            "[0.8521478521478522, 0.7042957042957043, 0.42657342657342656, 0.13486513486513488, 0.029970029970029972, 0.001998001998001998, 0.0, 0.0]\n"
          ],
          "name": "stdout"
        }
      ]
    },
    {
      "metadata": {
        "id": "6vaqvy7veJS-",
        "colab_type": "text"
      },
      "cell_type": "markdown",
      "source": [
        "## Experiment: Studying effect of varying the size of state space, 100 samples, target score = 20. "
      ]
    },
    {
      "metadata": {
        "id": "R9faGvUJfVa_",
        "colab_type": "code",
        "colab": {
          "autoexec": {
            "startup": false,
            "wait_interval": 0
          },
          "base_uri": "https://localhost:8080/",
          "height": 122
        },
        "outputId": "068a00b3-ebdb-4709-9bed-66b841899d95",
        "executionInfo": {
          "status": "ok",
          "timestamp": 1524958274081,
          "user_tz": 240,
          "elapsed": 1289557,
          "user": {
            "displayName": "Julyan KB",
            "photoUrl": "https://lh3.googleusercontent.com/a/default-user=s128",
            "userId": "115093888831353118479"
          }
        }
      },
      "cell_type": "code",
      "source": [
        "# Percentage wins lists for random/kbrl policies\n",
        "rand_list = []\n",
        "kbrl_list = []\n",
        "\n",
        "# Varying environment conditions\n",
        "max_shots_list = [6,9,12,15,18,21]\n",
        "num_lives_list = [2,3,4,5,6,7]\n",
        "\n",
        "for max_shots, num_lives in zip(max_shots_list, num_lives_list):\n",
        "  print(max_shots, num_lives)\n",
        "  \n",
        "  target_score = 20\n",
        "\n",
        "  # Initialize envt\n",
        "  env = environments.EnvChaseTarget(max_shots, num_lives, target_score)\n",
        "\n",
        "  # Define kernel metric\n",
        "  metric='additive_chi2'\n",
        "\n",
        "  t0,t1,t2,t3,r0,r1,r2,r3 = gather_transitions(n_samples=100, max_episodes=10000)\n",
        "\n",
        "  # Time it\n",
        "  start_time = time.time()\n",
        "\n",
        "  # Create Theta and R matrices\n",
        "  Theta, R = convert_gathered_to_matrices(metric,t0,t1,t2,t3,r0,r1,r2,r3)\n",
        "\n",
        "  # List of gamma values to plot\n",
        "  gamma = 0.95\n",
        "\n",
        "  # Compute value function by iterating over update rule\n",
        "  vf = do_value_iteration(Theta, R, gamma, n_iter=1000)\n",
        "\n",
        "  # Play game according to random policy\n",
        "  random = play_game(env, vf, metric, gamma, n_episodes=1000, random_policy=True)\n",
        "  rand_list.append(random)\n",
        "\n",
        "  # Play game according to KBRL policy\n",
        "  kbrl = play_game(env, vf, metric, gamma, n_episodes=1000, random_policy=False)\n",
        "  kbrl_list.append(kbrl)"
      ],
      "execution_count": 42,
      "outputs": [
        {
          "output_type": "stream",
          "text": [
            "6 2\n",
            "9 3\n",
            "12 4\n",
            "15 5\n",
            "18 6\n",
            "21 7\n"
          ],
          "name": "stdout"
        }
      ]
    },
    {
      "metadata": {
        "id": "tf0rVqlGgs3G",
        "colab_type": "code",
        "colab": {
          "autoexec": {
            "startup": false,
            "wait_interval": 0
          },
          "base_uri": "https://localhost:8080/",
          "height": 414
        },
        "outputId": "a2c551f1-7730-4a4c-fa6b-afe7079fc2f1",
        "executionInfo": {
          "status": "ok",
          "timestamp": 1524958282570,
          "user_tz": 240,
          "elapsed": 462,
          "user": {
            "displayName": "Julyan KB",
            "photoUrl": "https://lh3.googleusercontent.com/a/default-user=s128",
            "userId": "115093888831353118479"
          }
        }
      },
      "cell_type": "code",
      "source": [
        "fig, ax = plt.subplots()\n",
        "plt.plot(kbrl_list, label='kbrl')\n",
        "plt.plot(rand_list, label='random')\n",
        "\n",
        "plt.scatter([i for i in range(len(max_shots_list))], rand_list, color='red')\n",
        "plt.scatter([i for i in range(len(max_shots_list))], kbrl_list, color='red')\n",
        "\n",
        "\n",
        "plt.xlabel('index of max_shots, num_lives combination')\n",
        "plt.ylabel('Percent win')\n",
        "plt.legend()\n",
        "plt.show()\n",
        "print('Combinations of max_shots, num_lives:', [(m,n) for m,n in zip(max_shots_list,num_lives_list)])\n",
        "print(kbrl_list)\n",
        "print(rand_list)"
      ],
      "execution_count": 43,
      "outputs": [
        {
          "output_type": "display_data",
          "data": {
            "image/png": "[encoded data removed]",
            "text/plain": [
              "<matplotlib.figure.Figure at 0x7fbcba825978>"
            ]
          },
          "metadata": {
            "tags": []
          }
        },
        {
          "output_type": "stream",
          "text": [
            "Combinations of max_shots, num_lives: [(6, 2), (9, 3), (12, 4), (15, 5), (18, 6), (21, 7)]\n",
            "[0.0, 0.6933066933066933, 0.9410589410589411, 0.9820179820179821, 0.977022977022977, 0.981018981018981]\n",
            "[0.13586413586413587, 0.5604395604395604, 0.8631368631368631, 0.9560439560439561, 0.97002997002997, 0.993006993006993]\n"
          ],
          "name": "stdout"
        }
      ]
    },
    {
      "metadata": {
        "id": "Ck5XvmMvobmB",
        "colab_type": "text"
      },
      "cell_type": "markdown",
      "source": [
        "## Studying effect of 4 arbitrary state spaces of varying sizes"
      ]
    },
    {
      "metadata": {
        "id": "2Yv7kUYSliw2",
        "colab_type": "code",
        "colab": {
          "autoexec": {
            "startup": false,
            "wait_interval": 0
          },
          "base_uri": "https://localhost:8080/",
          "height": 105
        },
        "outputId": "590516ca-4e2f-42b0-bb35-70cf741b36c9",
        "executionInfo": {
          "status": "ok",
          "timestamp": 1524959804755,
          "user_tz": 240,
          "elapsed": 1384175,
          "user": {
            "displayName": "Julyan KB",
            "photoUrl": "https://lh3.googleusercontent.com/a/default-user=s128",
            "userId": "115093888831353118479"
          }
        }
      },
      "cell_type": "code",
      "source": [
        "# This can be used to see if learning on smaller state spaces can generalize to larger\n",
        "# or if learning on smaller targets can generalize to larger targets\n",
        "\n",
        "# Percentage wins lists for random/kbrl policies\n",
        "rand_list = []\n",
        "kbrl_list = []\n",
        "\n",
        "# Varying environment conditions\n",
        "max_shots_list = [6,9,12,15,18]\n",
        "num_lives_list = [2,3,4,5,6]\n",
        "target_scores = [20,30,40,50,60]\n",
        "\n",
        "for max_shots, num_lives,target_score in zip(max_shots_list, num_lives_list, target_scores):\n",
        "  print(max_shots, num_lives, target_score)\n",
        "\n",
        "  # Initialize envt\n",
        "  env = environments.EnvChaseTarget(max_shots, num_lives, target_score)\n",
        "\n",
        "  # Define kernel metric\n",
        "  metric='additive_chi2'\n",
        "\n",
        "  # Gather transitions\n",
        "  t0,t1,t2,t3,r0,r1,r2,r3 = gather_transitions(n_samples=100, max_episodes=10000)\n",
        "\n",
        "  # Create Theta and R matrices\n",
        "  Theta, R = convert_gathered_to_matrices(metric,t0,t1,t2,t3,r0,r1,r2,r3)\n",
        "\n",
        "  # List of gamma values to plot\n",
        "  gamma = 0.95\n",
        "\n",
        "  # Compute value function by iterating over update rule\n",
        "  vf = do_value_iteration(Theta, R, gamma, n_iter=1000)\n",
        "\n",
        "  # Play game according to random policy\n",
        "  random = play_game(env, vf, metric, gamma, n_episodes=1000, random_policy=True)\n",
        "  rand_list.append(random)\n",
        "\n",
        "  # Play game according to KBRL policy\n",
        "  kbrl = play_game(env, vf, metric, gamma, n_episodes=1000, random_policy=False)\n",
        "  kbrl_list.append(kbrl)"
      ],
      "execution_count": 44,
      "outputs": [
        {
          "output_type": "stream",
          "text": [
            "6 2 20\n",
            "9 3 30\n",
            "12 4 40\n",
            "15 5 50\n",
            "18 6 60\n"
          ],
          "name": "stdout"
        }
      ]
    },
    {
      "metadata": {
        "id": "5xBu5BqGosLo",
        "colab_type": "code",
        "colab": {
          "autoexec": {
            "startup": false,
            "wait_interval": 0
          },
          "base_uri": "https://localhost:8080/",
          "height": 414
        },
        "outputId": "844781fe-39ef-4647-8664-4b4190272da1",
        "executionInfo": {
          "status": "ok",
          "timestamp": 1524960198514,
          "user_tz": 240,
          "elapsed": 796,
          "user": {
            "displayName": "Julyan KB",
            "photoUrl": "https://lh3.googleusercontent.com/a/default-user=s128",
            "userId": "115093888831353118479"
          }
        }
      },
      "cell_type": "code",
      "source": [
        "plt.plot(kbrl_list, label='kbrl')\n",
        "plt.plot(rand_list, label='random')\n",
        "\n",
        "plt.scatter([i for i in range(len(max_shots_list))], kbrl_list, color='red')\n",
        "plt.scatter([i for i in range(len(max_shots_list))], rand_list, color='red')\n",
        "\n",
        "plt.xlabel('index of max_shots, num_lives, target combination')\n",
        "plt.ylabel('Percent win')\n",
        "plt.legend()\n",
        "plt.show()\n",
        "print('Combinations of max_shots, num_lives, target:', [(m,n,t) for m,n,t in zip(max_shots_list,num_lives_list, target_scores)])\n",
        "print(kbrl_list)\n",
        "print(rand_list)"
      ],
      "execution_count": 45,
      "outputs": [
        {
          "output_type": "display_data",
          "data": {
            "image/png": "[encoded data removed]",
            "text/plain": [
              "<matplotlib.figure.Figure at 0x7fbcb85c65f8>"
            ]
          },
          "metadata": {
            "tags": []
          }
        },
        {
          "output_type": "stream",
          "text": [
            "Combinations of max_shots, num_lives, target: [(6, 2, 20), (9, 3, 30), (12, 4, 40), (15, 5, 50), (18, 6, 60)]\n",
            "[0.0, 0.4225774225774226, 0.0, 0.34665334665334663, 0.5024975024975025]\n",
            "[0.15684315684315683, 0.1088911088911089, 0.055944055944055944, 0.03696303696303696, 0.02197802197802198]\n"
          ],
          "name": "stdout"
        }
      ]
    },
    {
      "metadata": {
        "id": "erH8NkGwuJjU",
        "colab_type": "text"
      },
      "cell_type": "markdown",
      "source": [
        "## Studying the effect of 3 different kernels on performance\n",
        "*   RBF kernel\n",
        "*   Chi-square kernel\n",
        "*   Additive Chi-square kernel\n",
        "\n"
      ]
    },
    {
      "metadata": {
        "id": "rFELxUuTo9ML",
        "colab_type": "code",
        "colab": {
          "autoexec": {
            "startup": false,
            "wait_interval": 0
          },
          "base_uri": "https://localhost:8080/",
          "height": 70
        },
        "outputId": "18e47df6-7a6a-4d31-cb4c-9e74e9395406",
        "executionInfo": {
          "status": "ok",
          "timestamp": 1524973481016,
          "user_tz": 240,
          "elapsed": 473850,
          "user": {
            "displayName": "Julyan KB",
            "photoUrl": "https://lh3.googleusercontent.com/a/default-user=s128",
            "userId": "115093888831353118479"
          }
        }
      },
      "cell_type": "code",
      "source": [
        "# Percentage wins lists for random/kbrl policies\n",
        "rand_list = []\n",
        "kbrl_list = []\n",
        "\n",
        "max_shots = 6\n",
        "num_lives = 2\n",
        "target_score = 20\n",
        "\n",
        "# Initialize envt\n",
        "env = environments.EnvChaseTarget(max_shots, num_lives, target_score)\n",
        "\n",
        "# Gather transitions\n",
        "t0,t1,t2,t3,r0,r1,r2,r3 = gather_transitions(n_samples=100, max_episodes=10000)\n",
        "\n",
        "# Define kernel metric\n",
        "metrics =['rbf', 'chi2', 'additive_chi2'] \n",
        "\n",
        "for metric in metrics:\n",
        "  print(metric)\n",
        "  # Create Theta and R matrices\n",
        "  Theta, R = convert_gathered_to_matrices(metric,t0,t1,t2,t3,r0,r1,r2,r3)\n",
        "\n",
        "  # List of gamma values to plot\n",
        "  gamma = 0.95\n",
        "\n",
        "  # Compute value function by iterating over update rule\n",
        "  vf = do_value_iteration(Theta, R, gamma, n_iter=1000)\n",
        "\n",
        "  # Play game according to random policy\n",
        "  random = play_game(env, vf, metric, gamma, n_episodes=1000, random_policy=True)\n",
        "  rand_list.append(random)\n",
        "\n",
        "  # Play game according to KBRL policy\n",
        "  kbrl = play_game(env, vf, metric, gamma, n_episodes=1000, random_policy=False)\n",
        "  kbrl_list.append(kbrl)"
      ],
      "execution_count": 67,
      "outputs": [
        {
          "output_type": "stream",
          "text": [
            "rbf\n",
            "chi2\n",
            "additive_chi2\n"
          ],
          "name": "stdout"
        }
      ]
    },
    {
      "metadata": {
        "id": "nx-fgpX9txSD",
        "colab_type": "code",
        "colab": {
          "autoexec": {
            "startup": false,
            "wait_interval": 0
          },
          "base_uri": "https://localhost:8080/",
          "height": 414
        },
        "outputId": "e6f5f56e-e991-4c5d-fe6d-80156f09112b",
        "executionInfo": {
          "status": "ok",
          "timestamp": 1524973727434,
          "user_tz": 240,
          "elapsed": 397,
          "user": {
            "displayName": "Julyan KB",
            "photoUrl": "https://lh3.googleusercontent.com/a/default-user=s128",
            "userId": "115093888831353118479"
          }
        }
      },
      "cell_type": "code",
      "source": [
        "plt.plot(kbrl_list, label='kbrl')\n",
        "plt.plot(rand_list, label='random')\n",
        "plt.scatter([i for i in range(len(metrics))], kbrl_list, color='red')\n",
        "plt.scatter([i for i in range(len(metrics))], rand_list, color='red')\n",
        "plt.xlabel('index of kernel metric')\n",
        "plt.ylabel('Percent win')\n",
        "plt.legend()\n",
        "plt.show()\n",
        "print('Kernel metrics:', metrics)\n",
        "print(kbrl_list)\n",
        "print(rand_list)"
      ],
      "execution_count": 68,
      "outputs": [
        {
          "output_type": "display_data",
          "data": {
            "image/png": "[encoded data removed]",
            "text/plain": [
              "<matplotlib.figure.Figure at 0x7fbcb8175748>"
            ]
          },
          "metadata": {
            "tags": []
          }
        },
        {
          "output_type": "stream",
          "text": [
            "Kernel metrics: ['rbf', 'chi2', 'additive_chi2']\n",
            "[0.4145854145854146, 0.4645354645354645, 0.6763236763236763]\n",
            "[0.12287712287712288, 0.16283716283716285, 0.15384615384615385]\n"
          ],
          "name": "stdout"
        }
      ]
    },
    {
      "metadata": {
        "id": "3lfGfwJFGLdx",
        "colab_type": "code",
        "colab": {
          "autoexec": {
            "startup": false,
            "wait_interval": 0
          },
          "base_uri": "https://localhost:8080/",
          "height": 140
        },
        "outputId": "a7131a2a-6781-4c2b-e371-a9227c2b0891",
        "executionInfo": {
          "status": "ok",
          "timestamp": 1524978923264,
          "user_tz": 240,
          "elapsed": 1104538,
          "user": {
            "displayName": "Julyan KB",
            "photoUrl": "https://lh3.googleusercontent.com/a/default-user=s128",
            "userId": "115093888831353118479"
          }
        }
      },
      "cell_type": "code",
      "source": [
        "# Percentage wins lists for random/kbrl policies\n",
        "rand_list = []\n",
        "kbrl_list = []\n",
        "\n",
        "max_shots = 6\n",
        "num_lives = 2\n",
        "target_score = 20\n",
        "\n",
        "# Initialize envt\n",
        "env = environments.EnvChaseTarget(max_shots, num_lives, target_score)\n",
        "\n",
        "# Gather transitions\n",
        "t0,t1,t2,t3,r0,r1,r2,r3 = gather_transitions(n_samples=100, max_episodes=10000)\n",
        "\n",
        "# Define kernel metric\n",
        "metrics =['rbf', 'chi2', 'additive_chi2'] \n",
        "\n",
        "# Create Theta and R matrices\n",
        "Theta, R = convert_gathered_to_matrices(metric,t0,t1,t2,t3,r0,r1,r2,r3)\n",
        "\n",
        "# List of gamma values to plot\n",
        "gamma = 0.95\n",
        "\n",
        "n_iters = [100,500,1000,1500,1800,5000,10000]\n",
        "for n_iter in n_iters:\n",
        "  print(n_iter)\n",
        "  # Compute value function by iterating over update rule\n",
        "  vf = do_value_iteration(Theta, R, gamma, n_iter=n_iter)\n",
        "\n",
        "  # Play game according to random policy\n",
        "  random = play_game(env, vf, metric, gamma, n_episodes=1000, random_policy=True)\n",
        "  rand_list.append(random)\n",
        "\n",
        "  # Play game according to KBRL policy\n",
        "  kbrl = play_game(env, vf, metric, gamma, n_episodes=1000, random_policy=False)\n",
        "  kbrl_list.append(kbrl)"
      ],
      "execution_count": 71,
      "outputs": [
        {
          "output_type": "stream",
          "text": [
            "100\n",
            "500\n",
            "1000\n",
            "1500\n",
            "1800\n",
            "5000\n",
            "10000\n"
          ],
          "name": "stdout"
        }
      ]
    },
    {
      "metadata": {
        "id": "q4nYRZOHHMVV",
        "colab_type": "code",
        "colab": {
          "autoexec": {
            "startup": false,
            "wait_interval": 0
          },
          "base_uri": "https://localhost:8080/",
          "height": 414
        },
        "outputId": "40fa8bcc-8bd8-4611-aca2-b7db1502be62",
        "executionInfo": {
          "status": "ok",
          "timestamp": 1524979595017,
          "user_tz": 240,
          "elapsed": 483,
          "user": {
            "displayName": "Julyan KB",
            "photoUrl": "https://lh3.googleusercontent.com/a/default-user=s128",
            "userId": "115093888831353118479"
          }
        }
      },
      "cell_type": "code",
      "source": [
        "plt.plot(n_iters, kbrl_list, label='kbrl')\n",
        "plt.plot(n_iters, rand_list, label='random')\n",
        "\n",
        "plt.scatter(n_iters, kbrl_list, color='red')\n",
        "plt.scatter(n_iters, rand_list, color='red')\n",
        "\n",
        "plt.xlabel('n iterations')\n",
        "plt.ylabel('Percent win')\n",
        "plt.legend()\n",
        "plt.show()\n",
        "print('n_iters:', n_iters)\n",
        "print(kbrl_list)\n",
        "print(rand_list)"
      ],
      "execution_count": 72,
      "outputs": [
        {
          "output_type": "display_data",
          "data": {
            "image/png": "[encoded data removed]",
            "text/plain": [
              "<matplotlib.figure.Figure at 0x7fbcba825e10>"
            ]
          },
          "metadata": {
            "tags": []
          }
        },
        {
          "output_type": "stream",
          "text": [
            "n_iters: [100, 500, 1000, 1500, 1800, 5000, 10000]\n",
            "[0.0, 0.0, 0.0, 0.0, 0.0, 0.0, 0.0]\n",
            "[0.12387612387612387, 0.15584415584415584, 0.14985014985014986, 0.13886113886113885, 0.15384615384615385, 0.16083916083916083, 0.14685314685314685]\n"
          ],
          "name": "stdout"
        }
      ]
    }
  ]
}