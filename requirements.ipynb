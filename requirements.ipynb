{
  "nbformat": 4,
  "nbformat_minor": 0,
  "metadata": {
    "colab": {
      "name": "requirements.ipynb",
      "version": "0.3.2",
      "provenance": []
    }
  },
  "cells": [
    {
      "metadata": {
        "id": "TLDDUl7vK1HS",
        "colab_type": "text"
      },
      "cell_type": "markdown",
      "source": [
        "# Requirements\n",
        "Below you can find a list of all the needed requirements for this project:\n",
        "\n",
        "<br>\n",
        "\n",
        "Column 1 | Column 2 | Column3 | Column 4\n",
        "--- | --- | --- | --- \n",
        "alabaster==0.7.10 | anaconda-client==1.6.3 | anaconda-navigator==1.6.2 | anaconda-project==0.6.0\n",
        "asn1crypto==0.22.0 | astroid==1.4.9 | astropy==2.0.1 | Babel==2.4.0\n",
        "backports.shutil-get-terminal-size==1.0.0 | beautifulsoup4==4.6.0 | biopython==1.69| bitarray==0.8.1\n",
        "blaze==0.10.1 | bleach==1.5.0 | bokeh==0.12.5 | boto==2.46.1\n",
        "Bottleneck==1.2.1 | cffi==1.10.0 | chardet==3.0.3 | click==6.7\n",
        "cloudpickle==0.2.2 | clyent==1.2.2 | colorama==0.3.9 | conda==4.5.0\n",
        "contextlib2==0.5.5 | cryptography==1.8.1 | cycler==0.10.0 | Cython==0.25.2\n",
        "cytoolz==0.8.2 | dask==0.14.3 | datashape==0.5.4 | decorator==4.0.11\n",
        "distributed==1.16.3 | docutils==0.13.1 | entrypoints==0.2.2 | et-xmlfile==1.0.1\n",
        "fastcache==1.0.2 | Flask==0.12.2 | Flask-Cors==3.0.2 | future==0.16.0\n",
        "gevent==1.2.1| greenlet==0.4.12 | gym==0.10.3 | h5py==2.7.0\n",
        "HeapDict==1.0.0 | hmmlearn==0.2.1 | html5lib==0.999 | idna==2.5\n",
        "imagesize==0.7.1 | ipykernel==4.6.1 | ipython==5.3.0| ipython-genutils==0.2.0\n",
        "ipywidgets==6.0.0 | isort==4.2.5 | itsdangerous==0.24 | jdcal==1.3\n",
        "jedi==0.10.2 | Jinja2==2.9.6 | jsonschema==2.6.0 | jupyter==1.0.0\n",
        "jupyter-client==5.0.1 | jupyter-console==5.1.0 | jupyter-core==4.3.0 | lazy-object-proxy==1.2.2\n",
        "llvmlite==0.19.0 | locket==0.2.0 | lxml==3.7.3 | MarkupSafe==0.23\n",
        "matplotlib==2.0.2 | mistune==0.7.4 | mkl-fft==1.0.0 | mkl-random==1.0.1\n",
        "mpmath==0.19 | msgpack-python==0.4.8 | multipledispatch==0.4.9 | navigator-updater==0.1.0\n",
        "nbconvert==5.1.1 | nbformat==4.3.0 | networkx==1.11| nltk==3.2.4\n",
        "nose==1.3.7 | notebook==5.0.0 | numba==0.34.0 | numexpr==2.6.4\n",
        "numpy==1.13.3 | numpydoc==0.6.0 | odo==0.5.0 | olefile==0.44\n",
        "openpyxl==2.4.7 | packaging==16.8 | pandas==0.20.3 | pandocfilters==1.4.1\n",
        "partd==0.3.8 | pathlib2==2.2.1 | patsy==0.4.1 | pep8==1.7.0\n",
        "pexpect==4.2.1 | pickleshare==0.7.4 | Pillow==4.1.1 | plotly==2.4.1\n",
        "ply==3.10 | prompt-toolkit==1.0.14 | psutil==5.2.2 | ptyprocess==0.5.1\n",
        "py==1.4.33 | pycolab==1.0 | pycosat==0.6.3 | pycparser==2.17\n",
        "pycrypto==2.6.1 | pycurl==7.43.0 | pyflakes==1.5.0 | pyglet==1.3.1\n",
        "Pygments==2.2.0 | pylint==1.6.4 | pyodbc==4.0.16 | pyOpenSSL==17.0.0\n",
        "pyparsing==2.1.4 | pytest==3.0.7 | python-dateutil==2.6.0 | pytz==2017.2\n",
        "PyWavelets==0.5.2 | PyYAML==3.12 | pyzmq==16.0.2 | QtAwesome==0.4.4\n",
        "qtconsole==4.3.0 | QtPy==1.2.1 | requests==2.14.2 | rope-py3k==0.9.4.post1\n",
        "scikit-image==0.13.0 | scikit-learn==0.19.1 | scipy==1.0.0 | seaborn==0.7.1\n",
        "simplegeneric==0.8.1 | singledispatch==3.4.0.3 | six==1.10.0 | snowballstemmer==1.2.1\n",
        "sortedcollections==0.5.3 | sortedcontainers==1.5.7 | Sphinx==1.5.6 | sphinx-gallery==0.1.13\n",
        "sphinx-rtd-theme==0.2.4 | spyder==3.1.4 | SQLAlchemy==1.1.9 | statsmodels==0.8.0\n",
        "sympy==1.0 | tables==3.4.2 | tblib==1.3.2 | terminado==0.6\n",
        "testpath==0.3 | toolz==0.8.2 | torch==0.3.1.post2 | torchvision==0.2.0\n",
        "tornado==4.5.1 | traitlets==4.3.2 | unicodecsv==0.14.1 | wcwidth==0.1.7\n",
        "Werkzeug==0.12.2 | widgetsnbextension==2.0.0 | wrapt==1.10.10 | xlrd==1.0.0\n",
        "XlsxWriter==0.9.6 | xlwt==1.2.0 | zict==0.1.2 |"
      ]
    }
  ]
}